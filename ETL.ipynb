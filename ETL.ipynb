{
 "cells": [
  {
   "cell_type": "markdown",
   "metadata": {},
   "source": [
    "<div style=\"font-size: 20pt; font-weight:bold; justify-content: center;\">ETL - Analysis of preventive measures (COVID-19) 1.1.2020. - 2.6.2020. </div>"
   ]
  },
  {
   "cell_type": "markdown",
   "metadata": {},
   "source": [
    "<div style=\"font-size: 15pt; font-weight:bold; text-align: center;\">ETL - Analiza preventivnih mjera (COVID-19) 1.1.2020. - 2.6.2020. </div>"
   ]
  },
  {
   "cell_type": "markdown",
   "metadata": {},
   "source": [
    "Part of the project for the _Data Warehouses and Business Intelligence_ course at _Faculty of Organisation and Informatics (FOI), Univesity of Zagreb_.\n",
    "\n",
    "Ovaj dokument sadrži ETL proces za izgradnju skladišta podataka koje će sadržavati podatke za analizu preventivnih mjera poduzetivh za vrijeme COVID-19 pandemije (u razdoblju 1.1 - 2.6.2020.)\n",
    "\n",
    "Podaci su preuzeti iz nekolicine izvora:"
   ]
  },
  {
   "cell_type": "markdown",
   "metadata": {
    "heading_collapsed": true
   },
   "source": [
    "## Reading into DF"
   ]
  },
  {
   "cell_type": "code",
   "execution_count": 1,
   "metadata": {
    "hidden": true
   },
   "outputs": [],
   "source": [
    "import pandas as pd"
   ]
  },
  {
   "cell_type": "code",
   "execution_count": 19,
   "metadata": {
    "hidden": true
   },
   "outputs": [],
   "source": [
    "df_measures_countries = pd.read_excel(\"data/measures_countries.xlsx\", sheet_name=\"Database\")"
   ]
  },
  {
   "cell_type": "code",
   "execution_count": 23,
   "metadata": {
    "hidden": true
   },
   "outputs": [],
   "source": [
    "df_income_level_countries = pd.read_excel(\"data/income_level_countries.xlsx\", sheet_name=\"Sheet1\")"
   ]
  },
  {
   "cell_type": "code",
   "execution_count": 26,
   "metadata": {
    "hidden": true
   },
   "outputs": [],
   "source": [
    "df_cases_by_country = pd.read_excel(\"data/cases_by_country.xlsx\", sheet_name=\"COVID-19-geographic-disbtributi\")"
   ]
  },
  {
   "cell_type": "code",
   "execution_count": 136,
   "metadata": {
    "hidden": true
   },
   "outputs": [],
   "source": [
    "df_measure_stringency_indexes = pd.read_csv(\"data/measure_stringency_indexes.csv\")"
   ]
  },
  {
   "cell_type": "markdown",
   "metadata": {
    "hidden": true
   },
   "source": [
    "Viewing data."
   ]
  },
  {
   "cell_type": "code",
   "execution_count": 20,
   "metadata": {
    "collapsed": true,
    "hidden": true
   },
   "outputs": [
    {
     "data": {
      "text/html": [
       "<div>\n",
       "<style scoped>\n",
       "    .dataframe tbody tr th:only-of-type {\n",
       "        vertical-align: middle;\n",
       "    }\n",
       "\n",
       "    .dataframe tbody tr th {\n",
       "        vertical-align: top;\n",
       "    }\n",
       "\n",
       "    .dataframe thead th {\n",
       "        text-align: right;\n",
       "    }\n",
       "</style>\n",
       "<table border=\"1\" class=\"dataframe\">\n",
       "  <thead>\n",
       "    <tr style=\"text-align: right;\">\n",
       "      <th></th>\n",
       "      <th>COUNTRY</th>\n",
       "      <th>ISO</th>\n",
       "      <th>REGION</th>\n",
       "      <th>LOG_TYPE</th>\n",
       "      <th>CATEGORY</th>\n",
       "      <th>MEASURE</th>\n",
       "      <th>TARGETED_POP_GROUP</th>\n",
       "      <th>COMMENTS</th>\n",
       "      <th>NON_COMPLIANCE</th>\n",
       "      <th>DATE_IMPLEMENTED</th>\n",
       "      <th>SOURCE</th>\n",
       "      <th>SOURCE_TYPE</th>\n",
       "      <th>LINK</th>\n",
       "      <th>ENTRY_DATE</th>\n",
       "      <th>Alternative source</th>\n",
       "    </tr>\n",
       "  </thead>\n",
       "  <tbody>\n",
       "    <tr>\n",
       "      <th>0</th>\n",
       "      <td>Netherlands</td>\n",
       "      <td>NLD</td>\n",
       "      <td>Europe</td>\n",
       "      <td>Phase-out measure</td>\n",
       "      <td>Social distancing</td>\n",
       "      <td>Schools closure</td>\n",
       "      <td>Yes</td>\n",
       "      <td>CHECK AGAIN CLOSER TO DATE: Secondary schools ...</td>\n",
       "      <td>Not applicable</td>\n",
       "      <td>2020-06-02</td>\n",
       "      <td>NL Government</td>\n",
       "      <td>Government</td>\n",
       "      <td>https://www.government.nl/topics/coronavirus-c...</td>\n",
       "      <td>2020-04-24</td>\n",
       "      <td>NaN</td>\n",
       "    </tr>\n",
       "    <tr>\n",
       "      <th>1</th>\n",
       "      <td>Czech Republic</td>\n",
       "      <td>CZE</td>\n",
       "      <td>Europe</td>\n",
       "      <td>Phase-out measure</td>\n",
       "      <td>Social distancing</td>\n",
       "      <td>Schools closure</td>\n",
       "      <td>Yes</td>\n",
       "      <td>Possibility of attendance at primary schools (...</td>\n",
       "      <td>Not applicable</td>\n",
       "      <td>2020-05-25</td>\n",
       "      <td>Government</td>\n",
       "      <td>Government</td>\n",
       "      <td>https://www.vlada.cz/en/media-centrum/aktualne...</td>\n",
       "      <td>2020-04-17</td>\n",
       "      <td>NaN</td>\n",
       "    </tr>\n",
       "    <tr>\n",
       "      <th>2</th>\n",
       "      <td>Czech Republic</td>\n",
       "      <td>CZE</td>\n",
       "      <td>Europe</td>\n",
       "      <td>Phase-out measure</td>\n",
       "      <td>Social distancing</td>\n",
       "      <td>Public services closure</td>\n",
       "      <td>Yes</td>\n",
       "      <td>Restaurants, accommodation services, taxi serv...</td>\n",
       "      <td>Not applicable</td>\n",
       "      <td>2020-05-25</td>\n",
       "      <td>Government</td>\n",
       "      <td>Government</td>\n",
       "      <td>https://www.vlada.cz/en/media-centrum/aktualne...</td>\n",
       "      <td>2020-04-26</td>\n",
       "      <td>NaN</td>\n",
       "    </tr>\n",
       "    <tr>\n",
       "      <th>3</th>\n",
       "      <td>Czech Republic</td>\n",
       "      <td>CZE</td>\n",
       "      <td>Europe</td>\n",
       "      <td>Phase-out measure</td>\n",
       "      <td>Social distancing</td>\n",
       "      <td>Public services closure</td>\n",
       "      <td>Yes</td>\n",
       "      <td>Theatres, cultural and sporting events (limit ...</td>\n",
       "      <td>Not applicable</td>\n",
       "      <td>2020-05-25</td>\n",
       "      <td>Government</td>\n",
       "      <td>Government</td>\n",
       "      <td>https://www.vlada.cz/en/media-centrum/aktualne...</td>\n",
       "      <td>2020-04-26</td>\n",
       "      <td>NaN</td>\n",
       "    </tr>\n",
       "    <tr>\n",
       "      <th>4</th>\n",
       "      <td>Luxembourg</td>\n",
       "      <td>LUX</td>\n",
       "      <td>Europe</td>\n",
       "      <td>Phase-out measure</td>\n",
       "      <td>Social distancing</td>\n",
       "      <td>Schools closure</td>\n",
       "      <td>Yes</td>\n",
       "      <td>Primary schools and Kindergartens resumed; und...</td>\n",
       "      <td>Not applicable</td>\n",
       "      <td>2020-05-25</td>\n",
       "      <td>Government</td>\n",
       "      <td>Government</td>\n",
       "      <td>https://gouvernement.lu/de/actualites/toutes_a...</td>\n",
       "      <td>2020-04-18</td>\n",
       "      <td>NaN</td>\n",
       "    </tr>\n",
       "  </tbody>\n",
       "</table>\n",
       "</div>"
      ],
      "text/plain": [
       "          COUNTRY  ISO  REGION           LOG_TYPE           CATEGORY  \\\n",
       "0     Netherlands  NLD  Europe  Phase-out measure  Social distancing   \n",
       "1  Czech Republic  CZE  Europe  Phase-out measure  Social distancing   \n",
       "2  Czech Republic  CZE  Europe  Phase-out measure  Social distancing   \n",
       "3  Czech Republic  CZE  Europe  Phase-out measure  Social distancing   \n",
       "4      Luxembourg  LUX  Europe  Phase-out measure  Social distancing   \n",
       "\n",
       "                    MEASURE TARGETED_POP_GROUP  \\\n",
       "0          Schools closure                 Yes   \n",
       "1          Schools closure                 Yes   \n",
       "2  Public services closure                 Yes   \n",
       "3  Public services closure                 Yes   \n",
       "4          Schools closure                 Yes   \n",
       "\n",
       "                                            COMMENTS  NON_COMPLIANCE  \\\n",
       "0  CHECK AGAIN CLOSER TO DATE: Secondary schools ...  Not applicable   \n",
       "1  Possibility of attendance at primary schools (...  Not applicable   \n",
       "2  Restaurants, accommodation services, taxi serv...  Not applicable   \n",
       "3  Theatres, cultural and sporting events (limit ...  Not applicable   \n",
       "4  Primary schools and Kindergartens resumed; und...  Not applicable   \n",
       "\n",
       "  DATE_IMPLEMENTED         SOURCE SOURCE_TYPE  \\\n",
       "0       2020-06-02  NL Government  Government   \n",
       "1       2020-05-25     Government  Government   \n",
       "2       2020-05-25     Government  Government   \n",
       "3       2020-05-25     Government  Government   \n",
       "4       2020-05-25     Government  Government   \n",
       "\n",
       "                                                LINK ENTRY_DATE  \\\n",
       "0  https://www.government.nl/topics/coronavirus-c... 2020-04-24   \n",
       "1  https://www.vlada.cz/en/media-centrum/aktualne... 2020-04-17   \n",
       "2  https://www.vlada.cz/en/media-centrum/aktualne... 2020-04-26   \n",
       "3  https://www.vlada.cz/en/media-centrum/aktualne... 2020-04-26   \n",
       "4  https://gouvernement.lu/de/actualites/toutes_a... 2020-04-18   \n",
       "\n",
       "  Alternative source  \n",
       "0                NaN  \n",
       "1                NaN  \n",
       "2                NaN  \n",
       "3                NaN  \n",
       "4                NaN  "
      ]
     },
     "execution_count": 20,
     "metadata": {},
     "output_type": "execute_result"
    }
   ],
   "source": [
    "df_measures_countries.head()"
   ]
  },
  {
   "cell_type": "code",
   "execution_count": 1610,
   "metadata": {
    "collapsed": true,
    "hidden": true
   },
   "outputs": [
    {
     "name": "stdout",
     "output_type": "stream",
     "text": [
      "<class 'pandas.core.frame.DataFrame'>\n",
      "RangeIndex: 7823 entries, 0 to 7822\n",
      "Data columns (total 15 columns):\n",
      "country               7823 non-null object\n",
      "iso                   7823 non-null object\n",
      "region                7821 non-null object\n",
      "log_type              7823 non-null object\n",
      "category              7820 non-null object\n",
      "measure               7823 non-null object\n",
      "targeted_pop_group    7823 non-null object\n",
      "comments              7683 non-null object\n",
      "non_compliance        6612 non-null object\n",
      "date_implemented      7601 non-null datetime64[ns]\n",
      "source                7807 non-null object\n",
      "source_type           7810 non-null object\n",
      "link                  7792 non-null object\n",
      "entry_date            7823 non-null datetime64[ns]\n",
      "alternative_source    712 non-null object\n",
      "dtypes: datetime64[ns](2), object(13)\n",
      "memory usage: 916.9+ KB\n"
     ]
    }
   ],
   "source": [
    "df_measures_countries.info()"
   ]
  },
  {
   "cell_type": "code",
   "execution_count": 24,
   "metadata": {
    "hidden": true
   },
   "outputs": [
    {
     "data": {
      "text/html": [
       "<div>\n",
       "<style scoped>\n",
       "    .dataframe tbody tr th:only-of-type {\n",
       "        vertical-align: middle;\n",
       "    }\n",
       "\n",
       "    .dataframe tbody tr th {\n",
       "        vertical-align: top;\n",
       "    }\n",
       "\n",
       "    .dataframe thead th {\n",
       "        text-align: right;\n",
       "    }\n",
       "</style>\n",
       "<table border=\"1\" class=\"dataframe\">\n",
       "  <thead>\n",
       "    <tr style=\"text-align: right;\">\n",
       "      <th></th>\n",
       "      <th>Country Code</th>\n",
       "      <th>Economy</th>\n",
       "      <th>Income Group 2020</th>\n",
       "    </tr>\n",
       "  </thead>\n",
       "  <tbody>\n",
       "    <tr>\n",
       "      <th>0</th>\n",
       "      <td>AFG</td>\n",
       "      <td>Afghanistan</td>\n",
       "      <td>Low income (L)</td>\n",
       "    </tr>\n",
       "    <tr>\n",
       "      <th>1</th>\n",
       "      <td>ALB</td>\n",
       "      <td>Albania</td>\n",
       "      <td>Upper middle income (UM)</td>\n",
       "    </tr>\n",
       "    <tr>\n",
       "      <th>2</th>\n",
       "      <td>DZA</td>\n",
       "      <td>Algeria</td>\n",
       "      <td>Upper middle income (UM)</td>\n",
       "    </tr>\n",
       "    <tr>\n",
       "      <th>3</th>\n",
       "      <td>ASM</td>\n",
       "      <td>American Samoa</td>\n",
       "      <td>Upper middle income (UM)</td>\n",
       "    </tr>\n",
       "    <tr>\n",
       "      <th>4</th>\n",
       "      <td>AND</td>\n",
       "      <td>Andorra</td>\n",
       "      <td>High income (H)</td>\n",
       "    </tr>\n",
       "  </tbody>\n",
       "</table>\n",
       "</div>"
      ],
      "text/plain": [
       "  Country Code         Economy         Income Group 2020\n",
       "0          AFG     Afghanistan            Low income (L)\n",
       "1          ALB         Albania  Upper middle income (UM)\n",
       "2          DZA         Algeria  Upper middle income (UM)\n",
       "3          ASM  American Samoa  Upper middle income (UM)\n",
       "4          AND         Andorra           High income (H)"
      ]
     },
     "execution_count": 24,
     "metadata": {},
     "output_type": "execute_result"
    }
   ],
   "source": [
    "df_income_level_countries.head()"
   ]
  },
  {
   "cell_type": "code",
   "execution_count": 27,
   "metadata": {
    "collapsed": true,
    "hidden": true
   },
   "outputs": [
    {
     "data": {
      "text/html": [
       "<div>\n",
       "<style scoped>\n",
       "    .dataframe tbody tr th:only-of-type {\n",
       "        vertical-align: middle;\n",
       "    }\n",
       "\n",
       "    .dataframe tbody tr th {\n",
       "        vertical-align: top;\n",
       "    }\n",
       "\n",
       "    .dataframe thead th {\n",
       "        text-align: right;\n",
       "    }\n",
       "</style>\n",
       "<table border=\"1\" class=\"dataframe\">\n",
       "  <thead>\n",
       "    <tr style=\"text-align: right;\">\n",
       "      <th></th>\n",
       "      <th>dateRep</th>\n",
       "      <th>day</th>\n",
       "      <th>month</th>\n",
       "      <th>year</th>\n",
       "      <th>cases</th>\n",
       "      <th>deaths</th>\n",
       "      <th>countriesAndTerritories</th>\n",
       "      <th>geoId</th>\n",
       "      <th>countryterritoryCode</th>\n",
       "      <th>popData2018</th>\n",
       "      <th>continentExp</th>\n",
       "    </tr>\n",
       "  </thead>\n",
       "  <tbody>\n",
       "    <tr>\n",
       "      <th>0</th>\n",
       "      <td>2020-06-02</td>\n",
       "      <td>2</td>\n",
       "      <td>6</td>\n",
       "      <td>2020</td>\n",
       "      <td>545</td>\n",
       "      <td>8</td>\n",
       "      <td>Afghanistan</td>\n",
       "      <td>AF</td>\n",
       "      <td>AFG</td>\n",
       "      <td>37172386.0</td>\n",
       "      <td>Asia</td>\n",
       "    </tr>\n",
       "    <tr>\n",
       "      <th>1</th>\n",
       "      <td>2020-06-01</td>\n",
       "      <td>1</td>\n",
       "      <td>6</td>\n",
       "      <td>2020</td>\n",
       "      <td>680</td>\n",
       "      <td>8</td>\n",
       "      <td>Afghanistan</td>\n",
       "      <td>AF</td>\n",
       "      <td>AFG</td>\n",
       "      <td>37172386.0</td>\n",
       "      <td>Asia</td>\n",
       "    </tr>\n",
       "    <tr>\n",
       "      <th>2</th>\n",
       "      <td>2020-05-31</td>\n",
       "      <td>31</td>\n",
       "      <td>5</td>\n",
       "      <td>2020</td>\n",
       "      <td>866</td>\n",
       "      <td>3</td>\n",
       "      <td>Afghanistan</td>\n",
       "      <td>AF</td>\n",
       "      <td>AFG</td>\n",
       "      <td>37172386.0</td>\n",
       "      <td>Asia</td>\n",
       "    </tr>\n",
       "    <tr>\n",
       "      <th>3</th>\n",
       "      <td>2020-05-30</td>\n",
       "      <td>30</td>\n",
       "      <td>5</td>\n",
       "      <td>2020</td>\n",
       "      <td>623</td>\n",
       "      <td>11</td>\n",
       "      <td>Afghanistan</td>\n",
       "      <td>AF</td>\n",
       "      <td>AFG</td>\n",
       "      <td>37172386.0</td>\n",
       "      <td>Asia</td>\n",
       "    </tr>\n",
       "    <tr>\n",
       "      <th>4</th>\n",
       "      <td>2020-05-29</td>\n",
       "      <td>29</td>\n",
       "      <td>5</td>\n",
       "      <td>2020</td>\n",
       "      <td>580</td>\n",
       "      <td>8</td>\n",
       "      <td>Afghanistan</td>\n",
       "      <td>AF</td>\n",
       "      <td>AFG</td>\n",
       "      <td>37172386.0</td>\n",
       "      <td>Asia</td>\n",
       "    </tr>\n",
       "  </tbody>\n",
       "</table>\n",
       "</div>"
      ],
      "text/plain": [
       "     dateRep  day  month  year  cases  deaths countriesAndTerritories geoId  \\\n",
       "0 2020-06-02    2      6  2020    545       8             Afghanistan    AF   \n",
       "1 2020-06-01    1      6  2020    680       8             Afghanistan    AF   \n",
       "2 2020-05-31   31      5  2020    866       3             Afghanistan    AF   \n",
       "3 2020-05-30   30      5  2020    623      11             Afghanistan    AF   \n",
       "4 2020-05-29   29      5  2020    580       8             Afghanistan    AF   \n",
       "\n",
       "  countryterritoryCode  popData2018 continentExp  \n",
       "0                  AFG   37172386.0         Asia  \n",
       "1                  AFG   37172386.0         Asia  \n",
       "2                  AFG   37172386.0         Asia  \n",
       "3                  AFG   37172386.0         Asia  \n",
       "4                  AFG   37172386.0         Asia  "
      ]
     },
     "execution_count": 27,
     "metadata": {},
     "output_type": "execute_result"
    }
   ],
   "source": [
    "df_cases_by_country.head()"
   ]
  },
  {
   "cell_type": "code",
   "execution_count": 1611,
   "metadata": {
    "hidden": true
   },
   "outputs": [
    {
     "data": {
      "text/html": [
       "<div>\n",
       "<style scoped>\n",
       "    .dataframe tbody tr th:only-of-type {\n",
       "        vertical-align: middle;\n",
       "    }\n",
       "\n",
       "    .dataframe tbody tr th {\n",
       "        vertical-align: top;\n",
       "    }\n",
       "\n",
       "    .dataframe thead th {\n",
       "        text-align: right;\n",
       "    }\n",
       "</style>\n",
       "<table border=\"1\" class=\"dataframe\">\n",
       "  <thead>\n",
       "    <tr style=\"text-align: right;\">\n",
       "      <th></th>\n",
       "      <th>country_name</th>\n",
       "      <th>country_code</th>\n",
       "      <th>date</th>\n",
       "      <th>stringency_index</th>\n",
       "      <th>government_response_index</th>\n",
       "      <th>containment_health_index</th>\n",
       "      <th>economic_support_index</th>\n",
       "    </tr>\n",
       "  </thead>\n",
       "  <tbody>\n",
       "    <tr>\n",
       "      <th>0</th>\n",
       "      <td>Aruba</td>\n",
       "      <td>ABW</td>\n",
       "      <td>2020-01-01</td>\n",
       "      <td>0.0</td>\n",
       "      <td>0.0</td>\n",
       "      <td>0.0</td>\n",
       "      <td>0.0</td>\n",
       "    </tr>\n",
       "    <tr>\n",
       "      <th>1</th>\n",
       "      <td>Aruba</td>\n",
       "      <td>ABW</td>\n",
       "      <td>2020-01-02</td>\n",
       "      <td>0.0</td>\n",
       "      <td>0.0</td>\n",
       "      <td>0.0</td>\n",
       "      <td>0.0</td>\n",
       "    </tr>\n",
       "    <tr>\n",
       "      <th>2</th>\n",
       "      <td>Aruba</td>\n",
       "      <td>ABW</td>\n",
       "      <td>2020-01-03</td>\n",
       "      <td>0.0</td>\n",
       "      <td>0.0</td>\n",
       "      <td>0.0</td>\n",
       "      <td>0.0</td>\n",
       "    </tr>\n",
       "    <tr>\n",
       "      <th>3</th>\n",
       "      <td>Aruba</td>\n",
       "      <td>ABW</td>\n",
       "      <td>2020-01-04</td>\n",
       "      <td>0.0</td>\n",
       "      <td>0.0</td>\n",
       "      <td>0.0</td>\n",
       "      <td>0.0</td>\n",
       "    </tr>\n",
       "    <tr>\n",
       "      <th>4</th>\n",
       "      <td>Aruba</td>\n",
       "      <td>ABW</td>\n",
       "      <td>2020-01-05</td>\n",
       "      <td>0.0</td>\n",
       "      <td>0.0</td>\n",
       "      <td>0.0</td>\n",
       "      <td>0.0</td>\n",
       "    </tr>\n",
       "  </tbody>\n",
       "</table>\n",
       "</div>"
      ],
      "text/plain": [
       "  country_name country_code       date  stringency_index  \\\n",
       "0        Aruba          ABW 2020-01-01               0.0   \n",
       "1        Aruba          ABW 2020-01-02               0.0   \n",
       "2        Aruba          ABW 2020-01-03               0.0   \n",
       "3        Aruba          ABW 2020-01-04               0.0   \n",
       "4        Aruba          ABW 2020-01-05               0.0   \n",
       "\n",
       "   government_response_index  containment_health_index  economic_support_index  \n",
       "0                        0.0                       0.0                     0.0  \n",
       "1                        0.0                       0.0                     0.0  \n",
       "2                        0.0                       0.0                     0.0  \n",
       "3                        0.0                       0.0                     0.0  \n",
       "4                        0.0                       0.0                     0.0  "
      ]
     },
     "execution_count": 1611,
     "metadata": {},
     "output_type": "execute_result"
    }
   ],
   "source": [
    "df_measure_stringency_indexes.head()"
   ]
  },
  {
   "cell_type": "markdown",
   "metadata": {
    "heading_collapsed": true
   },
   "source": [
    "## Cleaning the data"
   ]
  },
  {
   "cell_type": "markdown",
   "metadata": {
    "heading_collapsed": true,
    "hidden": true
   },
   "source": [
    "### Dropping columns from Stringency index dataset"
   ]
  },
  {
   "cell_type": "code",
   "execution_count": 58,
   "metadata": {
    "collapsed": true,
    "hidden": true
   },
   "outputs": [
    {
     "data": {
      "text/html": [
       "<div>\n",
       "<style scoped>\n",
       "    .dataframe tbody tr th:only-of-type {\n",
       "        vertical-align: middle;\n",
       "    }\n",
       "\n",
       "    .dataframe tbody tr th {\n",
       "        vertical-align: top;\n",
       "    }\n",
       "\n",
       "    .dataframe thead th {\n",
       "        text-align: right;\n",
       "    }\n",
       "</style>\n",
       "<table border=\"1\" class=\"dataframe\">\n",
       "  <thead>\n",
       "    <tr style=\"text-align: right;\">\n",
       "      <th></th>\n",
       "      <th>CountryName</th>\n",
       "      <th>CountryCode</th>\n",
       "      <th>Date</th>\n",
       "      <th>C1_School closing</th>\n",
       "      <th>C1_Flag</th>\n",
       "      <th>C2_Workplace closing</th>\n",
       "      <th>C2_Flag</th>\n",
       "      <th>C3_Cancel public events</th>\n",
       "      <th>C3_Flag</th>\n",
       "      <th>C4_Restrictions on gatherings</th>\n",
       "      <th>...</th>\n",
       "      <th>StringencyIndex</th>\n",
       "      <th>StringencyIndexForDisplay</th>\n",
       "      <th>StringencyLegacyIndex</th>\n",
       "      <th>StringencyLegacyIndexForDisplay</th>\n",
       "      <th>GovernmentResponseIndex</th>\n",
       "      <th>GovernmentResponseIndexForDisplay</th>\n",
       "      <th>ContainmentHealthIndex</th>\n",
       "      <th>ContainmentHealthIndexForDisplay</th>\n",
       "      <th>EconomicSupportIndex</th>\n",
       "      <th>EconomicSupportIndexForDisplay</th>\n",
       "    </tr>\n",
       "  </thead>\n",
       "  <tbody>\n",
       "    <tr>\n",
       "      <th>0</th>\n",
       "      <td>Aruba</td>\n",
       "      <td>ABW</td>\n",
       "      <td>20200101</td>\n",
       "      <td>0.0</td>\n",
       "      <td>NaN</td>\n",
       "      <td>0.0</td>\n",
       "      <td>NaN</td>\n",
       "      <td>0.0</td>\n",
       "      <td>NaN</td>\n",
       "      <td>0.0</td>\n",
       "      <td>...</td>\n",
       "      <td>0.0</td>\n",
       "      <td>0.0</td>\n",
       "      <td>0.0</td>\n",
       "      <td>0.0</td>\n",
       "      <td>0.0</td>\n",
       "      <td>0.0</td>\n",
       "      <td>0.0</td>\n",
       "      <td>0.0</td>\n",
       "      <td>0.0</td>\n",
       "      <td>0.0</td>\n",
       "    </tr>\n",
       "    <tr>\n",
       "      <th>1</th>\n",
       "      <td>Aruba</td>\n",
       "      <td>ABW</td>\n",
       "      <td>20200102</td>\n",
       "      <td>0.0</td>\n",
       "      <td>NaN</td>\n",
       "      <td>0.0</td>\n",
       "      <td>NaN</td>\n",
       "      <td>0.0</td>\n",
       "      <td>NaN</td>\n",
       "      <td>0.0</td>\n",
       "      <td>...</td>\n",
       "      <td>0.0</td>\n",
       "      <td>0.0</td>\n",
       "      <td>0.0</td>\n",
       "      <td>0.0</td>\n",
       "      <td>0.0</td>\n",
       "      <td>0.0</td>\n",
       "      <td>0.0</td>\n",
       "      <td>0.0</td>\n",
       "      <td>0.0</td>\n",
       "      <td>0.0</td>\n",
       "    </tr>\n",
       "    <tr>\n",
       "      <th>2</th>\n",
       "      <td>Aruba</td>\n",
       "      <td>ABW</td>\n",
       "      <td>20200103</td>\n",
       "      <td>0.0</td>\n",
       "      <td>NaN</td>\n",
       "      <td>0.0</td>\n",
       "      <td>NaN</td>\n",
       "      <td>0.0</td>\n",
       "      <td>NaN</td>\n",
       "      <td>0.0</td>\n",
       "      <td>...</td>\n",
       "      <td>0.0</td>\n",
       "      <td>0.0</td>\n",
       "      <td>0.0</td>\n",
       "      <td>0.0</td>\n",
       "      <td>0.0</td>\n",
       "      <td>0.0</td>\n",
       "      <td>0.0</td>\n",
       "      <td>0.0</td>\n",
       "      <td>0.0</td>\n",
       "      <td>0.0</td>\n",
       "    </tr>\n",
       "    <tr>\n",
       "      <th>3</th>\n",
       "      <td>Aruba</td>\n",
       "      <td>ABW</td>\n",
       "      <td>20200104</td>\n",
       "      <td>0.0</td>\n",
       "      <td>NaN</td>\n",
       "      <td>0.0</td>\n",
       "      <td>NaN</td>\n",
       "      <td>0.0</td>\n",
       "      <td>NaN</td>\n",
       "      <td>0.0</td>\n",
       "      <td>...</td>\n",
       "      <td>0.0</td>\n",
       "      <td>0.0</td>\n",
       "      <td>0.0</td>\n",
       "      <td>0.0</td>\n",
       "      <td>0.0</td>\n",
       "      <td>0.0</td>\n",
       "      <td>0.0</td>\n",
       "      <td>0.0</td>\n",
       "      <td>0.0</td>\n",
       "      <td>0.0</td>\n",
       "    </tr>\n",
       "    <tr>\n",
       "      <th>4</th>\n",
       "      <td>Aruba</td>\n",
       "      <td>ABW</td>\n",
       "      <td>20200105</td>\n",
       "      <td>0.0</td>\n",
       "      <td>NaN</td>\n",
       "      <td>0.0</td>\n",
       "      <td>NaN</td>\n",
       "      <td>0.0</td>\n",
       "      <td>NaN</td>\n",
       "      <td>0.0</td>\n",
       "      <td>...</td>\n",
       "      <td>0.0</td>\n",
       "      <td>0.0</td>\n",
       "      <td>0.0</td>\n",
       "      <td>0.0</td>\n",
       "      <td>0.0</td>\n",
       "      <td>0.0</td>\n",
       "      <td>0.0</td>\n",
       "      <td>0.0</td>\n",
       "      <td>0.0</td>\n",
       "      <td>0.0</td>\n",
       "    </tr>\n",
       "  </tbody>\n",
       "</table>\n",
       "<p>5 rows × 42 columns</p>\n",
       "</div>"
      ],
      "text/plain": [
       "  CountryName CountryCode      Date  C1_School closing  C1_Flag  \\\n",
       "0       Aruba         ABW  20200101                0.0      NaN   \n",
       "1       Aruba         ABW  20200102                0.0      NaN   \n",
       "2       Aruba         ABW  20200103                0.0      NaN   \n",
       "3       Aruba         ABW  20200104                0.0      NaN   \n",
       "4       Aruba         ABW  20200105                0.0      NaN   \n",
       "\n",
       "   C2_Workplace closing  C2_Flag  C3_Cancel public events  C3_Flag  \\\n",
       "0                   0.0      NaN                      0.0      NaN   \n",
       "1                   0.0      NaN                      0.0      NaN   \n",
       "2                   0.0      NaN                      0.0      NaN   \n",
       "3                   0.0      NaN                      0.0      NaN   \n",
       "4                   0.0      NaN                      0.0      NaN   \n",
       "\n",
       "   C4_Restrictions on gatherings  ...  StringencyIndex  \\\n",
       "0                            0.0  ...              0.0   \n",
       "1                            0.0  ...              0.0   \n",
       "2                            0.0  ...              0.0   \n",
       "3                            0.0  ...              0.0   \n",
       "4                            0.0  ...              0.0   \n",
       "\n",
       "   StringencyIndexForDisplay  StringencyLegacyIndex  \\\n",
       "0                        0.0                    0.0   \n",
       "1                        0.0                    0.0   \n",
       "2                        0.0                    0.0   \n",
       "3                        0.0                    0.0   \n",
       "4                        0.0                    0.0   \n",
       "\n",
       "   StringencyLegacyIndexForDisplay  GovernmentResponseIndex  \\\n",
       "0                              0.0                      0.0   \n",
       "1                              0.0                      0.0   \n",
       "2                              0.0                      0.0   \n",
       "3                              0.0                      0.0   \n",
       "4                              0.0                      0.0   \n",
       "\n",
       "   GovernmentResponseIndexForDisplay  ContainmentHealthIndex  \\\n",
       "0                                0.0                     0.0   \n",
       "1                                0.0                     0.0   \n",
       "2                                0.0                     0.0   \n",
       "3                                0.0                     0.0   \n",
       "4                                0.0                     0.0   \n",
       "\n",
       "   ContainmentHealthIndexForDisplay  EconomicSupportIndex  \\\n",
       "0                               0.0                   0.0   \n",
       "1                               0.0                   0.0   \n",
       "2                               0.0                   0.0   \n",
       "3                               0.0                   0.0   \n",
       "4                               0.0                   0.0   \n",
       "\n",
       "   EconomicSupportIndexForDisplay  \n",
       "0                             0.0  \n",
       "1                             0.0  \n",
       "2                             0.0  \n",
       "3                             0.0  \n",
       "4                             0.0  \n",
       "\n",
       "[5 rows x 42 columns]"
      ]
     },
     "execution_count": 58,
     "metadata": {},
     "output_type": "execute_result"
    }
   ],
   "source": [
    "df_measure_stringency_indexes.head()"
   ]
  },
  {
   "cell_type": "code",
   "execution_count": 137,
   "metadata": {
    "collapsed": true,
    "hidden": true
   },
   "outputs": [
    {
     "data": {
      "text/plain": [
       "Index(['CountryName', 'CountryCode', 'Date', 'C1_School closing', 'C1_Flag',\n",
       "       'C2_Workplace closing', 'C2_Flag', 'C3_Cancel public events', 'C3_Flag',\n",
       "       'C4_Restrictions on gatherings', 'C4_Flag', 'C5_Close public transport',\n",
       "       'C5_Flag', 'C6_Stay at home requirements', 'C6_Flag',\n",
       "       'C7_Restrictions on internal movement', 'C7_Flag',\n",
       "       'C8_International travel controls', 'E1_Income support', 'E1_Flag',\n",
       "       'E2_Debt/contract relief', 'E3_Fiscal measures',\n",
       "       'E4_International support', 'H1_Public information campaigns',\n",
       "       'H1_Flag', 'H2_Testing policy', 'H3_Contact tracing',\n",
       "       'H4_Emergency investment in healthcare', 'H5_Investment in vaccines',\n",
       "       'M1_Wildcard', 'ConfirmedCases', 'ConfirmedDeaths', 'StringencyIndex',\n",
       "       'StringencyIndexForDisplay', 'StringencyLegacyIndex',\n",
       "       'StringencyLegacyIndexForDisplay', 'GovernmentResponseIndex',\n",
       "       'GovernmentResponseIndexForDisplay', 'ContainmentHealthIndex',\n",
       "       'ContainmentHealthIndexForDisplay', 'EconomicSupportIndex',\n",
       "       'EconomicSupportIndexForDisplay'],\n",
       "      dtype='object')"
      ]
     },
     "execution_count": 137,
     "metadata": {},
     "output_type": "execute_result"
    }
   ],
   "source": [
    "df_measure_stringency_indexes.columns"
   ]
  },
  {
   "cell_type": "code",
   "execution_count": 138,
   "metadata": {
    "hidden": true
   },
   "outputs": [],
   "source": [
    "cols = df_measure_stringency_indexes.columns[3:-10]"
   ]
  },
  {
   "cell_type": "code",
   "execution_count": 61,
   "metadata": {
    "collapsed": true,
    "hidden": true
   },
   "outputs": [
    {
     "data": {
      "text/plain": [
       "Index(['C1_School closing', 'C1_Flag', 'C2_Workplace closing', 'C2_Flag',\n",
       "       'C3_Cancel public events', 'C3_Flag', 'C4_Restrictions on gatherings',\n",
       "       'C4_Flag', 'C5_Close public transport', 'C5_Flag',\n",
       "       'C6_Stay at home requirements', 'C6_Flag',\n",
       "       'C7_Restrictions on internal movement', 'C7_Flag',\n",
       "       'C8_International travel controls', 'E1_Income support', 'E1_Flag',\n",
       "       'E2_Debt/contract relief', 'E3_Fiscal measures',\n",
       "       'E4_International support', 'H1_Public information campaigns',\n",
       "       'H1_Flag', 'H2_Testing policy', 'H3_Contact tracing',\n",
       "       'H4_Emergency investment in healthcare', 'H5_Investment in vaccines',\n",
       "       'M1_Wildcard', 'ConfirmedCases', 'ConfirmedDeaths'],\n",
       "      dtype='object')"
      ]
     },
     "execution_count": 61,
     "metadata": {},
     "output_type": "execute_result"
    }
   ],
   "source": [
    "cols"
   ]
  },
  {
   "cell_type": "code",
   "execution_count": 139,
   "metadata": {
    "hidden": true
   },
   "outputs": [],
   "source": [
    "df_measure_stringency_indexes = df_measure_stringency_indexes.drop(columns=cols)"
   ]
  },
  {
   "cell_type": "code",
   "execution_count": 235,
   "metadata": {
    "hidden": true
   },
   "outputs": [
    {
     "data": {
      "text/plain": [
       "Index(['CountryName', 'CountryCode', 'Date', 'StringencyIndex',\n",
       "       'StringencyIndexForDisplay', 'StringencyLegacyIndex',\n",
       "       'StringencyLegacyIndexForDisplay', 'GovernmentResponseIndex',\n",
       "       'GovernmentResponseIndexForDisplay', 'ContainmentHealthIndex',\n",
       "       'ContainmentHealthIndexForDisplay', 'EconomicSupportIndex',\n",
       "       'EconomicSupportIndexForDisplay'],\n",
       "      dtype='object')"
      ]
     },
     "execution_count": 235,
     "metadata": {},
     "output_type": "execute_result"
    }
   ],
   "source": [
    "df_measure_stringency_indexes.columns"
   ]
  },
  {
   "cell_type": "code",
   "execution_count": 237,
   "metadata": {
    "hidden": true
   },
   "outputs": [],
   "source": [
    "df_measure_stringency_indexes = df_measure_stringency_indexes[[\"CountryName\", \"CountryCode\", \"Date\", \"StringencyIndexForDisplay\",\n",
    "                                         \"GovernmentResponseIndexForDisplay\", \"ContainmentHealthIndexForDisplay\",\n",
    "                                         \"EconomicSupportIndexForDisplay\"]]"
   ]
  },
  {
   "cell_type": "code",
   "execution_count": 239,
   "metadata": {
    "hidden": true
   },
   "outputs": [],
   "source": [
    "df_measure_stringency_indexes.columns = [\"country_name\", \"country_code\", \"date\", \"stringency_index\",\n",
    "                                         \"government_response_index\", \"containment_health_index\",\n",
    "                                         \"economic_support_index\"]"
   ]
  },
  {
   "cell_type": "code",
   "execution_count": 240,
   "metadata": {
    "hidden": true
   },
   "outputs": [
    {
     "data": {
      "text/html": [
       "<div>\n",
       "<style scoped>\n",
       "    .dataframe tbody tr th:only-of-type {\n",
       "        vertical-align: middle;\n",
       "    }\n",
       "\n",
       "    .dataframe tbody tr th {\n",
       "        vertical-align: top;\n",
       "    }\n",
       "\n",
       "    .dataframe thead th {\n",
       "        text-align: right;\n",
       "    }\n",
       "</style>\n",
       "<table border=\"1\" class=\"dataframe\">\n",
       "  <thead>\n",
       "    <tr style=\"text-align: right;\">\n",
       "      <th></th>\n",
       "      <th>country_name</th>\n",
       "      <th>country_code</th>\n",
       "      <th>date</th>\n",
       "      <th>stringency_index</th>\n",
       "      <th>government_response_index</th>\n",
       "      <th>containment_health_index</th>\n",
       "      <th>economic_support_index</th>\n",
       "    </tr>\n",
       "  </thead>\n",
       "  <tbody>\n",
       "    <tr>\n",
       "      <th>0</th>\n",
       "      <td>Aruba</td>\n",
       "      <td>ABW</td>\n",
       "      <td>2020-01-01</td>\n",
       "      <td>0.0</td>\n",
       "      <td>0.0</td>\n",
       "      <td>0.0</td>\n",
       "      <td>0.0</td>\n",
       "    </tr>\n",
       "    <tr>\n",
       "      <th>1</th>\n",
       "      <td>Aruba</td>\n",
       "      <td>ABW</td>\n",
       "      <td>2020-01-02</td>\n",
       "      <td>0.0</td>\n",
       "      <td>0.0</td>\n",
       "      <td>0.0</td>\n",
       "      <td>0.0</td>\n",
       "    </tr>\n",
       "    <tr>\n",
       "      <th>2</th>\n",
       "      <td>Aruba</td>\n",
       "      <td>ABW</td>\n",
       "      <td>2020-01-03</td>\n",
       "      <td>0.0</td>\n",
       "      <td>0.0</td>\n",
       "      <td>0.0</td>\n",
       "      <td>0.0</td>\n",
       "    </tr>\n",
       "    <tr>\n",
       "      <th>3</th>\n",
       "      <td>Aruba</td>\n",
       "      <td>ABW</td>\n",
       "      <td>2020-01-04</td>\n",
       "      <td>0.0</td>\n",
       "      <td>0.0</td>\n",
       "      <td>0.0</td>\n",
       "      <td>0.0</td>\n",
       "    </tr>\n",
       "    <tr>\n",
       "      <th>4</th>\n",
       "      <td>Aruba</td>\n",
       "      <td>ABW</td>\n",
       "      <td>2020-01-05</td>\n",
       "      <td>0.0</td>\n",
       "      <td>0.0</td>\n",
       "      <td>0.0</td>\n",
       "      <td>0.0</td>\n",
       "    </tr>\n",
       "  </tbody>\n",
       "</table>\n",
       "</div>"
      ],
      "text/plain": [
       "  country_name country_code       date  stringency_index  \\\n",
       "0        Aruba          ABW 2020-01-01               0.0   \n",
       "1        Aruba          ABW 2020-01-02               0.0   \n",
       "2        Aruba          ABW 2020-01-03               0.0   \n",
       "3        Aruba          ABW 2020-01-04               0.0   \n",
       "4        Aruba          ABW 2020-01-05               0.0   \n",
       "\n",
       "   government_response_index  containment_health_index  economic_support_index  \n",
       "0                        0.0                       0.0                     0.0  \n",
       "1                        0.0                       0.0                     0.0  \n",
       "2                        0.0                       0.0                     0.0  \n",
       "3                        0.0                       0.0                     0.0  \n",
       "4                        0.0                       0.0                     0.0  "
      ]
     },
     "execution_count": 240,
     "metadata": {},
     "output_type": "execute_result"
    }
   ],
   "source": [
    "df_measure_stringency_indexes.head()"
   ]
  },
  {
   "cell_type": "markdown",
   "metadata": {
    "heading_collapsed": true,
    "hidden": true
   },
   "source": [
    "### Changing data types in Stringency index dataset"
   ]
  },
  {
   "cell_type": "code",
   "execution_count": 140,
   "metadata": {
    "hidden": true
   },
   "outputs": [
    {
     "name": "stdout",
     "output_type": "stream",
     "text": [
      "<class 'pandas.core.frame.DataFrame'>\n",
      "RangeIndex: 15994 entries, 0 to 15993\n",
      "Data columns (total 13 columns):\n",
      "CountryName                          15994 non-null object\n",
      "CountryCode                          15994 non-null object\n",
      "Date                                 15994 non-null int64\n",
      "StringencyIndex                      15505 non-null float64\n",
      "StringencyIndexForDisplay            15773 non-null float64\n",
      "StringencyLegacyIndex                15508 non-null float64\n",
      "StringencyLegacyIndexForDisplay      15773 non-null float64\n",
      "GovernmentResponseIndex              15496 non-null float64\n",
      "GovernmentResponseIndexForDisplay    15769 non-null float64\n",
      "ContainmentHealthIndex               15501 non-null float64\n",
      "ContainmentHealthIndexForDisplay     15773 non-null float64\n",
      "EconomicSupportIndex                 15473 non-null float64\n",
      "EconomicSupportIndexForDisplay       15740 non-null float64\n",
      "dtypes: float64(10), int64(1), object(2)\n",
      "memory usage: 1.6+ MB\n"
     ]
    }
   ],
   "source": [
    "df_measure_stringency_indexes.info()"
   ]
  },
  {
   "cell_type": "code",
   "execution_count": 153,
   "metadata": {
    "hidden": true
   },
   "outputs": [],
   "source": [
    "df_measure_stringency_indexes[\"Date\"] = pd.to_datetime(df_measure_stringency_indexes[\"Date\"], format=\"%Y%m%d\", errors='coerce')"
   ]
  },
  {
   "cell_type": "markdown",
   "metadata": {
    "heading_collapsed": true,
    "hidden": true
   },
   "source": [
    "### Checking date format of all tables"
   ]
  },
  {
   "cell_type": "code",
   "execution_count": 159,
   "metadata": {
    "hidden": true
   },
   "outputs": [
    {
     "data": {
      "text/plain": [
       "0   2020-01-01\n",
       "1   2020-01-02\n",
       "2   2020-01-03\n",
       "3   2020-01-04\n",
       "4   2020-01-05\n",
       "Name: Date, dtype: datetime64[ns]"
      ]
     },
     "execution_count": 159,
     "metadata": {},
     "output_type": "execute_result"
    }
   ],
   "source": [
    "df_measure_stringency_indexes[\"Date\"].head()"
   ]
  },
  {
   "cell_type": "markdown",
   "metadata": {
    "hidden": true
   },
   "source": [
    "Korištenje QGrid okvira za lakše i brže pregledavanje podataka."
   ]
  },
  {
   "cell_type": "code",
   "execution_count": 160,
   "metadata": {
    "hidden": true
   },
   "outputs": [
    {
     "data": {
      "text/plain": [
       "0   2020-06-02\n",
       "1   2020-06-01\n",
       "2   2020-05-31\n",
       "3   2020-05-30\n",
       "4   2020-05-29\n",
       "Name: dateRep, dtype: datetime64[ns]"
      ]
     },
     "execution_count": 160,
     "metadata": {},
     "output_type": "execute_result"
    }
   ],
   "source": [
    "df_cases_by_country[\"dateRep\"].head()"
   ]
  },
  {
   "cell_type": "code",
   "execution_count": 162,
   "metadata": {
    "hidden": true,
    "scrolled": true
   },
   "outputs": [
    {
     "data": {
      "text/plain": [
       "0   2020-06-02\n",
       "1   2020-05-25\n",
       "2   2020-05-25\n",
       "3   2020-05-25\n",
       "4   2020-05-25\n",
       "Name: DATE_IMPLEMENTED, dtype: datetime64[ns]"
      ]
     },
     "execution_count": 162,
     "metadata": {},
     "output_type": "execute_result"
    }
   ],
   "source": [
    "df_measures_countries[\"DATE_IMPLEMENTED\"].head()"
   ]
  },
  {
   "cell_type": "markdown",
   "metadata": {
    "heading_collapsed": true,
    "hidden": true
   },
   "source": [
    "### Formatting column names"
   ]
  },
  {
   "cell_type": "markdown",
   "metadata": {
    "hidden": true
   },
   "source": [
    "Column format for all tables will be:\n",
    "* lowercase\n",
    "* dunders instead spaces"
   ]
  },
  {
   "cell_type": "markdown",
   "metadata": {
    "heading_collapsed": true,
    "hidden": true
   },
   "source": [
    "#### Formatting cases_by_country"
   ]
  },
  {
   "cell_type": "code",
   "execution_count": 207,
   "metadata": {
    "hidden": true
   },
   "outputs": [
    {
     "data": {
      "text/html": [
       "<div>\n",
       "<style scoped>\n",
       "    .dataframe tbody tr th:only-of-type {\n",
       "        vertical-align: middle;\n",
       "    }\n",
       "\n",
       "    .dataframe tbody tr th {\n",
       "        vertical-align: top;\n",
       "    }\n",
       "\n",
       "    .dataframe thead th {\n",
       "        text-align: right;\n",
       "    }\n",
       "</style>\n",
       "<table border=\"1\" class=\"dataframe\">\n",
       "  <thead>\n",
       "    <tr style=\"text-align: right;\">\n",
       "      <th></th>\n",
       "      <th>date_rep</th>\n",
       "      <th>day</th>\n",
       "      <th>month</th>\n",
       "      <th>year</th>\n",
       "      <th>cases</th>\n",
       "      <th>deaths</th>\n",
       "      <th>countries_and_territories</th>\n",
       "      <th>geo_id</th>\n",
       "      <th>country_territory_code</th>\n",
       "      <th>pop_data_2018</th>\n",
       "      <th>contient</th>\n",
       "    </tr>\n",
       "  </thead>\n",
       "  <tbody>\n",
       "    <tr>\n",
       "      <th>0</th>\n",
       "      <td>2020-06-02</td>\n",
       "      <td>2</td>\n",
       "      <td>6</td>\n",
       "      <td>2020</td>\n",
       "      <td>545</td>\n",
       "      <td>8</td>\n",
       "      <td>Afghanistan</td>\n",
       "      <td>AF</td>\n",
       "      <td>AFG</td>\n",
       "      <td>37172386.0</td>\n",
       "      <td>Asia</td>\n",
       "    </tr>\n",
       "    <tr>\n",
       "      <th>1</th>\n",
       "      <td>2020-06-01</td>\n",
       "      <td>1</td>\n",
       "      <td>6</td>\n",
       "      <td>2020</td>\n",
       "      <td>680</td>\n",
       "      <td>8</td>\n",
       "      <td>Afghanistan</td>\n",
       "      <td>AF</td>\n",
       "      <td>AFG</td>\n",
       "      <td>37172386.0</td>\n",
       "      <td>Asia</td>\n",
       "    </tr>\n",
       "    <tr>\n",
       "      <th>2</th>\n",
       "      <td>2020-05-31</td>\n",
       "      <td>31</td>\n",
       "      <td>5</td>\n",
       "      <td>2020</td>\n",
       "      <td>866</td>\n",
       "      <td>3</td>\n",
       "      <td>Afghanistan</td>\n",
       "      <td>AF</td>\n",
       "      <td>AFG</td>\n",
       "      <td>37172386.0</td>\n",
       "      <td>Asia</td>\n",
       "    </tr>\n",
       "    <tr>\n",
       "      <th>3</th>\n",
       "      <td>2020-05-30</td>\n",
       "      <td>30</td>\n",
       "      <td>5</td>\n",
       "      <td>2020</td>\n",
       "      <td>623</td>\n",
       "      <td>11</td>\n",
       "      <td>Afghanistan</td>\n",
       "      <td>AF</td>\n",
       "      <td>AFG</td>\n",
       "      <td>37172386.0</td>\n",
       "      <td>Asia</td>\n",
       "    </tr>\n",
       "    <tr>\n",
       "      <th>4</th>\n",
       "      <td>2020-05-29</td>\n",
       "      <td>29</td>\n",
       "      <td>5</td>\n",
       "      <td>2020</td>\n",
       "      <td>580</td>\n",
       "      <td>8</td>\n",
       "      <td>Afghanistan</td>\n",
       "      <td>AF</td>\n",
       "      <td>AFG</td>\n",
       "      <td>37172386.0</td>\n",
       "      <td>Asia</td>\n",
       "    </tr>\n",
       "  </tbody>\n",
       "</table>\n",
       "</div>"
      ],
      "text/plain": [
       "    date_rep  day  month  year  cases  deaths countries_and_territories  \\\n",
       "0 2020-06-02    2      6  2020    545       8               Afghanistan   \n",
       "1 2020-06-01    1      6  2020    680       8               Afghanistan   \n",
       "2 2020-05-31   31      5  2020    866       3               Afghanistan   \n",
       "3 2020-05-30   30      5  2020    623      11               Afghanistan   \n",
       "4 2020-05-29   29      5  2020    580       8               Afghanistan   \n",
       "\n",
       "  geo_id country_territory_code  pop_data_2018 contient  \n",
       "0     AF                    AFG     37172386.0     Asia  \n",
       "1     AF                    AFG     37172386.0     Asia  \n",
       "2     AF                    AFG     37172386.0     Asia  \n",
       "3     AF                    AFG     37172386.0     Asia  \n",
       "4     AF                    AFG     37172386.0     Asia  "
      ]
     },
     "execution_count": 207,
     "metadata": {},
     "output_type": "execute_result"
    }
   ],
   "source": [
    "df_cases_by_country.head()"
   ]
  },
  {
   "cell_type": "code",
   "execution_count": 194,
   "metadata": {
    "hidden": true
   },
   "outputs": [],
   "source": [
    "new_col_names = []\n",
    "\n",
    "for c in df_cases_by_country.columns:\n",
    "    for i,letter in enumerate(c):\n",
    "        if letter.isupper() or letter.isdigit():\n",
    "            c = c[:i] + \"_\" + c[i:]\n",
    "    c = c.lower()\n",
    "    new_col_names.append(c)"
   ]
  },
  {
   "cell_type": "code",
   "execution_count": 195,
   "metadata": {
    "hidden": true
   },
   "outputs": [
    {
     "data": {
      "text/plain": [
       "['date_rep',\n",
       " 'day',\n",
       " 'month',\n",
       " 'year',\n",
       " 'cases',\n",
       " 'deaths',\n",
       " 'countries_an_dterritories',\n",
       " 'geo_id',\n",
       " 'countryterritory_code',\n",
       " 'pop_dat____a2018',\n",
       " 'continent_exp']"
      ]
     },
     "execution_count": 195,
     "metadata": {},
     "output_type": "execute_result"
    }
   ],
   "source": [
    "new_col_names"
   ]
  },
  {
   "cell_type": "code",
   "execution_count": 196,
   "metadata": {
    "hidden": true
   },
   "outputs": [],
   "source": [
    "new_col_names[6] = \"countries_and_territories\"\n",
    "new_col_names[8] = \"country_territory_code\"\n",
    "new_col_names[9] = \"pop_data_2018\"\n",
    "new_col_names[10] = \"contient\""
   ]
  },
  {
   "cell_type": "code",
   "execution_count": 198,
   "metadata": {
    "hidden": true
   },
   "outputs": [
    {
     "data": {
      "text/plain": [
       "['date_rep',\n",
       " 'day',\n",
       " 'month',\n",
       " 'year',\n",
       " 'cases',\n",
       " 'deaths',\n",
       " 'countries_and_territories',\n",
       " 'geo_id',\n",
       " 'country_territory_code',\n",
       " 'pop_data_2018',\n",
       " 'contient']"
      ]
     },
     "execution_count": 198,
     "metadata": {},
     "output_type": "execute_result"
    }
   ],
   "source": [
    "new_col_names"
   ]
  },
  {
   "cell_type": "code",
   "execution_count": 204,
   "metadata": {
    "hidden": true
   },
   "outputs": [],
   "source": [
    "df_cases_by_country.columns = new_col_names"
   ]
  },
  {
   "cell_type": "code",
   "execution_count": 210,
   "metadata": {
    "hidden": true,
    "scrolled": true
   },
   "outputs": [
    {
     "data": {
      "text/html": [
       "<div>\n",
       "<style scoped>\n",
       "    .dataframe tbody tr th:only-of-type {\n",
       "        vertical-align: middle;\n",
       "    }\n",
       "\n",
       "    .dataframe tbody tr th {\n",
       "        vertical-align: top;\n",
       "    }\n",
       "\n",
       "    .dataframe thead th {\n",
       "        text-align: right;\n",
       "    }\n",
       "</style>\n",
       "<table border=\"1\" class=\"dataframe\">\n",
       "  <thead>\n",
       "    <tr style=\"text-align: right;\">\n",
       "      <th></th>\n",
       "      <th>date_rep</th>\n",
       "      <th>day</th>\n",
       "      <th>month</th>\n",
       "      <th>year</th>\n",
       "      <th>cases</th>\n",
       "      <th>deaths</th>\n",
       "      <th>countries_and_territories</th>\n",
       "      <th>geo_id</th>\n",
       "      <th>country_territory_code</th>\n",
       "      <th>pop_data_2018</th>\n",
       "      <th>contient</th>\n",
       "    </tr>\n",
       "  </thead>\n",
       "  <tbody>\n",
       "    <tr>\n",
       "      <th>0</th>\n",
       "      <td>2020-06-02</td>\n",
       "      <td>2</td>\n",
       "      <td>6</td>\n",
       "      <td>2020</td>\n",
       "      <td>545</td>\n",
       "      <td>8</td>\n",
       "      <td>Afghanistan</td>\n",
       "      <td>AF</td>\n",
       "      <td>AFG</td>\n",
       "      <td>37172386.0</td>\n",
       "      <td>Asia</td>\n",
       "    </tr>\n",
       "    <tr>\n",
       "      <th>1</th>\n",
       "      <td>2020-06-01</td>\n",
       "      <td>1</td>\n",
       "      <td>6</td>\n",
       "      <td>2020</td>\n",
       "      <td>680</td>\n",
       "      <td>8</td>\n",
       "      <td>Afghanistan</td>\n",
       "      <td>AF</td>\n",
       "      <td>AFG</td>\n",
       "      <td>37172386.0</td>\n",
       "      <td>Asia</td>\n",
       "    </tr>\n",
       "    <tr>\n",
       "      <th>2</th>\n",
       "      <td>2020-05-31</td>\n",
       "      <td>31</td>\n",
       "      <td>5</td>\n",
       "      <td>2020</td>\n",
       "      <td>866</td>\n",
       "      <td>3</td>\n",
       "      <td>Afghanistan</td>\n",
       "      <td>AF</td>\n",
       "      <td>AFG</td>\n",
       "      <td>37172386.0</td>\n",
       "      <td>Asia</td>\n",
       "    </tr>\n",
       "    <tr>\n",
       "      <th>3</th>\n",
       "      <td>2020-05-30</td>\n",
       "      <td>30</td>\n",
       "      <td>5</td>\n",
       "      <td>2020</td>\n",
       "      <td>623</td>\n",
       "      <td>11</td>\n",
       "      <td>Afghanistan</td>\n",
       "      <td>AF</td>\n",
       "      <td>AFG</td>\n",
       "      <td>37172386.0</td>\n",
       "      <td>Asia</td>\n",
       "    </tr>\n",
       "    <tr>\n",
       "      <th>4</th>\n",
       "      <td>2020-05-29</td>\n",
       "      <td>29</td>\n",
       "      <td>5</td>\n",
       "      <td>2020</td>\n",
       "      <td>580</td>\n",
       "      <td>8</td>\n",
       "      <td>Afghanistan</td>\n",
       "      <td>AF</td>\n",
       "      <td>AFG</td>\n",
       "      <td>37172386.0</td>\n",
       "      <td>Asia</td>\n",
       "    </tr>\n",
       "  </tbody>\n",
       "</table>\n",
       "</div>"
      ],
      "text/plain": [
       "    date_rep  day  month  year  cases  deaths countries_and_territories  \\\n",
       "0 2020-06-02    2      6  2020    545       8               Afghanistan   \n",
       "1 2020-06-01    1      6  2020    680       8               Afghanistan   \n",
       "2 2020-05-31   31      5  2020    866       3               Afghanistan   \n",
       "3 2020-05-30   30      5  2020    623      11               Afghanistan   \n",
       "4 2020-05-29   29      5  2020    580       8               Afghanistan   \n",
       "\n",
       "  geo_id country_territory_code  pop_data_2018 contient  \n",
       "0     AF                    AFG     37172386.0     Asia  \n",
       "1     AF                    AFG     37172386.0     Asia  \n",
       "2     AF                    AFG     37172386.0     Asia  \n",
       "3     AF                    AFG     37172386.0     Asia  \n",
       "4     AF                    AFG     37172386.0     Asia  "
      ]
     },
     "execution_count": 210,
     "metadata": {},
     "output_type": "execute_result"
    }
   ],
   "source": [
    "df_cases_by_country.head()"
   ]
  },
  {
   "cell_type": "markdown",
   "metadata": {
    "heading_collapsed": true,
    "hidden": true
   },
   "source": [
    "#### Formatting income_level_countries"
   ]
  },
  {
   "cell_type": "code",
   "execution_count": 227,
   "metadata": {
    "hidden": true
   },
   "outputs": [
    {
     "data": {
      "text/html": [
       "<div>\n",
       "<style scoped>\n",
       "    .dataframe tbody tr th:only-of-type {\n",
       "        vertical-align: middle;\n",
       "    }\n",
       "\n",
       "    .dataframe tbody tr th {\n",
       "        vertical-align: top;\n",
       "    }\n",
       "\n",
       "    .dataframe thead th {\n",
       "        text-align: right;\n",
       "    }\n",
       "</style>\n",
       "<table border=\"1\" class=\"dataframe\">\n",
       "  <thead>\n",
       "    <tr style=\"text-align: right;\">\n",
       "      <th></th>\n",
       "      <th>Country Code</th>\n",
       "      <th>Economy</th>\n",
       "      <th>Income Group 2020</th>\n",
       "    </tr>\n",
       "  </thead>\n",
       "  <tbody>\n",
       "    <tr>\n",
       "      <th>0</th>\n",
       "      <td>AFG</td>\n",
       "      <td>Afghanistan</td>\n",
       "      <td>Low income (L)</td>\n",
       "    </tr>\n",
       "    <tr>\n",
       "      <th>1</th>\n",
       "      <td>ALB</td>\n",
       "      <td>Albania</td>\n",
       "      <td>Upper middle income (UM)</td>\n",
       "    </tr>\n",
       "    <tr>\n",
       "      <th>2</th>\n",
       "      <td>DZA</td>\n",
       "      <td>Algeria</td>\n",
       "      <td>Upper middle income (UM)</td>\n",
       "    </tr>\n",
       "    <tr>\n",
       "      <th>3</th>\n",
       "      <td>ASM</td>\n",
       "      <td>American Samoa</td>\n",
       "      <td>Upper middle income (UM)</td>\n",
       "    </tr>\n",
       "    <tr>\n",
       "      <th>4</th>\n",
       "      <td>AND</td>\n",
       "      <td>Andorra</td>\n",
       "      <td>High income (H)</td>\n",
       "    </tr>\n",
       "  </tbody>\n",
       "</table>\n",
       "</div>"
      ],
      "text/plain": [
       "  Country Code         Economy         Income Group 2020\n",
       "0          AFG     Afghanistan            Low income (L)\n",
       "1          ALB         Albania  Upper middle income (UM)\n",
       "2          DZA         Algeria  Upper middle income (UM)\n",
       "3          ASM  American Samoa  Upper middle income (UM)\n",
       "4          AND         Andorra           High income (H)"
      ]
     },
     "execution_count": 227,
     "metadata": {},
     "output_type": "execute_result"
    }
   ],
   "source": [
    "df_income_level_countries.head()"
   ]
  },
  {
   "cell_type": "code",
   "execution_count": 228,
   "metadata": {
    "hidden": true
   },
   "outputs": [],
   "source": [
    "new_col_names = []\n",
    "\n",
    "for c in df_income_level_countries.columns:\n",
    "    c = c.replace(\" \",\"_\").lower()\n",
    "    new_col_names.append(c)"
   ]
  },
  {
   "cell_type": "code",
   "execution_count": 229,
   "metadata": {
    "hidden": true
   },
   "outputs": [],
   "source": [
    "df_income_level_countries.columns = new_col_names"
   ]
  },
  {
   "cell_type": "markdown",
   "metadata": {
    "heading_collapsed": true,
    "hidden": true
   },
   "source": [
    "#### Formatting measures_countries"
   ]
  },
  {
   "cell_type": "code",
   "execution_count": 243,
   "metadata": {
    "hidden": true
   },
   "outputs": [
    {
     "data": {
      "text/plain": [
       "Index(['COUNTRY', 'ISO', 'REGION', 'LOG_TYPE', 'CATEGORY', 'MEASURE',\n",
       "       'TARGETED_POP_GROUP', 'COMMENTS', 'NON_COMPLIANCE', 'DATE_IMPLEMENTED',\n",
       "       'SOURCE', 'SOURCE_TYPE', 'LINK', 'ENTRY_DATE', 'Alternative source'],\n",
       "      dtype='object')"
      ]
     },
     "execution_count": 243,
     "metadata": {},
     "output_type": "execute_result"
    }
   ],
   "source": [
    "df_measures_countries.columns"
   ]
  },
  {
   "cell_type": "code",
   "execution_count": 245,
   "metadata": {
    "hidden": true
   },
   "outputs": [
    {
     "data": {
      "text/plain": [
       "['country',\n",
       " 'iso',\n",
       " 'region',\n",
       " 'log_type',\n",
       " 'category',\n",
       " 'measure',\n",
       " 'targeted_pop_group',\n",
       " 'comments',\n",
       " 'non_compliance',\n",
       " 'date_implemented',\n",
       " 'source',\n",
       " 'source_type',\n",
       " 'link',\n",
       " 'entry_date',\n",
       " 'alternative_source']"
      ]
     },
     "execution_count": 245,
     "metadata": {},
     "output_type": "execute_result"
    }
   ],
   "source": [
    "new_col_names = df_measures_countries.columns\n",
    "\n",
    "new_col_names = [col.lower().replace(\" \", \"_\") for col in new_col_names]\n",
    "\n",
    "new_col_names"
   ]
  },
  {
   "cell_type": "code",
   "execution_count": 248,
   "metadata": {
    "hidden": true
   },
   "outputs": [],
   "source": [
    "df_measures_countries.columns = new_col_names"
   ]
  },
  {
   "cell_type": "code",
   "execution_count": 249,
   "metadata": {
    "collapsed": true,
    "hidden": true
   },
   "outputs": [
    {
     "data": {
      "text/html": [
       "<div>\n",
       "<style scoped>\n",
       "    .dataframe tbody tr th:only-of-type {\n",
       "        vertical-align: middle;\n",
       "    }\n",
       "\n",
       "    .dataframe tbody tr th {\n",
       "        vertical-align: top;\n",
       "    }\n",
       "\n",
       "    .dataframe thead th {\n",
       "        text-align: right;\n",
       "    }\n",
       "</style>\n",
       "<table border=\"1\" class=\"dataframe\">\n",
       "  <thead>\n",
       "    <tr style=\"text-align: right;\">\n",
       "      <th></th>\n",
       "      <th>country</th>\n",
       "      <th>iso</th>\n",
       "      <th>region</th>\n",
       "      <th>log_type</th>\n",
       "      <th>category</th>\n",
       "      <th>measure</th>\n",
       "      <th>targeted_pop_group</th>\n",
       "      <th>comments</th>\n",
       "      <th>non_compliance</th>\n",
       "      <th>date_implemented</th>\n",
       "      <th>source</th>\n",
       "      <th>source_type</th>\n",
       "      <th>link</th>\n",
       "      <th>entry_date</th>\n",
       "      <th>alternative_source</th>\n",
       "    </tr>\n",
       "  </thead>\n",
       "  <tbody>\n",
       "    <tr>\n",
       "      <th>0</th>\n",
       "      <td>Netherlands</td>\n",
       "      <td>NLD</td>\n",
       "      <td>Europe</td>\n",
       "      <td>Phase-out measure</td>\n",
       "      <td>Social distancing</td>\n",
       "      <td>Schools closure</td>\n",
       "      <td>Yes</td>\n",
       "      <td>CHECK AGAIN CLOSER TO DATE: Secondary schools ...</td>\n",
       "      <td>Not applicable</td>\n",
       "      <td>2020-06-02</td>\n",
       "      <td>NL Government</td>\n",
       "      <td>Government</td>\n",
       "      <td>https://www.government.nl/topics/coronavirus-c...</td>\n",
       "      <td>2020-04-24</td>\n",
       "      <td>NaN</td>\n",
       "    </tr>\n",
       "    <tr>\n",
       "      <th>1</th>\n",
       "      <td>Czech Republic</td>\n",
       "      <td>CZE</td>\n",
       "      <td>Europe</td>\n",
       "      <td>Phase-out measure</td>\n",
       "      <td>Social distancing</td>\n",
       "      <td>Schools closure</td>\n",
       "      <td>Yes</td>\n",
       "      <td>Possibility of attendance at primary schools (...</td>\n",
       "      <td>Not applicable</td>\n",
       "      <td>2020-05-25</td>\n",
       "      <td>Government</td>\n",
       "      <td>Government</td>\n",
       "      <td>https://www.vlada.cz/en/media-centrum/aktualne...</td>\n",
       "      <td>2020-04-17</td>\n",
       "      <td>NaN</td>\n",
       "    </tr>\n",
       "    <tr>\n",
       "      <th>2</th>\n",
       "      <td>Czech Republic</td>\n",
       "      <td>CZE</td>\n",
       "      <td>Europe</td>\n",
       "      <td>Phase-out measure</td>\n",
       "      <td>Social distancing</td>\n",
       "      <td>Public services closure</td>\n",
       "      <td>Yes</td>\n",
       "      <td>Restaurants, accommodation services, taxi serv...</td>\n",
       "      <td>Not applicable</td>\n",
       "      <td>2020-05-25</td>\n",
       "      <td>Government</td>\n",
       "      <td>Government</td>\n",
       "      <td>https://www.vlada.cz/en/media-centrum/aktualne...</td>\n",
       "      <td>2020-04-26</td>\n",
       "      <td>NaN</td>\n",
       "    </tr>\n",
       "    <tr>\n",
       "      <th>3</th>\n",
       "      <td>Czech Republic</td>\n",
       "      <td>CZE</td>\n",
       "      <td>Europe</td>\n",
       "      <td>Phase-out measure</td>\n",
       "      <td>Social distancing</td>\n",
       "      <td>Public services closure</td>\n",
       "      <td>Yes</td>\n",
       "      <td>Theatres, cultural and sporting events (limit ...</td>\n",
       "      <td>Not applicable</td>\n",
       "      <td>2020-05-25</td>\n",
       "      <td>Government</td>\n",
       "      <td>Government</td>\n",
       "      <td>https://www.vlada.cz/en/media-centrum/aktualne...</td>\n",
       "      <td>2020-04-26</td>\n",
       "      <td>NaN</td>\n",
       "    </tr>\n",
       "    <tr>\n",
       "      <th>4</th>\n",
       "      <td>Luxembourg</td>\n",
       "      <td>LUX</td>\n",
       "      <td>Europe</td>\n",
       "      <td>Phase-out measure</td>\n",
       "      <td>Social distancing</td>\n",
       "      <td>Schools closure</td>\n",
       "      <td>Yes</td>\n",
       "      <td>Primary schools and Kindergartens resumed; und...</td>\n",
       "      <td>Not applicable</td>\n",
       "      <td>2020-05-25</td>\n",
       "      <td>Government</td>\n",
       "      <td>Government</td>\n",
       "      <td>https://gouvernement.lu/de/actualites/toutes_a...</td>\n",
       "      <td>2020-04-18</td>\n",
       "      <td>NaN</td>\n",
       "    </tr>\n",
       "  </tbody>\n",
       "</table>\n",
       "</div>"
      ],
      "text/plain": [
       "          country  iso  region           log_type           category  \\\n",
       "0     Netherlands  NLD  Europe  Phase-out measure  Social distancing   \n",
       "1  Czech Republic  CZE  Europe  Phase-out measure  Social distancing   \n",
       "2  Czech Republic  CZE  Europe  Phase-out measure  Social distancing   \n",
       "3  Czech Republic  CZE  Europe  Phase-out measure  Social distancing   \n",
       "4      Luxembourg  LUX  Europe  Phase-out measure  Social distancing   \n",
       "\n",
       "                    measure targeted_pop_group  \\\n",
       "0          Schools closure                 Yes   \n",
       "1          Schools closure                 Yes   \n",
       "2  Public services closure                 Yes   \n",
       "3  Public services closure                 Yes   \n",
       "4          Schools closure                 Yes   \n",
       "\n",
       "                                            comments  non_compliance  \\\n",
       "0  CHECK AGAIN CLOSER TO DATE: Secondary schools ...  Not applicable   \n",
       "1  Possibility of attendance at primary schools (...  Not applicable   \n",
       "2  Restaurants, accommodation services, taxi serv...  Not applicable   \n",
       "3  Theatres, cultural and sporting events (limit ...  Not applicable   \n",
       "4  Primary schools and Kindergartens resumed; und...  Not applicable   \n",
       "\n",
       "  date_implemented         source source_type  \\\n",
       "0       2020-06-02  NL Government  Government   \n",
       "1       2020-05-25     Government  Government   \n",
       "2       2020-05-25     Government  Government   \n",
       "3       2020-05-25     Government  Government   \n",
       "4       2020-05-25     Government  Government   \n",
       "\n",
       "                                                link entry_date  \\\n",
       "0  https://www.government.nl/topics/coronavirus-c... 2020-04-24   \n",
       "1  https://www.vlada.cz/en/media-centrum/aktualne... 2020-04-17   \n",
       "2  https://www.vlada.cz/en/media-centrum/aktualne... 2020-04-26   \n",
       "3  https://www.vlada.cz/en/media-centrum/aktualne... 2020-04-26   \n",
       "4  https://gouvernement.lu/de/actualites/toutes_a... 2020-04-18   \n",
       "\n",
       "  alternative_source  \n",
       "0                NaN  \n",
       "1                NaN  \n",
       "2                NaN  \n",
       "3                NaN  \n",
       "4                NaN  "
      ]
     },
     "execution_count": 249,
     "metadata": {},
     "output_type": "execute_result"
    }
   ],
   "source": [
    "df_measures_countries.head()"
   ]
  },
  {
   "cell_type": "markdown",
   "metadata": {
    "heading_collapsed": true
   },
   "source": [
    "## Merging data"
   ]
  },
  {
   "cell_type": "markdown",
   "metadata": {
    "hidden": true
   },
   "source": [
    "Merging all 4 seperate dataframes into one big dataframe that will become DW Fact tabel - __measure_day_fact__"
   ]
  },
  {
   "cell_type": "markdown",
   "metadata": {
    "heading_collapsed": true,
    "hidden": true
   },
   "source": [
    "### Merging _cases_by_country_ to _income_level_countries_"
   ]
  },
  {
   "cell_type": "markdown",
   "metadata": {
    "hidden": true
   },
   "source": [
    "First merging _cases_by_country_ with _income_level_countries_ on ___country_territory_code___ == ___country_code___"
   ]
  },
  {
   "cell_type": "code",
   "execution_count": 1102,
   "metadata": {
    "hidden": true,
    "scrolled": true
   },
   "outputs": [
    {
     "data": {
      "text/html": [
       "<div>\n",
       "<style scoped>\n",
       "    .dataframe tbody tr th:only-of-type {\n",
       "        vertical-align: middle;\n",
       "    }\n",
       "\n",
       "    .dataframe tbody tr th {\n",
       "        vertical-align: top;\n",
       "    }\n",
       "\n",
       "    .dataframe thead th {\n",
       "        text-align: right;\n",
       "    }\n",
       "</style>\n",
       "<table border=\"1\" class=\"dataframe\">\n",
       "  <thead>\n",
       "    <tr style=\"text-align: right;\">\n",
       "      <th></th>\n",
       "      <th>date_rep</th>\n",
       "      <th>day</th>\n",
       "      <th>month</th>\n",
       "      <th>year</th>\n",
       "      <th>cases</th>\n",
       "      <th>deaths</th>\n",
       "      <th>countries_and_territories</th>\n",
       "      <th>geo_id</th>\n",
       "      <th>country_territory_code</th>\n",
       "      <th>pop_data_2018</th>\n",
       "      <th>contient</th>\n",
       "    </tr>\n",
       "  </thead>\n",
       "  <tbody>\n",
       "    <tr>\n",
       "      <th>0</th>\n",
       "      <td>2020-06-02</td>\n",
       "      <td>2</td>\n",
       "      <td>6</td>\n",
       "      <td>2020</td>\n",
       "      <td>545</td>\n",
       "      <td>8</td>\n",
       "      <td>Afghanistan</td>\n",
       "      <td>AF</td>\n",
       "      <td>AFG</td>\n",
       "      <td>37172386.0</td>\n",
       "      <td>Asia</td>\n",
       "    </tr>\n",
       "    <tr>\n",
       "      <th>1</th>\n",
       "      <td>2020-06-01</td>\n",
       "      <td>1</td>\n",
       "      <td>6</td>\n",
       "      <td>2020</td>\n",
       "      <td>680</td>\n",
       "      <td>8</td>\n",
       "      <td>Afghanistan</td>\n",
       "      <td>AF</td>\n",
       "      <td>AFG</td>\n",
       "      <td>37172386.0</td>\n",
       "      <td>Asia</td>\n",
       "    </tr>\n",
       "    <tr>\n",
       "      <th>2</th>\n",
       "      <td>2020-05-31</td>\n",
       "      <td>31</td>\n",
       "      <td>5</td>\n",
       "      <td>2020</td>\n",
       "      <td>866</td>\n",
       "      <td>3</td>\n",
       "      <td>Afghanistan</td>\n",
       "      <td>AF</td>\n",
       "      <td>AFG</td>\n",
       "      <td>37172386.0</td>\n",
       "      <td>Asia</td>\n",
       "    </tr>\n",
       "    <tr>\n",
       "      <th>3</th>\n",
       "      <td>2020-05-30</td>\n",
       "      <td>30</td>\n",
       "      <td>5</td>\n",
       "      <td>2020</td>\n",
       "      <td>623</td>\n",
       "      <td>11</td>\n",
       "      <td>Afghanistan</td>\n",
       "      <td>AF</td>\n",
       "      <td>AFG</td>\n",
       "      <td>37172386.0</td>\n",
       "      <td>Asia</td>\n",
       "    </tr>\n",
       "    <tr>\n",
       "      <th>4</th>\n",
       "      <td>2020-05-29</td>\n",
       "      <td>29</td>\n",
       "      <td>5</td>\n",
       "      <td>2020</td>\n",
       "      <td>580</td>\n",
       "      <td>8</td>\n",
       "      <td>Afghanistan</td>\n",
       "      <td>AF</td>\n",
       "      <td>AFG</td>\n",
       "      <td>37172386.0</td>\n",
       "      <td>Asia</td>\n",
       "    </tr>\n",
       "  </tbody>\n",
       "</table>\n",
       "</div>"
      ],
      "text/plain": [
       "    date_rep  day  month  year  cases  deaths countries_and_territories  \\\n",
       "0 2020-06-02    2      6  2020    545       8               Afghanistan   \n",
       "1 2020-06-01    1      6  2020    680       8               Afghanistan   \n",
       "2 2020-05-31   31      5  2020    866       3               Afghanistan   \n",
       "3 2020-05-30   30      5  2020    623      11               Afghanistan   \n",
       "4 2020-05-29   29      5  2020    580       8               Afghanistan   \n",
       "\n",
       "  geo_id country_territory_code  pop_data_2018 contient  \n",
       "0     AF                    AFG     37172386.0     Asia  \n",
       "1     AF                    AFG     37172386.0     Asia  \n",
       "2     AF                    AFG     37172386.0     Asia  \n",
       "3     AF                    AFG     37172386.0     Asia  \n",
       "4     AF                    AFG     37172386.0     Asia  "
      ]
     },
     "execution_count": 1102,
     "metadata": {},
     "output_type": "execute_result"
    }
   ],
   "source": [
    "df_cases_by_country.head()"
   ]
  },
  {
   "cell_type": "code",
   "execution_count": 1103,
   "metadata": {
    "hidden": true
   },
   "outputs": [
    {
     "data": {
      "text/html": [
       "<div>\n",
       "<style scoped>\n",
       "    .dataframe tbody tr th:only-of-type {\n",
       "        vertical-align: middle;\n",
       "    }\n",
       "\n",
       "    .dataframe tbody tr th {\n",
       "        vertical-align: top;\n",
       "    }\n",
       "\n",
       "    .dataframe thead th {\n",
       "        text-align: right;\n",
       "    }\n",
       "</style>\n",
       "<table border=\"1\" class=\"dataframe\">\n",
       "  <thead>\n",
       "    <tr style=\"text-align: right;\">\n",
       "      <th></th>\n",
       "      <th>country_code</th>\n",
       "      <th>economy</th>\n",
       "      <th>income_group_2020</th>\n",
       "    </tr>\n",
       "  </thead>\n",
       "  <tbody>\n",
       "    <tr>\n",
       "      <th>0</th>\n",
       "      <td>AFG</td>\n",
       "      <td>Afghanistan</td>\n",
       "      <td>Low income (L)</td>\n",
       "    </tr>\n",
       "    <tr>\n",
       "      <th>1</th>\n",
       "      <td>ALB</td>\n",
       "      <td>Albania</td>\n",
       "      <td>Upper middle income (UM)</td>\n",
       "    </tr>\n",
       "    <tr>\n",
       "      <th>2</th>\n",
       "      <td>DZA</td>\n",
       "      <td>Algeria</td>\n",
       "      <td>Upper middle income (UM)</td>\n",
       "    </tr>\n",
       "    <tr>\n",
       "      <th>3</th>\n",
       "      <td>ASM</td>\n",
       "      <td>American Samoa</td>\n",
       "      <td>Upper middle income (UM)</td>\n",
       "    </tr>\n",
       "    <tr>\n",
       "      <th>4</th>\n",
       "      <td>AND</td>\n",
       "      <td>Andorra</td>\n",
       "      <td>High income (H)</td>\n",
       "    </tr>\n",
       "  </tbody>\n",
       "</table>\n",
       "</div>"
      ],
      "text/plain": [
       "  country_code         economy         income_group_2020\n",
       "0          AFG     Afghanistan            Low income (L)\n",
       "1          ALB         Albania  Upper middle income (UM)\n",
       "2          DZA         Algeria  Upper middle income (UM)\n",
       "3          ASM  American Samoa  Upper middle income (UM)\n",
       "4          AND         Andorra           High income (H)"
      ]
     },
     "execution_count": 1103,
     "metadata": {},
     "output_type": "execute_result"
    }
   ],
   "source": [
    "df_income_level_countries.head()"
   ]
  },
  {
   "cell_type": "code",
   "execution_count": 1104,
   "metadata": {
    "hidden": true
   },
   "outputs": [],
   "source": [
    "df_measure_day_fact = df_cases_by_country.merge(df_income_level_countries[[\"country_code\", \"income_group_2020\"]], \n",
    "                                                how='outer', \n",
    "                                                left_on='country_territory_code', right_on='country_code')"
   ]
  },
  {
   "cell_type": "code",
   "execution_count": 1114,
   "metadata": {
    "hidden": true
   },
   "outputs": [],
   "source": [
    "df_measure_day_fact = df_measure_day_fact.drop(columns=[\"country_territory_code\"])"
   ]
  },
  {
   "cell_type": "code",
   "execution_count": 1115,
   "metadata": {
    "hidden": true
   },
   "outputs": [
    {
     "data": {
      "text/html": [
       "<div>\n",
       "<style scoped>\n",
       "    .dataframe tbody tr th:only-of-type {\n",
       "        vertical-align: middle;\n",
       "    }\n",
       "\n",
       "    .dataframe tbody tr th {\n",
       "        vertical-align: top;\n",
       "    }\n",
       "\n",
       "    .dataframe thead th {\n",
       "        text-align: right;\n",
       "    }\n",
       "</style>\n",
       "<table border=\"1\" class=\"dataframe\">\n",
       "  <thead>\n",
       "    <tr style=\"text-align: right;\">\n",
       "      <th></th>\n",
       "      <th>date_rep</th>\n",
       "      <th>day</th>\n",
       "      <th>month</th>\n",
       "      <th>year</th>\n",
       "      <th>cases</th>\n",
       "      <th>deaths</th>\n",
       "      <th>countries_and_territories</th>\n",
       "      <th>geo_id</th>\n",
       "      <th>pop_data_2018</th>\n",
       "      <th>contient</th>\n",
       "      <th>country_code</th>\n",
       "      <th>income_group_2020</th>\n",
       "    </tr>\n",
       "  </thead>\n",
       "  <tbody>\n",
       "    <tr>\n",
       "      <th>0</th>\n",
       "      <td>2020-06-02</td>\n",
       "      <td>2.0</td>\n",
       "      <td>6.0</td>\n",
       "      <td>2020.0</td>\n",
       "      <td>545.0</td>\n",
       "      <td>8.0</td>\n",
       "      <td>Afghanistan</td>\n",
       "      <td>AF</td>\n",
       "      <td>37172386.0</td>\n",
       "      <td>Asia</td>\n",
       "      <td>AFG</td>\n",
       "      <td>Low income (L)</td>\n",
       "    </tr>\n",
       "    <tr>\n",
       "      <th>1</th>\n",
       "      <td>2020-06-01</td>\n",
       "      <td>1.0</td>\n",
       "      <td>6.0</td>\n",
       "      <td>2020.0</td>\n",
       "      <td>680.0</td>\n",
       "      <td>8.0</td>\n",
       "      <td>Afghanistan</td>\n",
       "      <td>AF</td>\n",
       "      <td>37172386.0</td>\n",
       "      <td>Asia</td>\n",
       "      <td>AFG</td>\n",
       "      <td>Low income (L)</td>\n",
       "    </tr>\n",
       "    <tr>\n",
       "      <th>2</th>\n",
       "      <td>2020-05-31</td>\n",
       "      <td>31.0</td>\n",
       "      <td>5.0</td>\n",
       "      <td>2020.0</td>\n",
       "      <td>866.0</td>\n",
       "      <td>3.0</td>\n",
       "      <td>Afghanistan</td>\n",
       "      <td>AF</td>\n",
       "      <td>37172386.0</td>\n",
       "      <td>Asia</td>\n",
       "      <td>AFG</td>\n",
       "      <td>Low income (L)</td>\n",
       "    </tr>\n",
       "    <tr>\n",
       "      <th>3</th>\n",
       "      <td>2020-05-30</td>\n",
       "      <td>30.0</td>\n",
       "      <td>5.0</td>\n",
       "      <td>2020.0</td>\n",
       "      <td>623.0</td>\n",
       "      <td>11.0</td>\n",
       "      <td>Afghanistan</td>\n",
       "      <td>AF</td>\n",
       "      <td>37172386.0</td>\n",
       "      <td>Asia</td>\n",
       "      <td>AFG</td>\n",
       "      <td>Low income (L)</td>\n",
       "    </tr>\n",
       "    <tr>\n",
       "      <th>4</th>\n",
       "      <td>2020-05-29</td>\n",
       "      <td>29.0</td>\n",
       "      <td>5.0</td>\n",
       "      <td>2020.0</td>\n",
       "      <td>580.0</td>\n",
       "      <td>8.0</td>\n",
       "      <td>Afghanistan</td>\n",
       "      <td>AF</td>\n",
       "      <td>37172386.0</td>\n",
       "      <td>Asia</td>\n",
       "      <td>AFG</td>\n",
       "      <td>Low income (L)</td>\n",
       "    </tr>\n",
       "  </tbody>\n",
       "</table>\n",
       "</div>"
      ],
      "text/plain": [
       "    date_rep   day  month    year  cases  deaths countries_and_territories  \\\n",
       "0 2020-06-02   2.0    6.0  2020.0  545.0     8.0               Afghanistan   \n",
       "1 2020-06-01   1.0    6.0  2020.0  680.0     8.0               Afghanistan   \n",
       "2 2020-05-31  31.0    5.0  2020.0  866.0     3.0               Afghanistan   \n",
       "3 2020-05-30  30.0    5.0  2020.0  623.0    11.0               Afghanistan   \n",
       "4 2020-05-29  29.0    5.0  2020.0  580.0     8.0               Afghanistan   \n",
       "\n",
       "  geo_id  pop_data_2018 contient country_code income_group_2020  \n",
       "0     AF     37172386.0     Asia          AFG    Low income (L)  \n",
       "1     AF     37172386.0     Asia          AFG    Low income (L)  \n",
       "2     AF     37172386.0     Asia          AFG    Low income (L)  \n",
       "3     AF     37172386.0     Asia          AFG    Low income (L)  \n",
       "4     AF     37172386.0     Asia          AFG    Low income (L)  "
      ]
     },
     "execution_count": 1115,
     "metadata": {},
     "output_type": "execute_result"
    }
   ],
   "source": [
    "df_measure_day_fact.head()"
   ]
  },
  {
   "cell_type": "markdown",
   "metadata": {
    "heading_collapsed": true,
    "hidden": true
   },
   "source": [
    "### Merging _measures_countries_ to _measure_day_fact_ table"
   ]
  },
  {
   "cell_type": "markdown",
   "metadata": {
    "hidden": true
   },
   "source": [
    "Second merger. Merging _measures_countries_ to the _fact_table_ on ___date_rep, country_code___ == ___date_implemented, iso___"
   ]
  },
  {
   "cell_type": "code",
   "execution_count": 1116,
   "metadata": {
    "hidden": true
   },
   "outputs": [
    {
     "data": {
      "text/html": [
       "<div>\n",
       "<style scoped>\n",
       "    .dataframe tbody tr th:only-of-type {\n",
       "        vertical-align: middle;\n",
       "    }\n",
       "\n",
       "    .dataframe tbody tr th {\n",
       "        vertical-align: top;\n",
       "    }\n",
       "\n",
       "    .dataframe thead th {\n",
       "        text-align: right;\n",
       "    }\n",
       "</style>\n",
       "<table border=\"1\" class=\"dataframe\">\n",
       "  <thead>\n",
       "    <tr style=\"text-align: right;\">\n",
       "      <th></th>\n",
       "      <th>country</th>\n",
       "      <th>iso</th>\n",
       "      <th>region</th>\n",
       "      <th>log_type</th>\n",
       "      <th>category</th>\n",
       "      <th>measure</th>\n",
       "      <th>targeted_pop_group</th>\n",
       "      <th>comments</th>\n",
       "      <th>non_compliance</th>\n",
       "      <th>date_implemented</th>\n",
       "      <th>source</th>\n",
       "      <th>source_type</th>\n",
       "      <th>link</th>\n",
       "      <th>entry_date</th>\n",
       "      <th>alternative_source</th>\n",
       "    </tr>\n",
       "  </thead>\n",
       "  <tbody>\n",
       "    <tr>\n",
       "      <th>0</th>\n",
       "      <td>Netherlands</td>\n",
       "      <td>NLD</td>\n",
       "      <td>Europe</td>\n",
       "      <td>Phase-out measure</td>\n",
       "      <td>Social distancing</td>\n",
       "      <td>Schools closure</td>\n",
       "      <td>Yes</td>\n",
       "      <td>CHECK AGAIN CLOSER TO DATE: Secondary schools ...</td>\n",
       "      <td>Not applicable</td>\n",
       "      <td>2020-06-02</td>\n",
       "      <td>NL Government</td>\n",
       "      <td>Government</td>\n",
       "      <td>https://www.government.nl/topics/coronavirus-c...</td>\n",
       "      <td>2020-04-24</td>\n",
       "      <td>NaN</td>\n",
       "    </tr>\n",
       "    <tr>\n",
       "      <th>1</th>\n",
       "      <td>Czech Republic</td>\n",
       "      <td>CZE</td>\n",
       "      <td>Europe</td>\n",
       "      <td>Phase-out measure</td>\n",
       "      <td>Social distancing</td>\n",
       "      <td>Schools closure</td>\n",
       "      <td>Yes</td>\n",
       "      <td>Possibility of attendance at primary schools (...</td>\n",
       "      <td>Not applicable</td>\n",
       "      <td>2020-05-25</td>\n",
       "      <td>Government</td>\n",
       "      <td>Government</td>\n",
       "      <td>https://www.vlada.cz/en/media-centrum/aktualne...</td>\n",
       "      <td>2020-04-17</td>\n",
       "      <td>NaN</td>\n",
       "    </tr>\n",
       "    <tr>\n",
       "      <th>2</th>\n",
       "      <td>Czech Republic</td>\n",
       "      <td>CZE</td>\n",
       "      <td>Europe</td>\n",
       "      <td>Phase-out measure</td>\n",
       "      <td>Social distancing</td>\n",
       "      <td>Public services closure</td>\n",
       "      <td>Yes</td>\n",
       "      <td>Restaurants, accommodation services, taxi serv...</td>\n",
       "      <td>Not applicable</td>\n",
       "      <td>2020-05-25</td>\n",
       "      <td>Government</td>\n",
       "      <td>Government</td>\n",
       "      <td>https://www.vlada.cz/en/media-centrum/aktualne...</td>\n",
       "      <td>2020-04-26</td>\n",
       "      <td>NaN</td>\n",
       "    </tr>\n",
       "    <tr>\n",
       "      <th>3</th>\n",
       "      <td>Czech Republic</td>\n",
       "      <td>CZE</td>\n",
       "      <td>Europe</td>\n",
       "      <td>Phase-out measure</td>\n",
       "      <td>Social distancing</td>\n",
       "      <td>Public services closure</td>\n",
       "      <td>Yes</td>\n",
       "      <td>Theatres, cultural and sporting events (limit ...</td>\n",
       "      <td>Not applicable</td>\n",
       "      <td>2020-05-25</td>\n",
       "      <td>Government</td>\n",
       "      <td>Government</td>\n",
       "      <td>https://www.vlada.cz/en/media-centrum/aktualne...</td>\n",
       "      <td>2020-04-26</td>\n",
       "      <td>NaN</td>\n",
       "    </tr>\n",
       "    <tr>\n",
       "      <th>4</th>\n",
       "      <td>Luxembourg</td>\n",
       "      <td>LUX</td>\n",
       "      <td>Europe</td>\n",
       "      <td>Phase-out measure</td>\n",
       "      <td>Social distancing</td>\n",
       "      <td>Schools closure</td>\n",
       "      <td>Yes</td>\n",
       "      <td>Primary schools and Kindergartens resumed; und...</td>\n",
       "      <td>Not applicable</td>\n",
       "      <td>2020-05-25</td>\n",
       "      <td>Government</td>\n",
       "      <td>Government</td>\n",
       "      <td>https://gouvernement.lu/de/actualites/toutes_a...</td>\n",
       "      <td>2020-04-18</td>\n",
       "      <td>NaN</td>\n",
       "    </tr>\n",
       "  </tbody>\n",
       "</table>\n",
       "</div>"
      ],
      "text/plain": [
       "          country  iso  region           log_type           category  \\\n",
       "0     Netherlands  NLD  Europe  Phase-out measure  Social distancing   \n",
       "1  Czech Republic  CZE  Europe  Phase-out measure  Social distancing   \n",
       "2  Czech Republic  CZE  Europe  Phase-out measure  Social distancing   \n",
       "3  Czech Republic  CZE  Europe  Phase-out measure  Social distancing   \n",
       "4      Luxembourg  LUX  Europe  Phase-out measure  Social distancing   \n",
       "\n",
       "                    measure targeted_pop_group  \\\n",
       "0          Schools closure                 Yes   \n",
       "1          Schools closure                 Yes   \n",
       "2  Public services closure                 Yes   \n",
       "3  Public services closure                 Yes   \n",
       "4          Schools closure                 Yes   \n",
       "\n",
       "                                            comments  non_compliance  \\\n",
       "0  CHECK AGAIN CLOSER TO DATE: Secondary schools ...  Not applicable   \n",
       "1  Possibility of attendance at primary schools (...  Not applicable   \n",
       "2  Restaurants, accommodation services, taxi serv...  Not applicable   \n",
       "3  Theatres, cultural and sporting events (limit ...  Not applicable   \n",
       "4  Primary schools and Kindergartens resumed; und...  Not applicable   \n",
       "\n",
       "  date_implemented         source source_type  \\\n",
       "0       2020-06-02  NL Government  Government   \n",
       "1       2020-05-25     Government  Government   \n",
       "2       2020-05-25     Government  Government   \n",
       "3       2020-05-25     Government  Government   \n",
       "4       2020-05-25     Government  Government   \n",
       "\n",
       "                                                link entry_date  \\\n",
       "0  https://www.government.nl/topics/coronavirus-c... 2020-04-24   \n",
       "1  https://www.vlada.cz/en/media-centrum/aktualne... 2020-04-17   \n",
       "2  https://www.vlada.cz/en/media-centrum/aktualne... 2020-04-26   \n",
       "3  https://www.vlada.cz/en/media-centrum/aktualne... 2020-04-26   \n",
       "4  https://gouvernement.lu/de/actualites/toutes_a... 2020-04-18   \n",
       "\n",
       "  alternative_source  \n",
       "0                NaN  \n",
       "1                NaN  \n",
       "2                NaN  \n",
       "3                NaN  \n",
       "4                NaN  "
      ]
     },
     "execution_count": 1116,
     "metadata": {},
     "output_type": "execute_result"
    }
   ],
   "source": [
    "df_measures_countries.head()"
   ]
  },
  {
   "cell_type": "code",
   "execution_count": 1124,
   "metadata": {
    "hidden": true
   },
   "outputs": [],
   "source": [
    "df_measure_day_fact = df_measure_day_fact.merge(df_measures_countries[[\"iso\",\"region\", \"log_type\", \"category\", \n",
    "                                                                          \"measure\", \"targeted_pop_group\", \"comments\", \n",
    "                                                                          \"non_compliance\", \"date_implemented\", \"source\", \n",
    "                                                                          \"source_type\", \"link\", \"entry_date\", \n",
    "                                                                          \"alternative_source\"]], \n",
    "                                                  how='outer', \n",
    "                                                  left_on=[\"date_rep\", \"country_code\"], \n",
    "                                                  right_on=[\"date_implemented\", \"iso\"])"
   ]
  },
  {
   "cell_type": "code",
   "execution_count": 1127,
   "metadata": {
    "hidden": true,
    "scrolled": false
   },
   "outputs": [],
   "source": [
    "df_measure_day_fact = df_measure_day_fact.drop(columns=[\"iso\"])"
   ]
  },
  {
   "cell_type": "code",
   "execution_count": 1132,
   "metadata": {
    "hidden": true
   },
   "outputs": [
    {
     "data": {
      "text/html": [
       "<div>\n",
       "<style scoped>\n",
       "    .dataframe tbody tr th:only-of-type {\n",
       "        vertical-align: middle;\n",
       "    }\n",
       "\n",
       "    .dataframe tbody tr th {\n",
       "        vertical-align: top;\n",
       "    }\n",
       "\n",
       "    .dataframe thead th {\n",
       "        text-align: right;\n",
       "    }\n",
       "</style>\n",
       "<table border=\"1\" class=\"dataframe\">\n",
       "  <thead>\n",
       "    <tr style=\"text-align: right;\">\n",
       "      <th></th>\n",
       "      <th>date_rep</th>\n",
       "      <th>day</th>\n",
       "      <th>month</th>\n",
       "      <th>year</th>\n",
       "      <th>cases</th>\n",
       "      <th>deaths</th>\n",
       "      <th>countries_and_territories</th>\n",
       "      <th>geo_id</th>\n",
       "      <th>pop_data_2018</th>\n",
       "      <th>contient</th>\n",
       "      <th>...</th>\n",
       "      <th>measure</th>\n",
       "      <th>targeted_pop_group</th>\n",
       "      <th>comments</th>\n",
       "      <th>non_compliance</th>\n",
       "      <th>date_implemented</th>\n",
       "      <th>source</th>\n",
       "      <th>source_type</th>\n",
       "      <th>link</th>\n",
       "      <th>entry_date</th>\n",
       "      <th>alternative_source</th>\n",
       "    </tr>\n",
       "  </thead>\n",
       "  <tbody>\n",
       "    <tr>\n",
       "      <th>0</th>\n",
       "      <td>2020-06-02</td>\n",
       "      <td>2.0</td>\n",
       "      <td>6.0</td>\n",
       "      <td>2020.0</td>\n",
       "      <td>545.0</td>\n",
       "      <td>8.0</td>\n",
       "      <td>Afghanistan</td>\n",
       "      <td>AF</td>\n",
       "      <td>37172386.0</td>\n",
       "      <td>Asia</td>\n",
       "      <td>...</td>\n",
       "      <td>NaN</td>\n",
       "      <td>NaN</td>\n",
       "      <td>NaN</td>\n",
       "      <td>NaN</td>\n",
       "      <td>NaT</td>\n",
       "      <td>NaN</td>\n",
       "      <td>NaN</td>\n",
       "      <td>NaN</td>\n",
       "      <td>NaT</td>\n",
       "      <td>NaN</td>\n",
       "    </tr>\n",
       "    <tr>\n",
       "      <th>1</th>\n",
       "      <td>2020-06-01</td>\n",
       "      <td>1.0</td>\n",
       "      <td>6.0</td>\n",
       "      <td>2020.0</td>\n",
       "      <td>680.0</td>\n",
       "      <td>8.0</td>\n",
       "      <td>Afghanistan</td>\n",
       "      <td>AF</td>\n",
       "      <td>37172386.0</td>\n",
       "      <td>Asia</td>\n",
       "      <td>...</td>\n",
       "      <td>NaN</td>\n",
       "      <td>NaN</td>\n",
       "      <td>NaN</td>\n",
       "      <td>NaN</td>\n",
       "      <td>NaT</td>\n",
       "      <td>NaN</td>\n",
       "      <td>NaN</td>\n",
       "      <td>NaN</td>\n",
       "      <td>NaT</td>\n",
       "      <td>NaN</td>\n",
       "    </tr>\n",
       "    <tr>\n",
       "      <th>2</th>\n",
       "      <td>2020-05-31</td>\n",
       "      <td>31.0</td>\n",
       "      <td>5.0</td>\n",
       "      <td>2020.0</td>\n",
       "      <td>866.0</td>\n",
       "      <td>3.0</td>\n",
       "      <td>Afghanistan</td>\n",
       "      <td>AF</td>\n",
       "      <td>37172386.0</td>\n",
       "      <td>Asia</td>\n",
       "      <td>...</td>\n",
       "      <td>NaN</td>\n",
       "      <td>NaN</td>\n",
       "      <td>NaN</td>\n",
       "      <td>NaN</td>\n",
       "      <td>NaT</td>\n",
       "      <td>NaN</td>\n",
       "      <td>NaN</td>\n",
       "      <td>NaN</td>\n",
       "      <td>NaT</td>\n",
       "      <td>NaN</td>\n",
       "    </tr>\n",
       "    <tr>\n",
       "      <th>3</th>\n",
       "      <td>2020-05-30</td>\n",
       "      <td>30.0</td>\n",
       "      <td>5.0</td>\n",
       "      <td>2020.0</td>\n",
       "      <td>623.0</td>\n",
       "      <td>11.0</td>\n",
       "      <td>Afghanistan</td>\n",
       "      <td>AF</td>\n",
       "      <td>37172386.0</td>\n",
       "      <td>Asia</td>\n",
       "      <td>...</td>\n",
       "      <td>NaN</td>\n",
       "      <td>NaN</td>\n",
       "      <td>NaN</td>\n",
       "      <td>NaN</td>\n",
       "      <td>NaT</td>\n",
       "      <td>NaN</td>\n",
       "      <td>NaN</td>\n",
       "      <td>NaN</td>\n",
       "      <td>NaT</td>\n",
       "      <td>NaN</td>\n",
       "    </tr>\n",
       "    <tr>\n",
       "      <th>4</th>\n",
       "      <td>2020-05-29</td>\n",
       "      <td>29.0</td>\n",
       "      <td>5.0</td>\n",
       "      <td>2020.0</td>\n",
       "      <td>580.0</td>\n",
       "      <td>8.0</td>\n",
       "      <td>Afghanistan</td>\n",
       "      <td>AF</td>\n",
       "      <td>37172386.0</td>\n",
       "      <td>Asia</td>\n",
       "      <td>...</td>\n",
       "      <td>NaN</td>\n",
       "      <td>NaN</td>\n",
       "      <td>NaN</td>\n",
       "      <td>NaN</td>\n",
       "      <td>NaT</td>\n",
       "      <td>NaN</td>\n",
       "      <td>NaN</td>\n",
       "      <td>NaN</td>\n",
       "      <td>NaT</td>\n",
       "      <td>NaN</td>\n",
       "    </tr>\n",
       "  </tbody>\n",
       "</table>\n",
       "<p>5 rows × 25 columns</p>\n",
       "</div>"
      ],
      "text/plain": [
       "    date_rep   day  month    year  cases  deaths countries_and_territories  \\\n",
       "0 2020-06-02   2.0    6.0  2020.0  545.0     8.0               Afghanistan   \n",
       "1 2020-06-01   1.0    6.0  2020.0  680.0     8.0               Afghanistan   \n",
       "2 2020-05-31  31.0    5.0  2020.0  866.0     3.0               Afghanistan   \n",
       "3 2020-05-30  30.0    5.0  2020.0  623.0    11.0               Afghanistan   \n",
       "4 2020-05-29  29.0    5.0  2020.0  580.0     8.0               Afghanistan   \n",
       "\n",
       "  geo_id  pop_data_2018 contient  ... measure targeted_pop_group comments  \\\n",
       "0     AF     37172386.0     Asia  ...     NaN                NaN      NaN   \n",
       "1     AF     37172386.0     Asia  ...     NaN                NaN      NaN   \n",
       "2     AF     37172386.0     Asia  ...     NaN                NaN      NaN   \n",
       "3     AF     37172386.0     Asia  ...     NaN                NaN      NaN   \n",
       "4     AF     37172386.0     Asia  ...     NaN                NaN      NaN   \n",
       "\n",
       "  non_compliance date_implemented source source_type link entry_date  \\\n",
       "0            NaN              NaT    NaN         NaN  NaN        NaT   \n",
       "1            NaN              NaT    NaN         NaN  NaN        NaT   \n",
       "2            NaN              NaT    NaN         NaN  NaN        NaT   \n",
       "3            NaN              NaT    NaN         NaN  NaN        NaT   \n",
       "4            NaN              NaT    NaN         NaN  NaN        NaT   \n",
       "\n",
       "  alternative_source  \n",
       "0                NaN  \n",
       "1                NaN  \n",
       "2                NaN  \n",
       "3                NaN  \n",
       "4                NaN  \n",
       "\n",
       "[5 rows x 25 columns]"
      ]
     },
     "execution_count": 1132,
     "metadata": {},
     "output_type": "execute_result"
    }
   ],
   "source": [
    "df_measure_day_fact.head()"
   ]
  },
  {
   "cell_type": "markdown",
   "metadata": {
    "heading_collapsed": true,
    "hidden": true
   },
   "source": [
    "### Merging _stringency_indexes_ to _measure_day_fact_ table "
   ]
  },
  {
   "cell_type": "markdown",
   "metadata": {
    "hidden": true
   },
   "source": [
    "Final merger. Merging _measure_stringency_indexes_ to the _fact_table_ on ___date___ == ___date_rep___"
   ]
  },
  {
   "cell_type": "code",
   "execution_count": 1133,
   "metadata": {
    "hidden": true
   },
   "outputs": [
    {
     "data": {
      "text/html": [
       "<div>\n",
       "<style scoped>\n",
       "    .dataframe tbody tr th:only-of-type {\n",
       "        vertical-align: middle;\n",
       "    }\n",
       "\n",
       "    .dataframe tbody tr th {\n",
       "        vertical-align: top;\n",
       "    }\n",
       "\n",
       "    .dataframe thead th {\n",
       "        text-align: right;\n",
       "    }\n",
       "</style>\n",
       "<table border=\"1\" class=\"dataframe\">\n",
       "  <thead>\n",
       "    <tr style=\"text-align: right;\">\n",
       "      <th></th>\n",
       "      <th>country_name</th>\n",
       "      <th>country_code</th>\n",
       "      <th>date</th>\n",
       "      <th>stringency_index</th>\n",
       "      <th>government_response_index</th>\n",
       "      <th>containment_health_index</th>\n",
       "      <th>economic_support_index</th>\n",
       "    </tr>\n",
       "  </thead>\n",
       "  <tbody>\n",
       "    <tr>\n",
       "      <th>0</th>\n",
       "      <td>Aruba</td>\n",
       "      <td>ABW</td>\n",
       "      <td>2020-01-01</td>\n",
       "      <td>0.0</td>\n",
       "      <td>0.0</td>\n",
       "      <td>0.0</td>\n",
       "      <td>0.0</td>\n",
       "    </tr>\n",
       "    <tr>\n",
       "      <th>1</th>\n",
       "      <td>Aruba</td>\n",
       "      <td>ABW</td>\n",
       "      <td>2020-01-02</td>\n",
       "      <td>0.0</td>\n",
       "      <td>0.0</td>\n",
       "      <td>0.0</td>\n",
       "      <td>0.0</td>\n",
       "    </tr>\n",
       "    <tr>\n",
       "      <th>2</th>\n",
       "      <td>Aruba</td>\n",
       "      <td>ABW</td>\n",
       "      <td>2020-01-03</td>\n",
       "      <td>0.0</td>\n",
       "      <td>0.0</td>\n",
       "      <td>0.0</td>\n",
       "      <td>0.0</td>\n",
       "    </tr>\n",
       "    <tr>\n",
       "      <th>3</th>\n",
       "      <td>Aruba</td>\n",
       "      <td>ABW</td>\n",
       "      <td>2020-01-04</td>\n",
       "      <td>0.0</td>\n",
       "      <td>0.0</td>\n",
       "      <td>0.0</td>\n",
       "      <td>0.0</td>\n",
       "    </tr>\n",
       "    <tr>\n",
       "      <th>4</th>\n",
       "      <td>Aruba</td>\n",
       "      <td>ABW</td>\n",
       "      <td>2020-01-05</td>\n",
       "      <td>0.0</td>\n",
       "      <td>0.0</td>\n",
       "      <td>0.0</td>\n",
       "      <td>0.0</td>\n",
       "    </tr>\n",
       "  </tbody>\n",
       "</table>\n",
       "</div>"
      ],
      "text/plain": [
       "  country_name country_code       date  stringency_index  \\\n",
       "0        Aruba          ABW 2020-01-01               0.0   \n",
       "1        Aruba          ABW 2020-01-02               0.0   \n",
       "2        Aruba          ABW 2020-01-03               0.0   \n",
       "3        Aruba          ABW 2020-01-04               0.0   \n",
       "4        Aruba          ABW 2020-01-05               0.0   \n",
       "\n",
       "   government_response_index  containment_health_index  economic_support_index  \n",
       "0                        0.0                       0.0                     0.0  \n",
       "1                        0.0                       0.0                     0.0  \n",
       "2                        0.0                       0.0                     0.0  \n",
       "3                        0.0                       0.0                     0.0  \n",
       "4                        0.0                       0.0                     0.0  "
      ]
     },
     "execution_count": 1133,
     "metadata": {},
     "output_type": "execute_result"
    }
   ],
   "source": [
    "df_measure_stringency_indexes.head()"
   ]
  },
  {
   "cell_type": "code",
   "execution_count": 1134,
   "metadata": {
    "hidden": true
   },
   "outputs": [],
   "source": [
    "df_measure_day_fact = df_measure_day_fact.merge(df_measure_stringency_indexes[[\"country_code\", \"date\", \"stringency_index\", \n",
    "                                                                               \"government_response_index\", \n",
    "                                                                               \"containment_health_index\", \n",
    "                                                                               \"economic_support_index\"]], \n",
    "                                                          how=\"outer\",\n",
    "                                                          left_on=[\"date_rep\",\"country_code\"],\n",
    "                                                          right_on=[\"date\", \"country_code\"])"
   ]
  },
  {
   "cell_type": "code",
   "execution_count": 1143,
   "metadata": {
    "hidden": true
   },
   "outputs": [],
   "source": [
    "df_measure_day_fact = df_measure_day_fact.drop(columns=[\"date\", \"date_implemented\"])"
   ]
  },
  {
   "cell_type": "code",
   "execution_count": 1144,
   "metadata": {
    "hidden": true
   },
   "outputs": [
    {
     "data": {
      "text/html": [
       "<div>\n",
       "<style scoped>\n",
       "    .dataframe tbody tr th:only-of-type {\n",
       "        vertical-align: middle;\n",
       "    }\n",
       "\n",
       "    .dataframe tbody tr th {\n",
       "        vertical-align: top;\n",
       "    }\n",
       "\n",
       "    .dataframe thead th {\n",
       "        text-align: right;\n",
       "    }\n",
       "</style>\n",
       "<table border=\"1\" class=\"dataframe\">\n",
       "  <thead>\n",
       "    <tr style=\"text-align: right;\">\n",
       "      <th></th>\n",
       "      <th>date_rep</th>\n",
       "      <th>day</th>\n",
       "      <th>month</th>\n",
       "      <th>year</th>\n",
       "      <th>cases</th>\n",
       "      <th>deaths</th>\n",
       "      <th>countries_and_territories</th>\n",
       "      <th>geo_id</th>\n",
       "      <th>pop_data_2018</th>\n",
       "      <th>contient</th>\n",
       "      <th>...</th>\n",
       "      <th>non_compliance</th>\n",
       "      <th>source</th>\n",
       "      <th>source_type</th>\n",
       "      <th>link</th>\n",
       "      <th>entry_date</th>\n",
       "      <th>alternative_source</th>\n",
       "      <th>stringency_index</th>\n",
       "      <th>government_response_index</th>\n",
       "      <th>containment_health_index</th>\n",
       "      <th>economic_support_index</th>\n",
       "    </tr>\n",
       "  </thead>\n",
       "  <tbody>\n",
       "    <tr>\n",
       "      <th>0</th>\n",
       "      <td>2020-06-02</td>\n",
       "      <td>2.0</td>\n",
       "      <td>6.0</td>\n",
       "      <td>2020.0</td>\n",
       "      <td>545.0</td>\n",
       "      <td>8.0</td>\n",
       "      <td>Afghanistan</td>\n",
       "      <td>AF</td>\n",
       "      <td>37172386.0</td>\n",
       "      <td>Asia</td>\n",
       "      <td>...</td>\n",
       "      <td>NaN</td>\n",
       "      <td>NaN</td>\n",
       "      <td>NaN</td>\n",
       "      <td>NaN</td>\n",
       "      <td>NaT</td>\n",
       "      <td>NaN</td>\n",
       "      <td>NaN</td>\n",
       "      <td>NaN</td>\n",
       "      <td>NaN</td>\n",
       "      <td>NaN</td>\n",
       "    </tr>\n",
       "    <tr>\n",
       "      <th>1</th>\n",
       "      <td>2020-06-01</td>\n",
       "      <td>1.0</td>\n",
       "      <td>6.0</td>\n",
       "      <td>2020.0</td>\n",
       "      <td>680.0</td>\n",
       "      <td>8.0</td>\n",
       "      <td>Afghanistan</td>\n",
       "      <td>AF</td>\n",
       "      <td>37172386.0</td>\n",
       "      <td>Asia</td>\n",
       "      <td>...</td>\n",
       "      <td>NaN</td>\n",
       "      <td>NaN</td>\n",
       "      <td>NaN</td>\n",
       "      <td>NaN</td>\n",
       "      <td>NaT</td>\n",
       "      <td>NaN</td>\n",
       "      <td>NaN</td>\n",
       "      <td>NaN</td>\n",
       "      <td>NaN</td>\n",
       "      <td>NaN</td>\n",
       "    </tr>\n",
       "    <tr>\n",
       "      <th>2</th>\n",
       "      <td>2020-05-31</td>\n",
       "      <td>31.0</td>\n",
       "      <td>5.0</td>\n",
       "      <td>2020.0</td>\n",
       "      <td>866.0</td>\n",
       "      <td>3.0</td>\n",
       "      <td>Afghanistan</td>\n",
       "      <td>AF</td>\n",
       "      <td>37172386.0</td>\n",
       "      <td>Asia</td>\n",
       "      <td>...</td>\n",
       "      <td>NaN</td>\n",
       "      <td>NaN</td>\n",
       "      <td>NaN</td>\n",
       "      <td>NaN</td>\n",
       "      <td>NaT</td>\n",
       "      <td>NaN</td>\n",
       "      <td>78.7</td>\n",
       "      <td>60.9</td>\n",
       "      <td>71.97</td>\n",
       "      <td>0.0</td>\n",
       "    </tr>\n",
       "    <tr>\n",
       "      <th>3</th>\n",
       "      <td>2020-05-30</td>\n",
       "      <td>30.0</td>\n",
       "      <td>5.0</td>\n",
       "      <td>2020.0</td>\n",
       "      <td>623.0</td>\n",
       "      <td>11.0</td>\n",
       "      <td>Afghanistan</td>\n",
       "      <td>AF</td>\n",
       "      <td>37172386.0</td>\n",
       "      <td>Asia</td>\n",
       "      <td>...</td>\n",
       "      <td>NaN</td>\n",
       "      <td>NaN</td>\n",
       "      <td>NaN</td>\n",
       "      <td>NaN</td>\n",
       "      <td>NaT</td>\n",
       "      <td>NaN</td>\n",
       "      <td>78.7</td>\n",
       "      <td>60.9</td>\n",
       "      <td>71.97</td>\n",
       "      <td>0.0</td>\n",
       "    </tr>\n",
       "    <tr>\n",
       "      <th>4</th>\n",
       "      <td>2020-05-29</td>\n",
       "      <td>29.0</td>\n",
       "      <td>5.0</td>\n",
       "      <td>2020.0</td>\n",
       "      <td>580.0</td>\n",
       "      <td>8.0</td>\n",
       "      <td>Afghanistan</td>\n",
       "      <td>AF</td>\n",
       "      <td>37172386.0</td>\n",
       "      <td>Asia</td>\n",
       "      <td>...</td>\n",
       "      <td>NaN</td>\n",
       "      <td>NaN</td>\n",
       "      <td>NaN</td>\n",
       "      <td>NaN</td>\n",
       "      <td>NaT</td>\n",
       "      <td>NaN</td>\n",
       "      <td>78.7</td>\n",
       "      <td>60.9</td>\n",
       "      <td>71.97</td>\n",
       "      <td>0.0</td>\n",
       "    </tr>\n",
       "  </tbody>\n",
       "</table>\n",
       "<p>5 rows × 28 columns</p>\n",
       "</div>"
      ],
      "text/plain": [
       "    date_rep   day  month    year  cases  deaths countries_and_territories  \\\n",
       "0 2020-06-02   2.0    6.0  2020.0  545.0     8.0               Afghanistan   \n",
       "1 2020-06-01   1.0    6.0  2020.0  680.0     8.0               Afghanistan   \n",
       "2 2020-05-31  31.0    5.0  2020.0  866.0     3.0               Afghanistan   \n",
       "3 2020-05-30  30.0    5.0  2020.0  623.0    11.0               Afghanistan   \n",
       "4 2020-05-29  29.0    5.0  2020.0  580.0     8.0               Afghanistan   \n",
       "\n",
       "  geo_id  pop_data_2018 contient  ... non_compliance source source_type link  \\\n",
       "0     AF     37172386.0     Asia  ...            NaN    NaN         NaN  NaN   \n",
       "1     AF     37172386.0     Asia  ...            NaN    NaN         NaN  NaN   \n",
       "2     AF     37172386.0     Asia  ...            NaN    NaN         NaN  NaN   \n",
       "3     AF     37172386.0     Asia  ...            NaN    NaN         NaN  NaN   \n",
       "4     AF     37172386.0     Asia  ...            NaN    NaN         NaN  NaN   \n",
       "\n",
       "  entry_date alternative_source stringency_index government_response_index  \\\n",
       "0        NaT                NaN              NaN                       NaN   \n",
       "1        NaT                NaN              NaN                       NaN   \n",
       "2        NaT                NaN             78.7                      60.9   \n",
       "3        NaT                NaN             78.7                      60.9   \n",
       "4        NaT                NaN             78.7                      60.9   \n",
       "\n",
       "  containment_health_index economic_support_index  \n",
       "0                      NaN                    NaN  \n",
       "1                      NaN                    NaN  \n",
       "2                    71.97                    0.0  \n",
       "3                    71.97                    0.0  \n",
       "4                    71.97                    0.0  \n",
       "\n",
       "[5 rows x 28 columns]"
      ]
     },
     "execution_count": 1144,
     "metadata": {},
     "output_type": "execute_result"
    }
   ],
   "source": [
    "df_measure_day_fact.head()"
   ]
  },
  {
   "cell_type": "markdown",
   "metadata": {
    "heading_collapsed": true
   },
   "source": [
    "## Split data into dimension tables and fact table"
   ]
  },
  {
   "cell_type": "markdown",
   "metadata": {
    "hidden": true
   },
   "source": [
    "This data warehouse will contain of 4 dimension tables and 1 fact table. Next step is to split data from the fact table into dimension tables (where that is necessary) and add foreign keys to fact table. This will be done with _pandas DataFrames_ and in the end these DFs will be exported as _csv_ files. After that, _csv_ files will be read into PostgreSQL data warehouse for storage. \n",
    "\n",
    "Dimension tables are:\n",
    "* Date (dim)\n",
    "* Country (dim)\n",
    "* Measure (dim)\n",
    "* Additional data (junk dim)"
   ]
  },
  {
   "cell_type": "code",
   "execution_count": 1180,
   "metadata": {
    "hidden": true
   },
   "outputs": [],
   "source": [
    "df_date = pd.DataFrame()"
   ]
  },
  {
   "cell_type": "code",
   "execution_count": 684,
   "metadata": {
    "hidden": true
   },
   "outputs": [],
   "source": [
    "df_country = pd.DataFrame()"
   ]
  },
  {
   "cell_type": "code",
   "execution_count": 1167,
   "metadata": {
    "hidden": true
   },
   "outputs": [],
   "source": [
    "df_measure = pd.DataFrame()"
   ]
  },
  {
   "cell_type": "code",
   "execution_count": 1204,
   "metadata": {
    "hidden": true
   },
   "outputs": [],
   "source": [
    "df_additional = pd.DataFrame()"
   ]
  },
  {
   "cell_type": "markdown",
   "metadata": {
    "heading_collapsed": true,
    "hidden": true
   },
   "source": [
    "### Setting data into _country_ dimension"
   ]
  },
  {
   "cell_type": "code",
   "execution_count": 1146,
   "metadata": {
    "collapsed": true,
    "hidden": true
   },
   "outputs": [
    {
     "name": "stdout",
     "output_type": "stream",
     "text": [
      "<class 'pandas.core.frame.DataFrame'>\n",
      "Int64Index: 30810 entries, 0 to 30809\n",
      "Data columns (total 28 columns):\n",
      "date_rep                     24479 non-null datetime64[ns]\n",
      "day                          24479 non-null float64\n",
      "month                        24479 non-null float64\n",
      "year                         24479 non-null float64\n",
      "cases                        24479 non-null float64\n",
      "deaths                       24479 non-null float64\n",
      "countries_and_territories    24479 non-null object\n",
      "geo_id                       24372 non-null object\n",
      "pop_data_2018                24169 non-null float64\n",
      "contient                     24479 non-null object\n",
      "country_code                 28866 non-null object\n",
      "income_group_2020            23911 non-null object\n",
      "region                       7821 non-null object\n",
      "log_type                     7823 non-null object\n",
      "category                     7820 non-null object\n",
      "measure                      7823 non-null object\n",
      "targeted_pop_group           7823 non-null object\n",
      "comments                     7683 non-null object\n",
      "non_compliance               6612 non-null object\n",
      "source                       7807 non-null object\n",
      "source_type                  7810 non-null object\n",
      "link                         7792 non-null object\n",
      "entry_date                   7823 non-null datetime64[ns]\n",
      "alternative_source           712 non-null object\n",
      "stringency_index             17832 non-null float64\n",
      "government_response_index    17828 non-null float64\n",
      "containment_health_index     17832 non-null float64\n",
      "economic_support_index       17780 non-null float64\n",
      "dtypes: datetime64[ns](2), float64(10), object(16)\n",
      "memory usage: 6.8+ MB\n"
     ]
    }
   ],
   "source": [
    "df_measure_day_fact.info()"
   ]
  },
  {
   "cell_type": "code",
   "execution_count": 1277,
   "metadata": {
    "hidden": true
   },
   "outputs": [],
   "source": [
    "country_cols = [\"country_code\", \"region\", \n",
    "                \"countries_and_territories\", \"geo_id\", \"pop_data_2018\", \"contient\", \"income_group_2020\"]\n",
    "df_country = df_measure_day_fact[country_cols]"
   ]
  },
  {
   "cell_type": "code",
   "execution_count": 1278,
   "metadata": {
    "hidden": true
   },
   "outputs": [
    {
     "data": {
      "text/html": [
       "<div>\n",
       "<style scoped>\n",
       "    .dataframe tbody tr th:only-of-type {\n",
       "        vertical-align: middle;\n",
       "    }\n",
       "\n",
       "    .dataframe tbody tr th {\n",
       "        vertical-align: top;\n",
       "    }\n",
       "\n",
       "    .dataframe thead th {\n",
       "        text-align: right;\n",
       "    }\n",
       "</style>\n",
       "<table border=\"1\" class=\"dataframe\">\n",
       "  <thead>\n",
       "    <tr style=\"text-align: right;\">\n",
       "      <th></th>\n",
       "      <th>country_code</th>\n",
       "      <th>region</th>\n",
       "      <th>countries_and_territories</th>\n",
       "      <th>geo_id</th>\n",
       "      <th>pop_data_2018</th>\n",
       "      <th>contient</th>\n",
       "      <th>income_group_2020</th>\n",
       "    </tr>\n",
       "  </thead>\n",
       "  <tbody>\n",
       "    <tr>\n",
       "      <th>0</th>\n",
       "      <td>AFG</td>\n",
       "      <td>NaN</td>\n",
       "      <td>Afghanistan</td>\n",
       "      <td>AF</td>\n",
       "      <td>37172386.0</td>\n",
       "      <td>Asia</td>\n",
       "      <td>Low income (L)</td>\n",
       "    </tr>\n",
       "    <tr>\n",
       "      <th>1</th>\n",
       "      <td>AFG</td>\n",
       "      <td>NaN</td>\n",
       "      <td>Afghanistan</td>\n",
       "      <td>AF</td>\n",
       "      <td>37172386.0</td>\n",
       "      <td>Asia</td>\n",
       "      <td>Low income (L)</td>\n",
       "    </tr>\n",
       "    <tr>\n",
       "      <th>2</th>\n",
       "      <td>AFG</td>\n",
       "      <td>NaN</td>\n",
       "      <td>Afghanistan</td>\n",
       "      <td>AF</td>\n",
       "      <td>37172386.0</td>\n",
       "      <td>Asia</td>\n",
       "      <td>Low income (L)</td>\n",
       "    </tr>\n",
       "    <tr>\n",
       "      <th>3</th>\n",
       "      <td>AFG</td>\n",
       "      <td>NaN</td>\n",
       "      <td>Afghanistan</td>\n",
       "      <td>AF</td>\n",
       "      <td>37172386.0</td>\n",
       "      <td>Asia</td>\n",
       "      <td>Low income (L)</td>\n",
       "    </tr>\n",
       "    <tr>\n",
       "      <th>4</th>\n",
       "      <td>AFG</td>\n",
       "      <td>NaN</td>\n",
       "      <td>Afghanistan</td>\n",
       "      <td>AF</td>\n",
       "      <td>37172386.0</td>\n",
       "      <td>Asia</td>\n",
       "      <td>Low income (L)</td>\n",
       "    </tr>\n",
       "  </tbody>\n",
       "</table>\n",
       "</div>"
      ],
      "text/plain": [
       "  country_code region countries_and_territories geo_id  pop_data_2018  \\\n",
       "0          AFG    NaN               Afghanistan     AF     37172386.0   \n",
       "1          AFG    NaN               Afghanistan     AF     37172386.0   \n",
       "2          AFG    NaN               Afghanistan     AF     37172386.0   \n",
       "3          AFG    NaN               Afghanistan     AF     37172386.0   \n",
       "4          AFG    NaN               Afghanistan     AF     37172386.0   \n",
       "\n",
       "  contient income_group_2020  \n",
       "0     Asia    Low income (L)  \n",
       "1     Asia    Low income (L)  \n",
       "2     Asia    Low income (L)  \n",
       "3     Asia    Low income (L)  \n",
       "4     Asia    Low income (L)  "
      ]
     },
     "execution_count": 1278,
     "metadata": {},
     "output_type": "execute_result"
    }
   ],
   "source": [
    "df_country.head()"
   ]
  },
  {
   "cell_type": "code",
   "execution_count": 1279,
   "metadata": {
    "hidden": true
   },
   "outputs": [],
   "source": [
    "df_country = df_country.drop_duplicates()"
   ]
  },
  {
   "cell_type": "code",
   "execution_count": 1280,
   "metadata": {
    "hidden": true
   },
   "outputs": [],
   "source": [
    "df_country[\"countries_and_territories\"] = df_country[\"countries_and_territories\"].str.replace(\"_\", \" \")"
   ]
  },
  {
   "cell_type": "code",
   "execution_count": 1281,
   "metadata": {
    "hidden": true
   },
   "outputs": [
    {
     "data": {
      "text/html": [
       "<div>\n",
       "<style scoped>\n",
       "    .dataframe tbody tr th:only-of-type {\n",
       "        vertical-align: middle;\n",
       "    }\n",
       "\n",
       "    .dataframe tbody tr th {\n",
       "        vertical-align: top;\n",
       "    }\n",
       "\n",
       "    .dataframe thead th {\n",
       "        text-align: right;\n",
       "    }\n",
       "</style>\n",
       "<table border=\"1\" class=\"dataframe\">\n",
       "  <thead>\n",
       "    <tr style=\"text-align: right;\">\n",
       "      <th></th>\n",
       "      <th>country_code</th>\n",
       "      <th>region</th>\n",
       "      <th>countries_and_territories</th>\n",
       "      <th>geo_id</th>\n",
       "      <th>pop_data_2018</th>\n",
       "      <th>contient</th>\n",
       "      <th>income_group_2020</th>\n",
       "    </tr>\n",
       "  </thead>\n",
       "  <tbody>\n",
       "    <tr>\n",
       "      <th>0</th>\n",
       "      <td>AFG</td>\n",
       "      <td>NaN</td>\n",
       "      <td>Afghanistan</td>\n",
       "      <td>AF</td>\n",
       "      <td>37172386.0</td>\n",
       "      <td>Asia</td>\n",
       "      <td>Low income (L)</td>\n",
       "    </tr>\n",
       "    <tr>\n",
       "      <th>56</th>\n",
       "      <td>AFG</td>\n",
       "      <td>Asia</td>\n",
       "      <td>Afghanistan</td>\n",
       "      <td>AF</td>\n",
       "      <td>37172386.0</td>\n",
       "      <td>Asia</td>\n",
       "      <td>Low income (L)</td>\n",
       "    </tr>\n",
       "    <tr>\n",
       "      <th>165</th>\n",
       "      <td>AFG</td>\n",
       "      <td>NaN</td>\n",
       "      <td>NaN</td>\n",
       "      <td>NaN</td>\n",
       "      <td>NaN</td>\n",
       "      <td>NaN</td>\n",
       "      <td>NaN</td>\n",
       "    </tr>\n",
       "    <tr>\n",
       "      <th>175</th>\n",
       "      <td>ALB</td>\n",
       "      <td>NaN</td>\n",
       "      <td>Albania</td>\n",
       "      <td>AL</td>\n",
       "      <td>2866376.0</td>\n",
       "      <td>Europe</td>\n",
       "      <td>Upper middle income (UM)</td>\n",
       "    </tr>\n",
       "    <tr>\n",
       "      <th>220</th>\n",
       "      <td>ALB</td>\n",
       "      <td>Europe</td>\n",
       "      <td>Albania</td>\n",
       "      <td>AL</td>\n",
       "      <td>2866376.0</td>\n",
       "      <td>Europe</td>\n",
       "      <td>Upper middle income (UM)</td>\n",
       "    </tr>\n",
       "  </tbody>\n",
       "</table>\n",
       "</div>"
      ],
      "text/plain": [
       "    country_code  region countries_and_territories geo_id  pop_data_2018  \\\n",
       "0            AFG     NaN               Afghanistan     AF     37172386.0   \n",
       "56           AFG    Asia               Afghanistan     AF     37172386.0   \n",
       "165          AFG     NaN                       NaN    NaN            NaN   \n",
       "175          ALB     NaN                   Albania     AL      2866376.0   \n",
       "220          ALB  Europe                   Albania     AL      2866376.0   \n",
       "\n",
       "    contient         income_group_2020  \n",
       "0       Asia            Low income (L)  \n",
       "56      Asia            Low income (L)  \n",
       "165      NaN                       NaN  \n",
       "175   Europe  Upper middle income (UM)  \n",
       "220   Europe  Upper middle income (UM)  "
      ]
     },
     "execution_count": 1281,
     "metadata": {},
     "output_type": "execute_result"
    }
   ],
   "source": [
    "df_country.head()"
   ]
  },
  {
   "cell_type": "code",
   "execution_count": 1282,
   "metadata": {
    "hidden": true
   },
   "outputs": [],
   "source": [
    "df_country = df_country.groupby([\"country_code\",\"countries_and_territories\",\"income_group_2020\", \n",
    "                                 \"contient\", \"pop_data_2018\", \"geo_id\", \"region\"]).sum().reset_index()"
   ]
  },
  {
   "cell_type": "code",
   "execution_count": 1283,
   "metadata": {
    "hidden": true
   },
   "outputs": [
    {
     "data": {
      "text/html": [
       "<div>\n",
       "<style scoped>\n",
       "    .dataframe tbody tr th:only-of-type {\n",
       "        vertical-align: middle;\n",
       "    }\n",
       "\n",
       "    .dataframe tbody tr th {\n",
       "        vertical-align: top;\n",
       "    }\n",
       "\n",
       "    .dataframe thead th {\n",
       "        text-align: right;\n",
       "    }\n",
       "</style>\n",
       "<table border=\"1\" class=\"dataframe\">\n",
       "  <thead>\n",
       "    <tr style=\"text-align: right;\">\n",
       "      <th></th>\n",
       "      <th>country_code</th>\n",
       "      <th>countries_and_territories</th>\n",
       "      <th>income_group_2020</th>\n",
       "      <th>contient</th>\n",
       "      <th>pop_data_2018</th>\n",
       "      <th>geo_id</th>\n",
       "      <th>region</th>\n",
       "    </tr>\n",
       "  </thead>\n",
       "  <tbody>\n",
       "    <tr>\n",
       "      <th>0</th>\n",
       "      <td>AFG</td>\n",
       "      <td>Afghanistan</td>\n",
       "      <td>Low income (L)</td>\n",
       "      <td>Asia</td>\n",
       "      <td>37172386.0</td>\n",
       "      <td>AF</td>\n",
       "      <td>Asia</td>\n",
       "    </tr>\n",
       "    <tr>\n",
       "      <th>1</th>\n",
       "      <td>AGO</td>\n",
       "      <td>Angola</td>\n",
       "      <td>Lower middle income (LM)</td>\n",
       "      <td>Africa</td>\n",
       "      <td>30809762.0</td>\n",
       "      <td>AO</td>\n",
       "      <td>Africa</td>\n",
       "    </tr>\n",
       "    <tr>\n",
       "      <th>2</th>\n",
       "      <td>ALB</td>\n",
       "      <td>Albania</td>\n",
       "      <td>Upper middle income (UM)</td>\n",
       "      <td>Europe</td>\n",
       "      <td>2866376.0</td>\n",
       "      <td>AL</td>\n",
       "      <td>Europe</td>\n",
       "    </tr>\n",
       "    <tr>\n",
       "      <th>3</th>\n",
       "      <td>ARE</td>\n",
       "      <td>United Arab Emirates</td>\n",
       "      <td>High income (H)</td>\n",
       "      <td>Asia</td>\n",
       "      <td>9630959.0</td>\n",
       "      <td>AE</td>\n",
       "      <td>Middle East</td>\n",
       "    </tr>\n",
       "    <tr>\n",
       "      <th>4</th>\n",
       "      <td>ARG</td>\n",
       "      <td>Argentina</td>\n",
       "      <td>Upper middle income (UM)</td>\n",
       "      <td>America</td>\n",
       "      <td>44494502.0</td>\n",
       "      <td>AR</td>\n",
       "      <td>Americas</td>\n",
       "    </tr>\n",
       "  </tbody>\n",
       "</table>\n",
       "</div>"
      ],
      "text/plain": [
       "  country_code countries_and_territories         income_group_2020 contient  \\\n",
       "0          AFG               Afghanistan            Low income (L)     Asia   \n",
       "1          AGO                    Angola  Lower middle income (LM)   Africa   \n",
       "2          ALB                   Albania  Upper middle income (UM)   Europe   \n",
       "3          ARE      United Arab Emirates           High income (H)     Asia   \n",
       "4          ARG                 Argentina  Upper middle income (UM)  America   \n",
       "\n",
       "   pop_data_2018 geo_id       region  \n",
       "0     37172386.0     AF         Asia  \n",
       "1     30809762.0     AO       Africa  \n",
       "2      2866376.0     AL       Europe  \n",
       "3      9630959.0     AE  Middle East  \n",
       "4     44494502.0     AR     Americas  "
      ]
     },
     "execution_count": 1283,
     "metadata": {},
     "output_type": "execute_result"
    }
   ],
   "source": [
    "df_country.head()"
   ]
  },
  {
   "cell_type": "code",
   "execution_count": 1284,
   "metadata": {
    "hidden": true
   },
   "outputs": [],
   "source": [
    "df_country[\"country_id\"] = df_country.index"
   ]
  },
  {
   "cell_type": "code",
   "execution_count": 1285,
   "metadata": {
    "hidden": true
   },
   "outputs": [],
   "source": [
    "df_country = df_country[[\"country_id\",\"countries_and_territories\", \"country_code\", \"income_group_2020\", \n",
    "                         \"contient\", \"pop_data_2018\", \"geo_id\", \"region\"]]"
   ]
  },
  {
   "cell_type": "code",
   "execution_count": 1286,
   "metadata": {
    "hidden": true
   },
   "outputs": [],
   "source": [
    "df_country.columns = [\"country_id\",\"country_name\", \"country_code\", \"income_group_2020\", \n",
    "                      \"continent\", \"pop_data_2018\", \"gro_id\", \"region\"]"
   ]
  },
  {
   "cell_type": "code",
   "execution_count": 1287,
   "metadata": {
    "hidden": true
   },
   "outputs": [
    {
     "data": {
      "text/html": [
       "<div>\n",
       "<style scoped>\n",
       "    .dataframe tbody tr th:only-of-type {\n",
       "        vertical-align: middle;\n",
       "    }\n",
       "\n",
       "    .dataframe tbody tr th {\n",
       "        vertical-align: top;\n",
       "    }\n",
       "\n",
       "    .dataframe thead th {\n",
       "        text-align: right;\n",
       "    }\n",
       "</style>\n",
       "<table border=\"1\" class=\"dataframe\">\n",
       "  <thead>\n",
       "    <tr style=\"text-align: right;\">\n",
       "      <th></th>\n",
       "      <th>country_id</th>\n",
       "      <th>country_name</th>\n",
       "      <th>country_code</th>\n",
       "      <th>income_group_2020</th>\n",
       "      <th>continent</th>\n",
       "      <th>pop_data_2018</th>\n",
       "      <th>gro_id</th>\n",
       "      <th>region</th>\n",
       "    </tr>\n",
       "  </thead>\n",
       "  <tbody>\n",
       "    <tr>\n",
       "      <th>0</th>\n",
       "      <td>0</td>\n",
       "      <td>Afghanistan</td>\n",
       "      <td>AFG</td>\n",
       "      <td>Low income (L)</td>\n",
       "      <td>Asia</td>\n",
       "      <td>37172386.0</td>\n",
       "      <td>AF</td>\n",
       "      <td>Asia</td>\n",
       "    </tr>\n",
       "    <tr>\n",
       "      <th>1</th>\n",
       "      <td>1</td>\n",
       "      <td>Angola</td>\n",
       "      <td>AGO</td>\n",
       "      <td>Lower middle income (LM)</td>\n",
       "      <td>Africa</td>\n",
       "      <td>30809762.0</td>\n",
       "      <td>AO</td>\n",
       "      <td>Africa</td>\n",
       "    </tr>\n",
       "    <tr>\n",
       "      <th>2</th>\n",
       "      <td>2</td>\n",
       "      <td>Albania</td>\n",
       "      <td>ALB</td>\n",
       "      <td>Upper middle income (UM)</td>\n",
       "      <td>Europe</td>\n",
       "      <td>2866376.0</td>\n",
       "      <td>AL</td>\n",
       "      <td>Europe</td>\n",
       "    </tr>\n",
       "    <tr>\n",
       "      <th>3</th>\n",
       "      <td>3</td>\n",
       "      <td>United Arab Emirates</td>\n",
       "      <td>ARE</td>\n",
       "      <td>High income (H)</td>\n",
       "      <td>Asia</td>\n",
       "      <td>9630959.0</td>\n",
       "      <td>AE</td>\n",
       "      <td>Middle East</td>\n",
       "    </tr>\n",
       "    <tr>\n",
       "      <th>4</th>\n",
       "      <td>4</td>\n",
       "      <td>Argentina</td>\n",
       "      <td>ARG</td>\n",
       "      <td>Upper middle income (UM)</td>\n",
       "      <td>America</td>\n",
       "      <td>44494502.0</td>\n",
       "      <td>AR</td>\n",
       "      <td>Americas</td>\n",
       "    </tr>\n",
       "  </tbody>\n",
       "</table>\n",
       "</div>"
      ],
      "text/plain": [
       "   country_id          country_name country_code         income_group_2020  \\\n",
       "0           0           Afghanistan          AFG            Low income (L)   \n",
       "1           1                Angola          AGO  Lower middle income (LM)   \n",
       "2           2               Albania          ALB  Upper middle income (UM)   \n",
       "3           3  United Arab Emirates          ARE           High income (H)   \n",
       "4           4             Argentina          ARG  Upper middle income (UM)   \n",
       "\n",
       "  continent  pop_data_2018 gro_id       region  \n",
       "0      Asia     37172386.0     AF         Asia  \n",
       "1    Africa     30809762.0     AO       Africa  \n",
       "2    Europe      2866376.0     AL       Europe  \n",
       "3      Asia      9630959.0     AE  Middle East  \n",
       "4   America     44494502.0     AR     Americas  "
      ]
     },
     "execution_count": 1287,
     "metadata": {},
     "output_type": "execute_result"
    }
   ],
   "source": [
    "df_country.head()"
   ]
  },
  {
   "cell_type": "markdown",
   "metadata": {
    "heading_collapsed": true,
    "hidden": true
   },
   "source": [
    "### Setting data into _measures_ dimension"
   ]
  },
  {
   "cell_type": "code",
   "execution_count": 1168,
   "metadata": {
    "collapsed": true,
    "hidden": true
   },
   "outputs": [
    {
     "name": "stdout",
     "output_type": "stream",
     "text": [
      "<class 'pandas.core.frame.DataFrame'>\n",
      "Int64Index: 30810 entries, 0 to 30809\n",
      "Data columns (total 28 columns):\n",
      "date_rep                     24479 non-null datetime64[ns]\n",
      "day                          24479 non-null float64\n",
      "month                        24479 non-null float64\n",
      "year                         24479 non-null float64\n",
      "cases                        24479 non-null float64\n",
      "deaths                       24479 non-null float64\n",
      "countries_and_territories    24479 non-null object\n",
      "geo_id                       24372 non-null object\n",
      "pop_data_2018                24169 non-null float64\n",
      "contient                     24479 non-null object\n",
      "country_code                 28866 non-null object\n",
      "income_group_2020            23911 non-null object\n",
      "region                       7821 non-null object\n",
      "log_type                     7823 non-null object\n",
      "category                     7820 non-null object\n",
      "measure                      7823 non-null object\n",
      "targeted_pop_group           7823 non-null object\n",
      "comments                     7683 non-null object\n",
      "non_compliance               6612 non-null object\n",
      "source                       7807 non-null object\n",
      "source_type                  7810 non-null object\n",
      "link                         7792 non-null object\n",
      "entry_date                   7823 non-null datetime64[ns]\n",
      "alternative_source           712 non-null object\n",
      "stringency_index             17832 non-null float64\n",
      "government_response_index    17828 non-null float64\n",
      "containment_health_index     17832 non-null float64\n",
      "economic_support_index       17780 non-null float64\n",
      "dtypes: datetime64[ns](2), float64(10), object(16)\n",
      "memory usage: 6.8+ MB\n"
     ]
    }
   ],
   "source": [
    "df_measure_day_fact.info()"
   ]
  },
  {
   "cell_type": "code",
   "execution_count": 1169,
   "metadata": {
    "hidden": true
   },
   "outputs": [],
   "source": [
    "measure_cols = [\"category\", \"measure\"]\n",
    "df_measure = df_measure_day_fact[measure_cols]"
   ]
  },
  {
   "cell_type": "code",
   "execution_count": 1170,
   "metadata": {
    "hidden": true
   },
   "outputs": [
    {
     "name": "stderr",
     "output_type": "stream",
     "text": [
      "c:\\users\\marko\\appdata\\local\\programs\\python\\python36\\lib\\site-packages\\ipykernel_launcher.py:1: SettingWithCopyWarning: \n",
      "A value is trying to be set on a copy of a slice from a DataFrame.\n",
      "Try using .loc[row_indexer,col_indexer] = value instead\n",
      "\n",
      "See the caveats in the documentation: http://pandas.pydata.org/pandas-docs/stable/user_guide/indexing.html#returning-a-view-versus-a-copy\n",
      "  \"\"\"Entry point for launching an IPython kernel.\n"
     ]
    }
   ],
   "source": [
    "df_measure[\"measure\"] = df_measure[\"measure\"].str.lower()"
   ]
  },
  {
   "cell_type": "code",
   "execution_count": 1171,
   "metadata": {
    "hidden": true
   },
   "outputs": [
    {
     "data": {
      "text/plain": [
       "category     6\n",
       "measure     35\n",
       "dtype: int64"
      ]
     },
     "execution_count": 1171,
     "metadata": {},
     "output_type": "execute_result"
    }
   ],
   "source": [
    "df_measure.nunique()"
   ]
  },
  {
   "cell_type": "code",
   "execution_count": 1172,
   "metadata": {
    "hidden": true
   },
   "outputs": [],
   "source": [
    "df_measure = df_measure.groupby(measure_cols).sum().reset_index()"
   ]
  },
  {
   "cell_type": "code",
   "execution_count": 1173,
   "metadata": {
    "hidden": true
   },
   "outputs": [],
   "source": [
    "df_measure['measure'] = df_measure['measure'].str.capitalize()"
   ]
  },
  {
   "cell_type": "code",
   "execution_count": 1174,
   "metadata": {
    "hidden": true
   },
   "outputs": [],
   "source": [
    "df_measure[\"measure_id\"] = df_measure.index"
   ]
  },
  {
   "cell_type": "code",
   "execution_count": 1175,
   "metadata": {
    "hidden": true
   },
   "outputs": [],
   "source": [
    "df_measure = df_measure[[\"measure_id\", \"measure\", \"category\"]]"
   ]
  },
  {
   "cell_type": "code",
   "execution_count": 1176,
   "metadata": {
    "hidden": true
   },
   "outputs": [],
   "source": [
    "df_measure.columns = [\"measure_id\", \"measure\", \"measure_category\"]"
   ]
  },
  {
   "cell_type": "code",
   "execution_count": 1177,
   "metadata": {
    "hidden": true,
    "scrolled": true
   },
   "outputs": [
    {
     "data": {
      "text/html": [
       "<div>\n",
       "<style scoped>\n",
       "    .dataframe tbody tr th:only-of-type {\n",
       "        vertical-align: middle;\n",
       "    }\n",
       "\n",
       "    .dataframe tbody tr th {\n",
       "        vertical-align: top;\n",
       "    }\n",
       "\n",
       "    .dataframe thead th {\n",
       "        text-align: right;\n",
       "    }\n",
       "</style>\n",
       "<table border=\"1\" class=\"dataframe\">\n",
       "  <thead>\n",
       "    <tr style=\"text-align: right;\">\n",
       "      <th></th>\n",
       "      <th>measure_id</th>\n",
       "      <th>measure</th>\n",
       "      <th>measure_category</th>\n",
       "    </tr>\n",
       "  </thead>\n",
       "  <tbody>\n",
       "    <tr>\n",
       "      <th>0</th>\n",
       "      <td>0</td>\n",
       "      <td>Economic measures</td>\n",
       "      <td>Governance and socio-economic measures</td>\n",
       "    </tr>\n",
       "    <tr>\n",
       "      <th>1</th>\n",
       "      <td>1</td>\n",
       "      <td>Emergency administrative structures activated ...</td>\n",
       "      <td>Governance and socio-economic measures</td>\n",
       "    </tr>\n",
       "    <tr>\n",
       "      <th>2</th>\n",
       "      <td>2</td>\n",
       "      <td>Limit product imports/exports</td>\n",
       "      <td>Governance and socio-economic measures</td>\n",
       "    </tr>\n",
       "    <tr>\n",
       "      <th>3</th>\n",
       "      <td>3</td>\n",
       "      <td>Military deployment</td>\n",
       "      <td>Governance and socio-economic measures</td>\n",
       "    </tr>\n",
       "    <tr>\n",
       "      <th>4</th>\n",
       "      <td>4</td>\n",
       "      <td>State of emergency declared</td>\n",
       "      <td>Governance and socio-economic measures</td>\n",
       "    </tr>\n",
       "  </tbody>\n",
       "</table>\n",
       "</div>"
      ],
      "text/plain": [
       "   measure_id                                            measure  \\\n",
       "0           0                                  Economic measures   \n",
       "1           1  Emergency administrative structures activated ...   \n",
       "2           2                      Limit product imports/exports   \n",
       "3           3                                Military deployment   \n",
       "4           4                        State of emergency declared   \n",
       "\n",
       "                         measure_category  \n",
       "0  Governance and socio-economic measures  \n",
       "1  Governance and socio-economic measures  \n",
       "2  Governance and socio-economic measures  \n",
       "3  Governance and socio-economic measures  \n",
       "4  Governance and socio-economic measures  "
      ]
     },
     "execution_count": 1177,
     "metadata": {},
     "output_type": "execute_result"
    }
   ],
   "source": [
    "df_measure.head()"
   ]
  },
  {
   "cell_type": "markdown",
   "metadata": {
    "heading_collapsed": true,
    "hidden": true
   },
   "source": [
    "### Setting data into _date_ dimnesion"
   ]
  },
  {
   "cell_type": "code",
   "execution_count": 1181,
   "metadata": {
    "collapsed": true,
    "hidden": true
   },
   "outputs": [
    {
     "name": "stdout",
     "output_type": "stream",
     "text": [
      "<class 'pandas.core.frame.DataFrame'>\n",
      "Int64Index: 30810 entries, 0 to 30809\n",
      "Data columns (total 28 columns):\n",
      "date_rep                     24479 non-null datetime64[ns]\n",
      "day                          24479 non-null float64\n",
      "month                        24479 non-null float64\n",
      "year                         24479 non-null float64\n",
      "cases                        24479 non-null float64\n",
      "deaths                       24479 non-null float64\n",
      "countries_and_territories    24479 non-null object\n",
      "geo_id                       24372 non-null object\n",
      "pop_data_2018                24169 non-null float64\n",
      "contient                     24479 non-null object\n",
      "country_code                 28866 non-null object\n",
      "income_group_2020            23911 non-null object\n",
      "region                       7821 non-null object\n",
      "log_type                     7823 non-null object\n",
      "category                     7820 non-null object\n",
      "measure                      7823 non-null object\n",
      "targeted_pop_group           7823 non-null object\n",
      "comments                     7683 non-null object\n",
      "non_compliance               6612 non-null object\n",
      "source                       7807 non-null object\n",
      "source_type                  7810 non-null object\n",
      "link                         7792 non-null object\n",
      "entry_date                   7823 non-null datetime64[ns]\n",
      "alternative_source           712 non-null object\n",
      "stringency_index             17832 non-null float64\n",
      "government_response_index    17828 non-null float64\n",
      "containment_health_index     17832 non-null float64\n",
      "economic_support_index       17780 non-null float64\n",
      "dtypes: datetime64[ns](2), float64(10), object(16)\n",
      "memory usage: 6.8+ MB\n"
     ]
    }
   ],
   "source": [
    "df_measure_day_fact.info()"
   ]
  },
  {
   "cell_type": "code",
   "execution_count": 1182,
   "metadata": {
    "hidden": true
   },
   "outputs": [],
   "source": [
    "df_date = df_measure_day_fact[\"date_rep\"]"
   ]
  },
  {
   "cell_type": "code",
   "execution_count": 1183,
   "metadata": {
    "hidden": true
   },
   "outputs": [],
   "source": [
    "df_date = df_date.drop_duplicates()"
   ]
  },
  {
   "cell_type": "code",
   "execution_count": 1184,
   "metadata": {
    "hidden": true
   },
   "outputs": [],
   "source": [
    "df_date = df_date.sort_values().reset_index()"
   ]
  },
  {
   "cell_type": "code",
   "execution_count": 1185,
   "metadata": {
    "hidden": true
   },
   "outputs": [],
   "source": [
    "df_date.drop(columns=[\"index\"], inplace=True)"
   ]
  },
  {
   "cell_type": "code",
   "execution_count": 1186,
   "metadata": {
    "hidden": true
   },
   "outputs": [],
   "source": [
    "df_date[\"date_rep\"].dropna(inplace=True)"
   ]
  },
  {
   "cell_type": "code",
   "execution_count": 1187,
   "metadata": {
    "hidden": true
   },
   "outputs": [],
   "source": [
    "df_date.drop(df_date.tail(1).index,inplace=True)"
   ]
  },
  {
   "cell_type": "code",
   "execution_count": 1188,
   "metadata": {
    "hidden": true
   },
   "outputs": [
    {
     "data": {
      "text/plain": [
       "False"
      ]
     },
     "execution_count": 1188,
     "metadata": {},
     "output_type": "execute_result"
    }
   ],
   "source": [
    "df_date.isnull().values.any()"
   ]
  },
  {
   "cell_type": "code",
   "execution_count": 1189,
   "metadata": {
    "hidden": true
   },
   "outputs": [
    {
     "data": {
      "text/html": [
       "<div>\n",
       "<style scoped>\n",
       "    .dataframe tbody tr th:only-of-type {\n",
       "        vertical-align: middle;\n",
       "    }\n",
       "\n",
       "    .dataframe tbody tr th {\n",
       "        vertical-align: top;\n",
       "    }\n",
       "\n",
       "    .dataframe thead th {\n",
       "        text-align: right;\n",
       "    }\n",
       "</style>\n",
       "<table border=\"1\" class=\"dataframe\">\n",
       "  <thead>\n",
       "    <tr style=\"text-align: right;\">\n",
       "      <th></th>\n",
       "      <th>date_rep</th>\n",
       "      <th>year</th>\n",
       "      <th>month</th>\n",
       "      <th>day</th>\n",
       "      <th>day_of_the_week</th>\n",
       "    </tr>\n",
       "  </thead>\n",
       "  <tbody>\n",
       "    <tr>\n",
       "      <th>0</th>\n",
       "      <td>2019-12-31</td>\n",
       "      <td>2019</td>\n",
       "      <td>12</td>\n",
       "      <td>31</td>\n",
       "      <td>1</td>\n",
       "    </tr>\n",
       "    <tr>\n",
       "      <th>1</th>\n",
       "      <td>2020-01-01</td>\n",
       "      <td>2020</td>\n",
       "      <td>1</td>\n",
       "      <td>1</td>\n",
       "      <td>2</td>\n",
       "    </tr>\n",
       "    <tr>\n",
       "      <th>2</th>\n",
       "      <td>2020-01-02</td>\n",
       "      <td>2020</td>\n",
       "      <td>1</td>\n",
       "      <td>2</td>\n",
       "      <td>3</td>\n",
       "    </tr>\n",
       "    <tr>\n",
       "      <th>3</th>\n",
       "      <td>2020-01-03</td>\n",
       "      <td>2020</td>\n",
       "      <td>1</td>\n",
       "      <td>3</td>\n",
       "      <td>4</td>\n",
       "    </tr>\n",
       "    <tr>\n",
       "      <th>4</th>\n",
       "      <td>2020-01-04</td>\n",
       "      <td>2020</td>\n",
       "      <td>1</td>\n",
       "      <td>4</td>\n",
       "      <td>5</td>\n",
       "    </tr>\n",
       "  </tbody>\n",
       "</table>\n",
       "</div>"
      ],
      "text/plain": [
       "    date_rep  year  month  day  day_of_the_week\n",
       "0 2019-12-31  2019     12   31                1\n",
       "1 2020-01-01  2020      1    1                2\n",
       "2 2020-01-02  2020      1    2                3\n",
       "3 2020-01-03  2020      1    3                4\n",
       "4 2020-01-04  2020      1    4                5"
      ]
     },
     "execution_count": 1189,
     "metadata": {},
     "output_type": "execute_result"
    }
   ],
   "source": [
    "df_date[\"year\"] = pd.DatetimeIndex(df_date['date_rep']).year\n",
    "df_date[\"month\"] = pd.DatetimeIndex(df_date['date_rep']).month\n",
    "df_date[\"day\"] = pd.DatetimeIndex(df_date['date_rep']).day\n",
    "df_date[\"day_of_the_week\"] = pd.DatetimeIndex(df_date['date_rep']).dayofweek\n",
    "\n",
    "df_date.head()"
   ]
  },
  {
   "cell_type": "code",
   "execution_count": 1190,
   "metadata": {
    "hidden": true
   },
   "outputs": [
    {
     "data": {
      "text/html": [
       "<div>\n",
       "<style scoped>\n",
       "    .dataframe tbody tr th:only-of-type {\n",
       "        vertical-align: middle;\n",
       "    }\n",
       "\n",
       "    .dataframe tbody tr th {\n",
       "        vertical-align: top;\n",
       "    }\n",
       "\n",
       "    .dataframe thead th {\n",
       "        text-align: right;\n",
       "    }\n",
       "</style>\n",
       "<table border=\"1\" class=\"dataframe\">\n",
       "  <thead>\n",
       "    <tr style=\"text-align: right;\">\n",
       "      <th></th>\n",
       "      <th>date_rep</th>\n",
       "      <th>year</th>\n",
       "      <th>month</th>\n",
       "      <th>day</th>\n",
       "      <th>day_of_the_week</th>\n",
       "      <th>day_name</th>\n",
       "    </tr>\n",
       "  </thead>\n",
       "  <tbody>\n",
       "    <tr>\n",
       "      <th>0</th>\n",
       "      <td>2019-12-31</td>\n",
       "      <td>2019</td>\n",
       "      <td>12</td>\n",
       "      <td>31</td>\n",
       "      <td>1</td>\n",
       "      <td>Tuesday</td>\n",
       "    </tr>\n",
       "    <tr>\n",
       "      <th>1</th>\n",
       "      <td>2020-01-01</td>\n",
       "      <td>2020</td>\n",
       "      <td>1</td>\n",
       "      <td>1</td>\n",
       "      <td>2</td>\n",
       "      <td>Wednsday</td>\n",
       "    </tr>\n",
       "    <tr>\n",
       "      <th>2</th>\n",
       "      <td>2020-01-02</td>\n",
       "      <td>2020</td>\n",
       "      <td>1</td>\n",
       "      <td>2</td>\n",
       "      <td>3</td>\n",
       "      <td>Thursday</td>\n",
       "    </tr>\n",
       "    <tr>\n",
       "      <th>3</th>\n",
       "      <td>2020-01-03</td>\n",
       "      <td>2020</td>\n",
       "      <td>1</td>\n",
       "      <td>3</td>\n",
       "      <td>4</td>\n",
       "      <td>Friday</td>\n",
       "    </tr>\n",
       "    <tr>\n",
       "      <th>4</th>\n",
       "      <td>2020-01-04</td>\n",
       "      <td>2020</td>\n",
       "      <td>1</td>\n",
       "      <td>4</td>\n",
       "      <td>5</td>\n",
       "      <td>Saturday</td>\n",
       "    </tr>\n",
       "  </tbody>\n",
       "</table>\n",
       "</div>"
      ],
      "text/plain": [
       "    date_rep  year  month  day  day_of_the_week  day_name\n",
       "0 2019-12-31  2019     12   31                1   Tuesday\n",
       "1 2020-01-01  2020      1    1                2  Wednsday\n",
       "2 2020-01-02  2020      1    2                3  Thursday\n",
       "3 2020-01-03  2020      1    3                4    Friday\n",
       "4 2020-01-04  2020      1    4                5  Saturday"
      ]
     },
     "execution_count": 1190,
     "metadata": {},
     "output_type": "execute_result"
    }
   ],
   "source": [
    "df_date.loc[df_date[\"day_of_the_week\"]==0, \"day_name\"] = \"Monday\"\n",
    "df_date.loc[df_date[\"day_of_the_week\"]==1, \"day_name\"] = \"Tuesday\"\n",
    "df_date.loc[df_date[\"day_of_the_week\"]==2, \"day_name\"] = \"Wednsday\"\n",
    "df_date.loc[df_date[\"day_of_the_week\"]==3, \"day_name\"] = \"Thursday\"\n",
    "df_date.loc[df_date[\"day_of_the_week\"]==4, \"day_name\"] = \"Friday\"\n",
    "df_date.loc[df_date[\"day_of_the_week\"]==5, \"day_name\"] = \"Saturday\"\n",
    "df_date.loc[df_date[\"day_of_the_week\"]==6, \"day_name\"] = \"Sunday\"\n",
    "\n",
    "df_date.head()"
   ]
  },
  {
   "cell_type": "code",
   "execution_count": 1191,
   "metadata": {
    "hidden": true
   },
   "outputs": [
    {
     "data": {
      "text/html": [
       "<div>\n",
       "<style scoped>\n",
       "    .dataframe tbody tr th:only-of-type {\n",
       "        vertical-align: middle;\n",
       "    }\n",
       "\n",
       "    .dataframe tbody tr th {\n",
       "        vertical-align: top;\n",
       "    }\n",
       "\n",
       "    .dataframe thead th {\n",
       "        text-align: right;\n",
       "    }\n",
       "</style>\n",
       "<table border=\"1\" class=\"dataframe\">\n",
       "  <thead>\n",
       "    <tr style=\"text-align: right;\">\n",
       "      <th></th>\n",
       "      <th>date_rep</th>\n",
       "      <th>year</th>\n",
       "      <th>month</th>\n",
       "      <th>day</th>\n",
       "      <th>day_of_the_week</th>\n",
       "      <th>day_name</th>\n",
       "      <th>month_name</th>\n",
       "      <th>month_name_abbr</th>\n",
       "      <th>week_of_the_year</th>\n",
       "      <th>is_weekend</th>\n",
       "      <th>quarter</th>\n",
       "    </tr>\n",
       "  </thead>\n",
       "  <tbody>\n",
       "    <tr>\n",
       "      <th>0</th>\n",
       "      <td>2019-12-31</td>\n",
       "      <td>2019</td>\n",
       "      <td>12</td>\n",
       "      <td>31</td>\n",
       "      <td>1</td>\n",
       "      <td>Tuesday</td>\n",
       "      <td>December</td>\n",
       "      <td>Dec</td>\n",
       "      <td>1</td>\n",
       "      <td>0</td>\n",
       "      <td>4</td>\n",
       "    </tr>\n",
       "    <tr>\n",
       "      <th>1</th>\n",
       "      <td>2020-01-01</td>\n",
       "      <td>2020</td>\n",
       "      <td>1</td>\n",
       "      <td>1</td>\n",
       "      <td>2</td>\n",
       "      <td>Wednsday</td>\n",
       "      <td>January</td>\n",
       "      <td>Jan</td>\n",
       "      <td>1</td>\n",
       "      <td>0</td>\n",
       "      <td>1</td>\n",
       "    </tr>\n",
       "    <tr>\n",
       "      <th>2</th>\n",
       "      <td>2020-01-02</td>\n",
       "      <td>2020</td>\n",
       "      <td>1</td>\n",
       "      <td>2</td>\n",
       "      <td>3</td>\n",
       "      <td>Thursday</td>\n",
       "      <td>January</td>\n",
       "      <td>Jan</td>\n",
       "      <td>1</td>\n",
       "      <td>0</td>\n",
       "      <td>1</td>\n",
       "    </tr>\n",
       "    <tr>\n",
       "      <th>3</th>\n",
       "      <td>2020-01-03</td>\n",
       "      <td>2020</td>\n",
       "      <td>1</td>\n",
       "      <td>3</td>\n",
       "      <td>4</td>\n",
       "      <td>Friday</td>\n",
       "      <td>January</td>\n",
       "      <td>Jan</td>\n",
       "      <td>1</td>\n",
       "      <td>0</td>\n",
       "      <td>1</td>\n",
       "    </tr>\n",
       "    <tr>\n",
       "      <th>4</th>\n",
       "      <td>2020-01-04</td>\n",
       "      <td>2020</td>\n",
       "      <td>1</td>\n",
       "      <td>4</td>\n",
       "      <td>5</td>\n",
       "      <td>Saturday</td>\n",
       "      <td>January</td>\n",
       "      <td>Jan</td>\n",
       "      <td>1</td>\n",
       "      <td>1</td>\n",
       "      <td>1</td>\n",
       "    </tr>\n",
       "  </tbody>\n",
       "</table>\n",
       "</div>"
      ],
      "text/plain": [
       "    date_rep  year  month  day  day_of_the_week  day_name month_name  \\\n",
       "0 2019-12-31  2019     12   31                1   Tuesday   December   \n",
       "1 2020-01-01  2020      1    1                2  Wednsday    January   \n",
       "2 2020-01-02  2020      1    2                3  Thursday    January   \n",
       "3 2020-01-03  2020      1    3                4    Friday    January   \n",
       "4 2020-01-04  2020      1    4                5  Saturday    January   \n",
       "\n",
       "  month_name_abbr  week_of_the_year  is_weekend  quarter  \n",
       "0             Dec                 1           0        4  \n",
       "1             Jan                 1           0        1  \n",
       "2             Jan                 1           0        1  \n",
       "3             Jan                 1           0        1  \n",
       "4             Jan                 1           1        1  "
      ]
     },
     "execution_count": 1191,
     "metadata": {},
     "output_type": "execute_result"
    }
   ],
   "source": [
    "df_date[\"month_name\"] = pd.DatetimeIndex(df_date['date_rep']).month_name()\n",
    "df_date[\"month_name_abbr\"] = pd.DatetimeIndex(df_date['date_rep']).month_name().str.slice(stop=3)\n",
    "df_date[\"week_of_the_year\"] = pd.DatetimeIndex(df_date['date_rep']).week\n",
    "\n",
    "df_date[\"is_weekend\"] = 0\n",
    "df_date.loc[df_date['day_of_the_week'].isin([5, 6]), 'is_weekend'] = 1\n",
    "\n",
    "df_date[\"quarter\"] = pd.DatetimeIndex(df_date['date_rep']).quarter\n",
    "\n",
    "df_date.head()"
   ]
  },
  {
   "cell_type": "code",
   "execution_count": 1192,
   "metadata": {
    "hidden": true
   },
   "outputs": [
    {
     "data": {
      "text/html": [
       "<div>\n",
       "<style scoped>\n",
       "    .dataframe tbody tr th:only-of-type {\n",
       "        vertical-align: middle;\n",
       "    }\n",
       "\n",
       "    .dataframe tbody tr th {\n",
       "        vertical-align: top;\n",
       "    }\n",
       "\n",
       "    .dataframe thead th {\n",
       "        text-align: right;\n",
       "    }\n",
       "</style>\n",
       "<table border=\"1\" class=\"dataframe\">\n",
       "  <thead>\n",
       "    <tr style=\"text-align: right;\">\n",
       "      <th></th>\n",
       "      <th>date_rep</th>\n",
       "      <th>year</th>\n",
       "      <th>month</th>\n",
       "      <th>day</th>\n",
       "      <th>day_of_the_week</th>\n",
       "      <th>day_name</th>\n",
       "      <th>month_name</th>\n",
       "      <th>month_name_abbr</th>\n",
       "      <th>week_of_the_year</th>\n",
       "      <th>is_weekend</th>\n",
       "      <th>quarter</th>\n",
       "      <th>date_id</th>\n",
       "    </tr>\n",
       "  </thead>\n",
       "  <tbody>\n",
       "    <tr>\n",
       "      <th>0</th>\n",
       "      <td>2019-12-31</td>\n",
       "      <td>2019</td>\n",
       "      <td>12</td>\n",
       "      <td>31</td>\n",
       "      <td>1</td>\n",
       "      <td>Tuesday</td>\n",
       "      <td>December</td>\n",
       "      <td>Dec</td>\n",
       "      <td>1</td>\n",
       "      <td>0</td>\n",
       "      <td>4</td>\n",
       "      <td>0</td>\n",
       "    </tr>\n",
       "    <tr>\n",
       "      <th>1</th>\n",
       "      <td>2020-01-01</td>\n",
       "      <td>2020</td>\n",
       "      <td>1</td>\n",
       "      <td>1</td>\n",
       "      <td>2</td>\n",
       "      <td>Wednsday</td>\n",
       "      <td>January</td>\n",
       "      <td>Jan</td>\n",
       "      <td>1</td>\n",
       "      <td>0</td>\n",
       "      <td>1</td>\n",
       "      <td>1</td>\n",
       "    </tr>\n",
       "    <tr>\n",
       "      <th>2</th>\n",
       "      <td>2020-01-02</td>\n",
       "      <td>2020</td>\n",
       "      <td>1</td>\n",
       "      <td>2</td>\n",
       "      <td>3</td>\n",
       "      <td>Thursday</td>\n",
       "      <td>January</td>\n",
       "      <td>Jan</td>\n",
       "      <td>1</td>\n",
       "      <td>0</td>\n",
       "      <td>1</td>\n",
       "      <td>2</td>\n",
       "    </tr>\n",
       "    <tr>\n",
       "      <th>3</th>\n",
       "      <td>2020-01-03</td>\n",
       "      <td>2020</td>\n",
       "      <td>1</td>\n",
       "      <td>3</td>\n",
       "      <td>4</td>\n",
       "      <td>Friday</td>\n",
       "      <td>January</td>\n",
       "      <td>Jan</td>\n",
       "      <td>1</td>\n",
       "      <td>0</td>\n",
       "      <td>1</td>\n",
       "      <td>3</td>\n",
       "    </tr>\n",
       "    <tr>\n",
       "      <th>4</th>\n",
       "      <td>2020-01-04</td>\n",
       "      <td>2020</td>\n",
       "      <td>1</td>\n",
       "      <td>4</td>\n",
       "      <td>5</td>\n",
       "      <td>Saturday</td>\n",
       "      <td>January</td>\n",
       "      <td>Jan</td>\n",
       "      <td>1</td>\n",
       "      <td>1</td>\n",
       "      <td>1</td>\n",
       "      <td>4</td>\n",
       "    </tr>\n",
       "  </tbody>\n",
       "</table>\n",
       "</div>"
      ],
      "text/plain": [
       "    date_rep  year  month  day  day_of_the_week  day_name month_name  \\\n",
       "0 2019-12-31  2019     12   31                1   Tuesday   December   \n",
       "1 2020-01-01  2020      1    1                2  Wednsday    January   \n",
       "2 2020-01-02  2020      1    2                3  Thursday    January   \n",
       "3 2020-01-03  2020      1    3                4    Friday    January   \n",
       "4 2020-01-04  2020      1    4                5  Saturday    January   \n",
       "\n",
       "  month_name_abbr  week_of_the_year  is_weekend  quarter  date_id  \n",
       "0             Dec                 1           0        4        0  \n",
       "1             Jan                 1           0        1        1  \n",
       "2             Jan                 1           0        1        2  \n",
       "3             Jan                 1           0        1        3  \n",
       "4             Jan                 1           1        1        4  "
      ]
     },
     "execution_count": 1192,
     "metadata": {},
     "output_type": "execute_result"
    }
   ],
   "source": [
    "df_date[\"date_id\"] = df_date.index\n",
    "df_date.head()"
   ]
  },
  {
   "cell_type": "code",
   "execution_count": 1193,
   "metadata": {
    "hidden": true
   },
   "outputs": [
    {
     "data": {
      "text/html": [
       "<div>\n",
       "<style scoped>\n",
       "    .dataframe tbody tr th:only-of-type {\n",
       "        vertical-align: middle;\n",
       "    }\n",
       "\n",
       "    .dataframe tbody tr th {\n",
       "        vertical-align: top;\n",
       "    }\n",
       "\n",
       "    .dataframe thead th {\n",
       "        text-align: right;\n",
       "    }\n",
       "</style>\n",
       "<table border=\"1\" class=\"dataframe\">\n",
       "  <thead>\n",
       "    <tr style=\"text-align: right;\">\n",
       "      <th></th>\n",
       "      <th>date_id</th>\n",
       "      <th>date_rep</th>\n",
       "      <th>year</th>\n",
       "      <th>month</th>\n",
       "      <th>day</th>\n",
       "      <th>day_of_the_week</th>\n",
       "      <th>day_name</th>\n",
       "      <th>month_name</th>\n",
       "      <th>month_name_abbr</th>\n",
       "      <th>week_of_the_year</th>\n",
       "      <th>is_weekend</th>\n",
       "      <th>quarter</th>\n",
       "    </tr>\n",
       "  </thead>\n",
       "  <tbody>\n",
       "    <tr>\n",
       "      <th>0</th>\n",
       "      <td>0</td>\n",
       "      <td>2019-12-31</td>\n",
       "      <td>2019</td>\n",
       "      <td>12</td>\n",
       "      <td>31</td>\n",
       "      <td>1</td>\n",
       "      <td>Tuesday</td>\n",
       "      <td>December</td>\n",
       "      <td>Dec</td>\n",
       "      <td>1</td>\n",
       "      <td>0</td>\n",
       "      <td>4</td>\n",
       "    </tr>\n",
       "    <tr>\n",
       "      <th>1</th>\n",
       "      <td>1</td>\n",
       "      <td>2020-01-01</td>\n",
       "      <td>2020</td>\n",
       "      <td>1</td>\n",
       "      <td>1</td>\n",
       "      <td>2</td>\n",
       "      <td>Wednsday</td>\n",
       "      <td>January</td>\n",
       "      <td>Jan</td>\n",
       "      <td>1</td>\n",
       "      <td>0</td>\n",
       "      <td>1</td>\n",
       "    </tr>\n",
       "    <tr>\n",
       "      <th>2</th>\n",
       "      <td>2</td>\n",
       "      <td>2020-01-02</td>\n",
       "      <td>2020</td>\n",
       "      <td>1</td>\n",
       "      <td>2</td>\n",
       "      <td>3</td>\n",
       "      <td>Thursday</td>\n",
       "      <td>January</td>\n",
       "      <td>Jan</td>\n",
       "      <td>1</td>\n",
       "      <td>0</td>\n",
       "      <td>1</td>\n",
       "    </tr>\n",
       "    <tr>\n",
       "      <th>3</th>\n",
       "      <td>3</td>\n",
       "      <td>2020-01-03</td>\n",
       "      <td>2020</td>\n",
       "      <td>1</td>\n",
       "      <td>3</td>\n",
       "      <td>4</td>\n",
       "      <td>Friday</td>\n",
       "      <td>January</td>\n",
       "      <td>Jan</td>\n",
       "      <td>1</td>\n",
       "      <td>0</td>\n",
       "      <td>1</td>\n",
       "    </tr>\n",
       "    <tr>\n",
       "      <th>4</th>\n",
       "      <td>4</td>\n",
       "      <td>2020-01-04</td>\n",
       "      <td>2020</td>\n",
       "      <td>1</td>\n",
       "      <td>4</td>\n",
       "      <td>5</td>\n",
       "      <td>Saturday</td>\n",
       "      <td>January</td>\n",
       "      <td>Jan</td>\n",
       "      <td>1</td>\n",
       "      <td>1</td>\n",
       "      <td>1</td>\n",
       "    </tr>\n",
       "  </tbody>\n",
       "</table>\n",
       "</div>"
      ],
      "text/plain": [
       "   date_id   date_rep  year  month  day  day_of_the_week  day_name month_name  \\\n",
       "0        0 2019-12-31  2019     12   31                1   Tuesday   December   \n",
       "1        1 2020-01-01  2020      1    1                2  Wednsday    January   \n",
       "2        2 2020-01-02  2020      1    2                3  Thursday    January   \n",
       "3        3 2020-01-03  2020      1    3                4    Friday    January   \n",
       "4        4 2020-01-04  2020      1    4                5  Saturday    January   \n",
       "\n",
       "  month_name_abbr  week_of_the_year  is_weekend  quarter  \n",
       "0             Dec                 1           0        4  \n",
       "1             Jan                 1           0        1  \n",
       "2             Jan                 1           0        1  \n",
       "3             Jan                 1           0        1  \n",
       "4             Jan                 1           1        1  "
      ]
     },
     "execution_count": 1193,
     "metadata": {},
     "output_type": "execute_result"
    }
   ],
   "source": [
    "date_cols = ['date_id','date_rep', 'year', 'month', 'day', 'day_of_the_week', 'day_name',\n",
    "       'month_name', 'month_name_abbr', 'week_of_the_year', 'is_weekend',\n",
    "       'quarter']\n",
    "df_date = df_date[date_cols]\n",
    "df_date.head()"
   ]
  },
  {
   "cell_type": "markdown",
   "metadata": {
    "heading_collapsed": true,
    "hidden": true
   },
   "source": [
    "### Setting data into _additional_data_ dimension"
   ]
  },
  {
   "cell_type": "code",
   "execution_count": 1205,
   "metadata": {
    "hidden": true
   },
   "outputs": [
    {
     "name": "stdout",
     "output_type": "stream",
     "text": [
      "<class 'pandas.core.frame.DataFrame'>\n",
      "Int64Index: 30810 entries, 0 to 30809\n",
      "Data columns (total 28 columns):\n",
      "date_rep                     24479 non-null datetime64[ns]\n",
      "day                          24479 non-null float64\n",
      "month                        24479 non-null float64\n",
      "year                         24479 non-null float64\n",
      "cases                        24479 non-null float64\n",
      "deaths                       24479 non-null float64\n",
      "countries_and_territories    24479 non-null object\n",
      "geo_id                       24372 non-null object\n",
      "pop_data_2018                24169 non-null float64\n",
      "contient                     24479 non-null object\n",
      "country_code                 28866 non-null object\n",
      "income_group_2020            23911 non-null object\n",
      "region                       7821 non-null object\n",
      "log_type                     7823 non-null object\n",
      "category                     7820 non-null object\n",
      "measure                      7823 non-null object\n",
      "targeted_pop_group           7823 non-null object\n",
      "comments                     7683 non-null object\n",
      "non_compliance               6612 non-null object\n",
      "source                       7807 non-null object\n",
      "source_type                  7810 non-null object\n",
      "link                         7792 non-null object\n",
      "entry_date                   7823 non-null datetime64[ns]\n",
      "alternative_source           712 non-null object\n",
      "stringency_index             17832 non-null float64\n",
      "government_response_index    17828 non-null float64\n",
      "containment_health_index     17832 non-null float64\n",
      "economic_support_index       17780 non-null float64\n",
      "dtypes: datetime64[ns](2), float64(10), object(16)\n",
      "memory usage: 6.8+ MB\n"
     ]
    }
   ],
   "source": [
    "df_measure_day_fact.info()"
   ]
  },
  {
   "cell_type": "code",
   "execution_count": 1206,
   "metadata": {
    "hidden": true
   },
   "outputs": [],
   "source": [
    "additional_cols = [\"log_type\", \"targeted_pop_group\", \"comments\", \"non_compliance\", \"source\", \"source_type\", \n",
    "                   \"link\", \"entry_date\", \"alternative_source\"]\n",
    "df_additional = df_measure_day_fact[additional_cols]"
   ]
  },
  {
   "cell_type": "code",
   "execution_count": 1207,
   "metadata": {
    "hidden": true
   },
   "outputs": [
    {
     "name": "stderr",
     "output_type": "stream",
     "text": [
      "c:\\users\\marko\\appdata\\local\\programs\\python\\python36\\lib\\site-packages\\ipykernel_launcher.py:1: SettingWithCopyWarning: \n",
      "A value is trying to be set on a copy of a slice from a DataFrame\n",
      "\n",
      "See the caveats in the documentation: http://pandas.pydata.org/pandas-docs/stable/user_guide/indexing.html#returning-a-view-versus-a-copy\n",
      "  \"\"\"Entry point for launching an IPython kernel.\n"
     ]
    }
   ],
   "source": [
    "df_additional.drop_duplicates(inplace=True)"
   ]
  },
  {
   "cell_type": "code",
   "execution_count": 1208,
   "metadata": {
    "hidden": true
   },
   "outputs": [],
   "source": [
    "df_additional = df_additional.reset_index()"
   ]
  },
  {
   "cell_type": "code",
   "execution_count": 1209,
   "metadata": {
    "hidden": true
   },
   "outputs": [],
   "source": [
    "df_additional.drop(columns=[\"index\"], inplace=True)"
   ]
  },
  {
   "cell_type": "code",
   "execution_count": 1210,
   "metadata": {
    "hidden": true
   },
   "outputs": [],
   "source": [
    "df_additional[\"additional_id\"] = df_additional.index"
   ]
  },
  {
   "cell_type": "code",
   "execution_count": 1212,
   "metadata": {
    "hidden": true
   },
   "outputs": [],
   "source": [
    "add_cols = [\"additional_id\", \"comments\", \"non_compliance\", \"source\", \"source_type\", \"entry_date\", \"alternative_source\", \n",
    "            \"link\", \"log_type\", \"targeted_pop_group\"]\n",
    "df_additional = df_additional[add_cols]"
   ]
  },
  {
   "cell_type": "code",
   "execution_count": 1213,
   "metadata": {
    "collapsed": true,
    "hidden": true
   },
   "outputs": [
    {
     "data": {
      "text/html": [
       "<div>\n",
       "<style scoped>\n",
       "    .dataframe tbody tr th:only-of-type {\n",
       "        vertical-align: middle;\n",
       "    }\n",
       "\n",
       "    .dataframe tbody tr th {\n",
       "        vertical-align: top;\n",
       "    }\n",
       "\n",
       "    .dataframe thead th {\n",
       "        text-align: right;\n",
       "    }\n",
       "</style>\n",
       "<table border=\"1\" class=\"dataframe\">\n",
       "  <thead>\n",
       "    <tr style=\"text-align: right;\">\n",
       "      <th></th>\n",
       "      <th>additional_id</th>\n",
       "      <th>comments</th>\n",
       "      <th>non_compliance</th>\n",
       "      <th>source</th>\n",
       "      <th>source_type</th>\n",
       "      <th>entry_date</th>\n",
       "      <th>alternative_source</th>\n",
       "      <th>link</th>\n",
       "      <th>log_type</th>\n",
       "      <th>targeted_pop_group</th>\n",
       "    </tr>\n",
       "  </thead>\n",
       "  <tbody>\n",
       "    <tr>\n",
       "      <th>0</th>\n",
       "      <td>0</td>\n",
       "      <td>NaN</td>\n",
       "      <td>NaN</td>\n",
       "      <td>NaN</td>\n",
       "      <td>NaN</td>\n",
       "      <td>NaT</td>\n",
       "      <td>NaN</td>\n",
       "      <td>NaN</td>\n",
       "      <td>NaN</td>\n",
       "      <td>NaN</td>\n",
       "    </tr>\n",
       "    <tr>\n",
       "      <th>1</th>\n",
       "      <td>1</td>\n",
       "      <td>A COVID-19 lab is opened using Government of A...</td>\n",
       "      <td>NaN</td>\n",
       "      <td>Afghanistan MoPH</td>\n",
       "      <td>Government</td>\n",
       "      <td>2020-04-07</td>\n",
       "      <td>https://af.usembassy.gov/covid-19-information/</td>\n",
       "      <td>https://www.facebook.com/af.moph/posts/1060980...</td>\n",
       "      <td>Introduction / extension of measures</td>\n",
       "      <td>No</td>\n",
       "    </tr>\n",
       "    <tr>\n",
       "      <th>2</th>\n",
       "      <td>2</td>\n",
       "      <td>Machines for health care were sent to Herat Pr...</td>\n",
       "      <td>NaN</td>\n",
       "      <td>Afghanistan MoPH</td>\n",
       "      <td>Government</td>\n",
       "      <td>2020-04-07</td>\n",
       "      <td>NaN</td>\n",
       "      <td>https://www.facebook.com/af.moph/photos/a.4626...</td>\n",
       "      <td>Introduction / extension of measures</td>\n",
       "      <td>No</td>\n",
       "    </tr>\n",
       "    <tr>\n",
       "      <th>3</th>\n",
       "      <td>3</td>\n",
       "      <td>Supplies from China received today</td>\n",
       "      <td>NaN</td>\n",
       "      <td>Afghanistan MoPH</td>\n",
       "      <td>Government</td>\n",
       "      <td>2020-04-07</td>\n",
       "      <td>NaN</td>\n",
       "      <td>https://www.facebook.com/af.moph/posts/1057171...</td>\n",
       "      <td>Introduction / extension of measures</td>\n",
       "      <td>No</td>\n",
       "    </tr>\n",
       "    <tr>\n",
       "      <th>4</th>\n",
       "      <td>4</td>\n",
       "      <td>2nd diagnostic lab opened today</td>\n",
       "      <td>NaN</td>\n",
       "      <td>Afghanistan MoPH</td>\n",
       "      <td>Government</td>\n",
       "      <td>2020-04-07</td>\n",
       "      <td>NaN</td>\n",
       "      <td>https://www.facebook.com/af.moph/posts/1055005...</td>\n",
       "      <td>Introduction / extension of measures</td>\n",
       "      <td>No</td>\n",
       "    </tr>\n",
       "  </tbody>\n",
       "</table>\n",
       "</div>"
      ],
      "text/plain": [
       "   additional_id                                           comments  \\\n",
       "0              0                                                NaN   \n",
       "1              1  A COVID-19 lab is opened using Government of A...   \n",
       "2              2  Machines for health care were sent to Herat Pr...   \n",
       "3              3                Supplies from China received today    \n",
       "4              4                   2nd diagnostic lab opened today    \n",
       "\n",
       "  non_compliance            source source_type entry_date  \\\n",
       "0            NaN               NaN         NaN        NaT   \n",
       "1            NaN  Afghanistan MoPH  Government 2020-04-07   \n",
       "2            NaN  Afghanistan MoPH  Government 2020-04-07   \n",
       "3            NaN  Afghanistan MoPH  Government 2020-04-07   \n",
       "4            NaN  Afghanistan MoPH  Government 2020-04-07   \n",
       "\n",
       "                                alternative_source  \\\n",
       "0                                              NaN   \n",
       "1  https://af.usembassy.gov/covid-19-information/    \n",
       "2                                              NaN   \n",
       "3                                              NaN   \n",
       "4                                              NaN   \n",
       "\n",
       "                                                link  \\\n",
       "0                                                NaN   \n",
       "1  https://www.facebook.com/af.moph/posts/1060980...   \n",
       "2  https://www.facebook.com/af.moph/photos/a.4626...   \n",
       "3  https://www.facebook.com/af.moph/posts/1057171...   \n",
       "4  https://www.facebook.com/af.moph/posts/1055005...   \n",
       "\n",
       "                               log_type targeted_pop_group  \n",
       "0                                   NaN                NaN  \n",
       "1  Introduction / extension of measures                 No  \n",
       "2  Introduction / extension of measures                 No  \n",
       "3  Introduction / extension of measures                 No  \n",
       "4  Introduction / extension of measures                 No  "
      ]
     },
     "execution_count": 1213,
     "metadata": {},
     "output_type": "execute_result"
    }
   ],
   "source": [
    "df_additional.head()"
   ]
  },
  {
   "cell_type": "markdown",
   "metadata": {
    "heading_collapsed": true
   },
   "source": [
    "## Adding foreign keys to _fact_ table"
   ]
  },
  {
   "cell_type": "markdown",
   "metadata": {
    "hidden": true
   },
   "source": [
    "Finally, it is time to remove all unnecessary data from _fact_ table and connect it with dimensions via foreign keys relationships."
   ]
  },
  {
   "cell_type": "markdown",
   "metadata": {
    "heading_collapsed": true,
    "hidden": true
   },
   "source": [
    "### Adding _country_dim_ key"
   ]
  },
  {
   "cell_type": "markdown",
   "metadata": {
    "hidden": true
   },
   "source": [
    "Table containing _country_ data will be connected with the _fact_ table by merging columns _country_name_ and _contries_and_territories_ (just like in merging _country_ dimension) and then setting foreign key via that value."
   ]
  },
  {
   "cell_type": "code",
   "execution_count": 1218,
   "metadata": {
    "hidden": true
   },
   "outputs": [],
   "source": [
    "#df_measure_day_fact.to_csv(\"raw_fact2.csv\", index=False)"
   ]
  },
  {
   "cell_type": "code",
   "execution_count": 1568,
   "metadata": {
    "hidden": true
   },
   "outputs": [],
   "source": [
    "df_measure_day_fact = pd.read_csv(\"raw_fact2.csv\", index_col=None)"
   ]
  },
  {
   "cell_type": "code",
   "execution_count": 1569,
   "metadata": {
    "hidden": true
   },
   "outputs": [
    {
     "name": "stdout",
     "output_type": "stream",
     "text": [
      "<class 'pandas.core.frame.DataFrame'>\n",
      "RangeIndex: 30810 entries, 0 to 30809\n",
      "Data columns (total 28 columns):\n",
      "date_rep                     24479 non-null object\n",
      "day                          24479 non-null float64\n",
      "month                        24479 non-null float64\n",
      "year                         24479 non-null float64\n",
      "cases                        24479 non-null float64\n",
      "deaths                       24479 non-null float64\n",
      "countries_and_territories    24479 non-null object\n",
      "geo_id                       24372 non-null object\n",
      "pop_data_2018                24169 non-null float64\n",
      "contient                     24479 non-null object\n",
      "country_code                 28866 non-null object\n",
      "income_group_2020            23911 non-null object\n",
      "region                       7821 non-null object\n",
      "log_type                     7823 non-null object\n",
      "category                     7820 non-null object\n",
      "measure                      7823 non-null object\n",
      "targeted_pop_group           7823 non-null object\n",
      "comments                     7683 non-null object\n",
      "non_compliance               6612 non-null object\n",
      "source                       7807 non-null object\n",
      "source_type                  7810 non-null object\n",
      "link                         7792 non-null object\n",
      "entry_date                   7823 non-null object\n",
      "alternative_source           712 non-null object\n",
      "stringency_index             17832 non-null float64\n",
      "government_response_index    17828 non-null float64\n",
      "containment_health_index     17832 non-null float64\n",
      "economic_support_index       17780 non-null float64\n",
      "dtypes: float64(10), object(18)\n",
      "memory usage: 6.6+ MB\n"
     ]
    }
   ],
   "source": [
    "df_measure_day_fact.info()"
   ]
  },
  {
   "cell_type": "code",
   "execution_count": 1570,
   "metadata": {
    "hidden": true
   },
   "outputs": [],
   "source": [
    "df_measure_day_fact = df_measure_day_fact[df_measure_day_fact[\"country_code\"].notnull()]"
   ]
  },
  {
   "cell_type": "code",
   "execution_count": 1571,
   "metadata": {
    "hidden": true
   },
   "outputs": [],
   "source": [
    "df_measure_day_fact = df_measure_day_fact.merge(df_country[[\"country_id\", \"country_code\"]], how='outer', \n",
    "                                                            left_on = \"country_code\", right_on=\"country_code\")"
   ]
  },
  {
   "cell_type": "code",
   "execution_count": 1572,
   "metadata": {
    "hidden": true
   },
   "outputs": [],
   "source": [
    "df_measure_day_fact.drop(columns=[\"country_code\", \"countries_and_territories\", \n",
    "                                  \"income_group_2020\", \"contient\", \"pop_data_2018\", \"geo_id\"], inplace=True)"
   ]
  },
  {
   "cell_type": "code",
   "execution_count": 1573,
   "metadata": {
    "hidden": true
   },
   "outputs": [
    {
     "name": "stdout",
     "output_type": "stream",
     "text": [
      "<class 'pandas.core.frame.DataFrame'>\n",
      "Int64Index: 28866 entries, 0 to 28865\n",
      "Data columns (total 23 columns):\n",
      "date_rep                     23884 non-null object\n",
      "day                          23884 non-null float64\n",
      "month                        23884 non-null float64\n",
      "year                         23884 non-null float64\n",
      "cases                        23884 non-null float64\n",
      "deaths                       23884 non-null float64\n",
      "region                       6472 non-null object\n",
      "log_type                     6474 non-null object\n",
      "category                     6472 non-null object\n",
      "measure                      6474 non-null object\n",
      "targeted_pop_group           6474 non-null object\n",
      "comments                     6387 non-null object\n",
      "non_compliance               5614 non-null object\n",
      "source                       6469 non-null object\n",
      "source_type                  6470 non-null object\n",
      "link                         6461 non-null object\n",
      "entry_date                   6474 non-null object\n",
      "alternative_source           616 non-null object\n",
      "stringency_index             17832 non-null float64\n",
      "government_response_index    17828 non-null float64\n",
      "containment_health_index     17832 non-null float64\n",
      "economic_support_index       17780 non-null float64\n",
      "country_id                   25697 non-null float64\n",
      "dtypes: float64(10), object(13)\n",
      "memory usage: 5.3+ MB\n"
     ]
    }
   ],
   "source": [
    "df_measure_day_fact.info()"
   ]
  },
  {
   "cell_type": "markdown",
   "metadata": {
    "heading_collapsed": true,
    "hidden": true
   },
   "source": [
    "### Adding _date_dim_ key"
   ]
  },
  {
   "cell_type": "code",
   "execution_count": 1574,
   "metadata": {
    "hidden": true
   },
   "outputs": [],
   "source": [
    "df_measure_day_fact['date_rep'] = pd.to_datetime(df_measure_day_fact['date_rep'], format='%Y-%m-%d')"
   ]
  },
  {
   "cell_type": "code",
   "execution_count": 1575,
   "metadata": {
    "hidden": true
   },
   "outputs": [
    {
     "name": "stdout",
     "output_type": "stream",
     "text": [
      "<class 'pandas.core.frame.DataFrame'>\n",
      "Int64Index: 28866 entries, 0 to 28865\n",
      "Data columns (total 23 columns):\n",
      "date_rep                     23884 non-null datetime64[ns]\n",
      "day                          23884 non-null float64\n",
      "month                        23884 non-null float64\n",
      "year                         23884 non-null float64\n",
      "cases                        23884 non-null float64\n",
      "deaths                       23884 non-null float64\n",
      "region                       6472 non-null object\n",
      "log_type                     6474 non-null object\n",
      "category                     6472 non-null object\n",
      "measure                      6474 non-null object\n",
      "targeted_pop_group           6474 non-null object\n",
      "comments                     6387 non-null object\n",
      "non_compliance               5614 non-null object\n",
      "source                       6469 non-null object\n",
      "source_type                  6470 non-null object\n",
      "link                         6461 non-null object\n",
      "entry_date                   6474 non-null object\n",
      "alternative_source           616 non-null object\n",
      "stringency_index             17832 non-null float64\n",
      "government_response_index    17828 non-null float64\n",
      "containment_health_index     17832 non-null float64\n",
      "economic_support_index       17780 non-null float64\n",
      "country_id                   25697 non-null float64\n",
      "dtypes: datetime64[ns](1), float64(10), object(12)\n",
      "memory usage: 5.3+ MB\n"
     ]
    }
   ],
   "source": [
    "df_measure_day_fact.info()"
   ]
  },
  {
   "cell_type": "code",
   "execution_count": 1576,
   "metadata": {
    "hidden": true
   },
   "outputs": [],
   "source": [
    "df_measure_day_fact = df_measure_day_fact.merge(df_date[[\"date_id\", \"date_rep\"]], \n",
    "                                                how='outer', \n",
    "                                                left_on=\"date_rep\", \n",
    "                                                right_on=\"date_rep\")"
   ]
  },
  {
   "cell_type": "code",
   "execution_count": 1577,
   "metadata": {
    "hidden": true
   },
   "outputs": [],
   "source": [
    "df_measure_day_fact.drop(columns=[\"date_rep\", \"year\", \"month\", \"day\", \"entry_date\", \"region\"], inplace=True)"
   ]
  },
  {
   "cell_type": "code",
   "execution_count": 1578,
   "metadata": {
    "hidden": true
   },
   "outputs": [
    {
     "name": "stdout",
     "output_type": "stream",
     "text": [
      "<class 'pandas.core.frame.DataFrame'>\n",
      "Int64Index: 28866 entries, 0 to 28865\n",
      "Data columns (total 18 columns):\n",
      "cases                        23884 non-null float64\n",
      "deaths                       23884 non-null float64\n",
      "log_type                     6474 non-null object\n",
      "category                     6472 non-null object\n",
      "measure                      6474 non-null object\n",
      "targeted_pop_group           6474 non-null object\n",
      "comments                     6387 non-null object\n",
      "non_compliance               5614 non-null object\n",
      "source                       6469 non-null object\n",
      "source_type                  6470 non-null object\n",
      "link                         6461 non-null object\n",
      "alternative_source           616 non-null object\n",
      "stringency_index             17832 non-null float64\n",
      "government_response_index    17828 non-null float64\n",
      "containment_health_index     17832 non-null float64\n",
      "economic_support_index       17780 non-null float64\n",
      "country_id                   25697 non-null float64\n",
      "date_id                      23884 non-null float64\n",
      "dtypes: float64(8), object(10)\n",
      "memory usage: 4.2+ MB\n"
     ]
    }
   ],
   "source": [
    "df_measure_day_fact.info()"
   ]
  },
  {
   "cell_type": "markdown",
   "metadata": {
    "heading_collapsed": true,
    "hidden": true
   },
   "source": [
    "### Adding _measure_dim_ key"
   ]
  },
  {
   "cell_type": "code",
   "execution_count": 1579,
   "metadata": {
    "hidden": true
   },
   "outputs": [],
   "source": [
    "df_measure_day_fact = df_measure_day_fact.merge(df_measure[[\"measure_id\", \"measure\"]], \n",
    "                                                how='outer', \n",
    "                                                left_on=\"measure\", \n",
    "                                                right_on=\"measure\")"
   ]
  },
  {
   "cell_type": "code",
   "execution_count": 1580,
   "metadata": {
    "hidden": true
   },
   "outputs": [],
   "source": [
    "df_measure_day_fact.drop(columns=[\"measure\",\"category\"], inplace=True)"
   ]
  },
  {
   "cell_type": "code",
   "execution_count": 1581,
   "metadata": {
    "hidden": true
   },
   "outputs": [
    {
     "data": {
      "text/html": [
       "<div>\n",
       "<style scoped>\n",
       "    .dataframe tbody tr th:only-of-type {\n",
       "        vertical-align: middle;\n",
       "    }\n",
       "\n",
       "    .dataframe tbody tr th {\n",
       "        vertical-align: top;\n",
       "    }\n",
       "\n",
       "    .dataframe thead th {\n",
       "        text-align: right;\n",
       "    }\n",
       "</style>\n",
       "<table border=\"1\" class=\"dataframe\">\n",
       "  <thead>\n",
       "    <tr style=\"text-align: right;\">\n",
       "      <th></th>\n",
       "      <th>cases</th>\n",
       "      <th>deaths</th>\n",
       "      <th>log_type</th>\n",
       "      <th>targeted_pop_group</th>\n",
       "      <th>comments</th>\n",
       "      <th>non_compliance</th>\n",
       "      <th>source</th>\n",
       "      <th>source_type</th>\n",
       "      <th>link</th>\n",
       "      <th>alternative_source</th>\n",
       "      <th>stringency_index</th>\n",
       "      <th>government_response_index</th>\n",
       "      <th>containment_health_index</th>\n",
       "      <th>economic_support_index</th>\n",
       "      <th>country_id</th>\n",
       "      <th>date_id</th>\n",
       "      <th>measure_id</th>\n",
       "    </tr>\n",
       "  </thead>\n",
       "  <tbody>\n",
       "    <tr>\n",
       "      <th>0</th>\n",
       "      <td>545.0</td>\n",
       "      <td>8.0</td>\n",
       "      <td>NaN</td>\n",
       "      <td>NaN</td>\n",
       "      <td>NaN</td>\n",
       "      <td>NaN</td>\n",
       "      <td>NaN</td>\n",
       "      <td>NaN</td>\n",
       "      <td>NaN</td>\n",
       "      <td>NaN</td>\n",
       "      <td>NaN</td>\n",
       "      <td>NaN</td>\n",
       "      <td>NaN</td>\n",
       "      <td>NaN</td>\n",
       "      <td>0.0</td>\n",
       "      <td>154.0</td>\n",
       "      <td>NaN</td>\n",
       "    </tr>\n",
       "    <tr>\n",
       "      <th>1</th>\n",
       "      <td>6.0</td>\n",
       "      <td>0.0</td>\n",
       "      <td>NaN</td>\n",
       "      <td>NaN</td>\n",
       "      <td>NaN</td>\n",
       "      <td>NaN</td>\n",
       "      <td>NaN</td>\n",
       "      <td>NaN</td>\n",
       "      <td>NaN</td>\n",
       "      <td>NaN</td>\n",
       "      <td>NaN</td>\n",
       "      <td>NaN</td>\n",
       "      <td>NaN</td>\n",
       "      <td>NaN</td>\n",
       "      <td>2.0</td>\n",
       "      <td>154.0</td>\n",
       "      <td>NaN</td>\n",
       "    </tr>\n",
       "    <tr>\n",
       "      <th>2</th>\n",
       "      <td>119.0</td>\n",
       "      <td>8.0</td>\n",
       "      <td>NaN</td>\n",
       "      <td>NaN</td>\n",
       "      <td>NaN</td>\n",
       "      <td>NaN</td>\n",
       "      <td>NaN</td>\n",
       "      <td>NaN</td>\n",
       "      <td>NaN</td>\n",
       "      <td>NaN</td>\n",
       "      <td>NaN</td>\n",
       "      <td>NaN</td>\n",
       "      <td>NaN</td>\n",
       "      <td>NaN</td>\n",
       "      <td>47.0</td>\n",
       "      <td>154.0</td>\n",
       "      <td>NaN</td>\n",
       "    </tr>\n",
       "    <tr>\n",
       "      <th>3</th>\n",
       "      <td>1.0</td>\n",
       "      <td>0.0</td>\n",
       "      <td>NaN</td>\n",
       "      <td>NaN</td>\n",
       "      <td>NaN</td>\n",
       "      <td>NaN</td>\n",
       "      <td>NaN</td>\n",
       "      <td>NaN</td>\n",
       "      <td>NaN</td>\n",
       "      <td>NaN</td>\n",
       "      <td>NaN</td>\n",
       "      <td>NaN</td>\n",
       "      <td>NaN</td>\n",
       "      <td>NaN</td>\n",
       "      <td>NaN</td>\n",
       "      <td>154.0</td>\n",
       "      <td>NaN</td>\n",
       "    </tr>\n",
       "    <tr>\n",
       "      <th>4</th>\n",
       "      <td>0.0</td>\n",
       "      <td>0.0</td>\n",
       "      <td>NaN</td>\n",
       "      <td>NaN</td>\n",
       "      <td>NaN</td>\n",
       "      <td>NaN</td>\n",
       "      <td>NaN</td>\n",
       "      <td>NaN</td>\n",
       "      <td>NaN</td>\n",
       "      <td>NaN</td>\n",
       "      <td>NaN</td>\n",
       "      <td>NaN</td>\n",
       "      <td>NaN</td>\n",
       "      <td>NaN</td>\n",
       "      <td>1.0</td>\n",
       "      <td>154.0</td>\n",
       "      <td>NaN</td>\n",
       "    </tr>\n",
       "  </tbody>\n",
       "</table>\n",
       "</div>"
      ],
      "text/plain": [
       "   cases  deaths log_type targeted_pop_group comments non_compliance source  \\\n",
       "0  545.0     8.0      NaN                NaN      NaN            NaN    NaN   \n",
       "1    6.0     0.0      NaN                NaN      NaN            NaN    NaN   \n",
       "2  119.0     8.0      NaN                NaN      NaN            NaN    NaN   \n",
       "3    1.0     0.0      NaN                NaN      NaN            NaN    NaN   \n",
       "4    0.0     0.0      NaN                NaN      NaN            NaN    NaN   \n",
       "\n",
       "  source_type link alternative_source  stringency_index  \\\n",
       "0         NaN  NaN                NaN               NaN   \n",
       "1         NaN  NaN                NaN               NaN   \n",
       "2         NaN  NaN                NaN               NaN   \n",
       "3         NaN  NaN                NaN               NaN   \n",
       "4         NaN  NaN                NaN               NaN   \n",
       "\n",
       "   government_response_index  containment_health_index  \\\n",
       "0                        NaN                       NaN   \n",
       "1                        NaN                       NaN   \n",
       "2                        NaN                       NaN   \n",
       "3                        NaN                       NaN   \n",
       "4                        NaN                       NaN   \n",
       "\n",
       "   economic_support_index  country_id  date_id  measure_id  \n",
       "0                     NaN         0.0    154.0         NaN  \n",
       "1                     NaN         2.0    154.0         NaN  \n",
       "2                     NaN        47.0    154.0         NaN  \n",
       "3                     NaN         NaN    154.0         NaN  \n",
       "4                     NaN         1.0    154.0         NaN  "
      ]
     },
     "execution_count": 1581,
     "metadata": {},
     "output_type": "execute_result"
    }
   ],
   "source": [
    "df_measure_day_fact.head()"
   ]
  },
  {
   "cell_type": "markdown",
   "metadata": {
    "heading_collapsed": true,
    "hidden": true
   },
   "source": [
    "### Adding _additional_dim_ key"
   ]
  },
  {
   "cell_type": "code",
   "execution_count": 1582,
   "metadata": {
    "hidden": true
   },
   "outputs": [
    {
     "name": "stdout",
     "output_type": "stream",
     "text": [
      "<class 'pandas.core.frame.DataFrame'>\n",
      "RangeIndex: 7751 entries, 0 to 7750\n",
      "Data columns (total 10 columns):\n",
      "additional_id         7751 non-null int64\n",
      "comments              7628 non-null object\n",
      "non_compliance        6559 non-null object\n",
      "source                7737 non-null object\n",
      "source_type           7740 non-null object\n",
      "entry_date            7750 non-null datetime64[ns]\n",
      "alternative_source    709 non-null object\n",
      "link                  7722 non-null object\n",
      "log_type              7750 non-null object\n",
      "targeted_pop_group    7750 non-null object\n",
      "dtypes: datetime64[ns](1), int64(1), object(8)\n",
      "memory usage: 605.7+ KB\n"
     ]
    }
   ],
   "source": [
    "df_additional.info()"
   ]
  },
  {
   "cell_type": "code",
   "execution_count": 1583,
   "metadata": {
    "hidden": true
   },
   "outputs": [
    {
     "name": "stdout",
     "output_type": "stream",
     "text": [
      "<class 'pandas.core.frame.DataFrame'>\n",
      "Int64Index: 28867 entries, 0 to 28866\n",
      "Data columns (total 17 columns):\n",
      "cases                        23884 non-null float64\n",
      "deaths                       23884 non-null float64\n",
      "log_type                     6474 non-null object\n",
      "targeted_pop_group           6474 non-null object\n",
      "comments                     6387 non-null object\n",
      "non_compliance               5614 non-null object\n",
      "source                       6469 non-null object\n",
      "source_type                  6470 non-null object\n",
      "link                         6461 non-null object\n",
      "alternative_source           616 non-null object\n",
      "stringency_index             17832 non-null float64\n",
      "government_response_index    17828 non-null float64\n",
      "containment_health_index     17832 non-null float64\n",
      "economic_support_index       17780 non-null float64\n",
      "country_id                   25697 non-null float64\n",
      "date_id                      23884 non-null float64\n",
      "measure_id                   6444 non-null float64\n",
      "dtypes: float64(9), object(8)\n",
      "memory usage: 4.0+ MB\n"
     ]
    }
   ],
   "source": [
    "df_measure_day_fact.info()"
   ]
  },
  {
   "cell_type": "code",
   "execution_count": 1584,
   "metadata": {
    "hidden": true
   },
   "outputs": [],
   "source": [
    "df_measure_day_fact = df_measure_day_fact.merge(df_additional, \n",
    "                                                how='outer', \n",
    "                                                left_on=[\"log_type\", \"targeted_pop_group\",\"comments\", \n",
    "                                                         \"non_compliance\", \"source\", \"source_type\", \n",
    "                                                         \"link\", \"alternative_source\"], \n",
    "                                                right_on=[\"log_type\", \"targeted_pop_group\",\"comments\", \n",
    "                                                         \"non_compliance\", \"source\", \"source_type\", \n",
    "                                                         \"link\", \"alternative_source\"])"
   ]
  },
  {
   "cell_type": "code",
   "execution_count": 1585,
   "metadata": {
    "hidden": true
   },
   "outputs": [],
   "source": [
    "df_measure_day_fact.drop(columns=[\"comments\", \"log_type\", \"targeted_pop_group\", \"non_compliance\", \n",
    "                                  \"source\", \"source_type\", \"link\", \"alternative_source\", \"entry_date\"], inplace=True)"
   ]
  },
  {
   "cell_type": "code",
   "execution_count": 1586,
   "metadata": {
    "hidden": true
   },
   "outputs": [],
   "source": [
    "df_measure_day_fact = df_measure_day_fact[df_measure_day_fact[\"country_id\"].notnull()]\n",
    "df_measure_day_fact = df_measure_day_fact[df_measure_day_fact[\"date_id\"].notnull()].reset_index()"
   ]
  },
  {
   "cell_type": "code",
   "execution_count": 1587,
   "metadata": {
    "hidden": true
   },
   "outputs": [
    {
     "name": "stdout",
     "output_type": "stream",
     "text": [
      "<class 'pandas.core.frame.DataFrame'>\n",
      "RangeIndex: 21658 entries, 0 to 21657\n",
      "Data columns (total 11 columns):\n",
      "index                        21658 non-null int64\n",
      "cases                        21658 non-null float64\n",
      "deaths                       21658 non-null float64\n",
      "stringency_index             12433 non-null float64\n",
      "government_response_index    12429 non-null float64\n",
      "containment_health_index     12433 non-null float64\n",
      "economic_support_index       12383 non-null float64\n",
      "country_id                   21658 non-null float64\n",
      "date_id                      21658 non-null float64\n",
      "measure_id                   6385 non-null float64\n",
      "additional_id                21658 non-null int64\n",
      "dtypes: float64(9), int64(2)\n",
      "memory usage: 1.8 MB\n"
     ]
    }
   ],
   "source": [
    "df_measure_day_fact.info()"
   ]
  },
  {
   "cell_type": "code",
   "execution_count": 1588,
   "metadata": {
    "hidden": true
   },
   "outputs": [],
   "source": [
    "df_measure_day_fact = df_measure_day_fact.drop_duplicates()"
   ]
  },
  {
   "cell_type": "markdown",
   "metadata": {
    "heading_collapsed": true
   },
   "source": [
    "## Final touches"
   ]
  },
  {
   "cell_type": "code",
   "execution_count": 1589,
   "metadata": {
    "hidden": true
   },
   "outputs": [
    {
     "data": {
      "text/html": [
       "<div>\n",
       "<style scoped>\n",
       "    .dataframe tbody tr th:only-of-type {\n",
       "        vertical-align: middle;\n",
       "    }\n",
       "\n",
       "    .dataframe tbody tr th {\n",
       "        vertical-align: top;\n",
       "    }\n",
       "\n",
       "    .dataframe thead th {\n",
       "        text-align: right;\n",
       "    }\n",
       "</style>\n",
       "<table border=\"1\" class=\"dataframe\">\n",
       "  <thead>\n",
       "    <tr style=\"text-align: right;\">\n",
       "      <th></th>\n",
       "      <th>index</th>\n",
       "      <th>cases</th>\n",
       "      <th>deaths</th>\n",
       "      <th>stringency_index</th>\n",
       "      <th>government_response_index</th>\n",
       "      <th>containment_health_index</th>\n",
       "      <th>economic_support_index</th>\n",
       "      <th>country_id</th>\n",
       "      <th>date_id</th>\n",
       "      <th>measure_id</th>\n",
       "      <th>additional_id</th>\n",
       "    </tr>\n",
       "  </thead>\n",
       "  <tbody>\n",
       "    <tr>\n",
       "      <th>0</th>\n",
       "      <td>0</td>\n",
       "      <td>545.0</td>\n",
       "      <td>8.0</td>\n",
       "      <td>NaN</td>\n",
       "      <td>NaN</td>\n",
       "      <td>NaN</td>\n",
       "      <td>NaN</td>\n",
       "      <td>0.0</td>\n",
       "      <td>154.0</td>\n",
       "      <td>NaN</td>\n",
       "      <td>0</td>\n",
       "    </tr>\n",
       "    <tr>\n",
       "      <th>1</th>\n",
       "      <td>1</td>\n",
       "      <td>6.0</td>\n",
       "      <td>0.0</td>\n",
       "      <td>NaN</td>\n",
       "      <td>NaN</td>\n",
       "      <td>NaN</td>\n",
       "      <td>NaN</td>\n",
       "      <td>2.0</td>\n",
       "      <td>154.0</td>\n",
       "      <td>NaN</td>\n",
       "      <td>0</td>\n",
       "    </tr>\n",
       "    <tr>\n",
       "      <th>2</th>\n",
       "      <td>2</td>\n",
       "      <td>119.0</td>\n",
       "      <td>8.0</td>\n",
       "      <td>NaN</td>\n",
       "      <td>NaN</td>\n",
       "      <td>NaN</td>\n",
       "      <td>NaN</td>\n",
       "      <td>47.0</td>\n",
       "      <td>154.0</td>\n",
       "      <td>NaN</td>\n",
       "      <td>0</td>\n",
       "    </tr>\n",
       "    <tr>\n",
       "      <th>3</th>\n",
       "      <td>4</td>\n",
       "      <td>0.0</td>\n",
       "      <td>0.0</td>\n",
       "      <td>NaN</td>\n",
       "      <td>NaN</td>\n",
       "      <td>NaN</td>\n",
       "      <td>NaN</td>\n",
       "      <td>1.0</td>\n",
       "      <td>154.0</td>\n",
       "      <td>NaN</td>\n",
       "      <td>0</td>\n",
       "    </tr>\n",
       "    <tr>\n",
       "      <th>4</th>\n",
       "      <td>5</td>\n",
       "      <td>0.0</td>\n",
       "      <td>0.0</td>\n",
       "      <td>NaN</td>\n",
       "      <td>NaN</td>\n",
       "      <td>NaN</td>\n",
       "      <td>NaN</td>\n",
       "      <td>6.0</td>\n",
       "      <td>154.0</td>\n",
       "      <td>NaN</td>\n",
       "      <td>0</td>\n",
       "    </tr>\n",
       "  </tbody>\n",
       "</table>\n",
       "</div>"
      ],
      "text/plain": [
       "   index  cases  deaths  stringency_index  government_response_index  \\\n",
       "0      0  545.0     8.0               NaN                        NaN   \n",
       "1      1    6.0     0.0               NaN                        NaN   \n",
       "2      2  119.0     8.0               NaN                        NaN   \n",
       "3      4    0.0     0.0               NaN                        NaN   \n",
       "4      5    0.0     0.0               NaN                        NaN   \n",
       "\n",
       "   containment_health_index  economic_support_index  country_id  date_id  \\\n",
       "0                       NaN                     NaN         0.0    154.0   \n",
       "1                       NaN                     NaN         2.0    154.0   \n",
       "2                       NaN                     NaN        47.0    154.0   \n",
       "3                       NaN                     NaN         1.0    154.0   \n",
       "4                       NaN                     NaN         6.0    154.0   \n",
       "\n",
       "   measure_id  additional_id  \n",
       "0         NaN              0  \n",
       "1         NaN              0  \n",
       "2         NaN              0  \n",
       "3         NaN              0  \n",
       "4         NaN              0  "
      ]
     },
     "execution_count": 1589,
     "metadata": {},
     "output_type": "execute_result"
    }
   ],
   "source": [
    "df_measure_day_fact.head()"
   ]
  },
  {
   "cell_type": "code",
   "execution_count": 1590,
   "metadata": {
    "hidden": true
   },
   "outputs": [],
   "source": [
    "td = df_measure_day_fact"
   ]
  },
  {
   "cell_type": "code",
   "execution_count": 1591,
   "metadata": {
    "hidden": true
   },
   "outputs": [
    {
     "data": {
      "text/plain": [
       "Index(['index', 'cases', 'deaths', 'stringency_index',\n",
       "       'government_response_index', 'containment_health_index',\n",
       "       'economic_support_index', 'country_id', 'date_id', 'measure_id',\n",
       "       'additional_id'],\n",
       "      dtype='object')"
      ]
     },
     "execution_count": 1591,
     "metadata": {},
     "output_type": "execute_result"
    }
   ],
   "source": [
    "df_measure_day_fact.columns"
   ]
  },
  {
   "cell_type": "code",
   "execution_count": 1592,
   "metadata": {
    "hidden": true
   },
   "outputs": [
    {
     "data": {
      "text/html": [
       "<div>\n",
       "<style scoped>\n",
       "    .dataframe tbody tr th:only-of-type {\n",
       "        vertical-align: middle;\n",
       "    }\n",
       "\n",
       "    .dataframe tbody tr th {\n",
       "        vertical-align: top;\n",
       "    }\n",
       "\n",
       "    .dataframe thead th {\n",
       "        text-align: right;\n",
       "    }\n",
       "</style>\n",
       "<table border=\"1\" class=\"dataframe\">\n",
       "  <thead>\n",
       "    <tr style=\"text-align: right;\">\n",
       "      <th></th>\n",
       "      <th>index</th>\n",
       "      <th>cases</th>\n",
       "      <th>deaths</th>\n",
       "      <th>stringency_index</th>\n",
       "      <th>government_response_index</th>\n",
       "      <th>containment_health_index</th>\n",
       "      <th>economic_support_index</th>\n",
       "      <th>country_id</th>\n",
       "      <th>date_id</th>\n",
       "      <th>measure_id</th>\n",
       "      <th>additional_id</th>\n",
       "    </tr>\n",
       "  </thead>\n",
       "  <tbody>\n",
       "    <tr>\n",
       "      <th>0</th>\n",
       "      <td>0</td>\n",
       "      <td>545.0</td>\n",
       "      <td>8.0</td>\n",
       "      <td>NaN</td>\n",
       "      <td>NaN</td>\n",
       "      <td>NaN</td>\n",
       "      <td>NaN</td>\n",
       "      <td>0.0</td>\n",
       "      <td>154.0</td>\n",
       "      <td>NaN</td>\n",
       "      <td>0</td>\n",
       "    </tr>\n",
       "    <tr>\n",
       "      <th>1</th>\n",
       "      <td>1</td>\n",
       "      <td>6.0</td>\n",
       "      <td>0.0</td>\n",
       "      <td>NaN</td>\n",
       "      <td>NaN</td>\n",
       "      <td>NaN</td>\n",
       "      <td>NaN</td>\n",
       "      <td>2.0</td>\n",
       "      <td>154.0</td>\n",
       "      <td>NaN</td>\n",
       "      <td>0</td>\n",
       "    </tr>\n",
       "    <tr>\n",
       "      <th>2</th>\n",
       "      <td>2</td>\n",
       "      <td>119.0</td>\n",
       "      <td>8.0</td>\n",
       "      <td>NaN</td>\n",
       "      <td>NaN</td>\n",
       "      <td>NaN</td>\n",
       "      <td>NaN</td>\n",
       "      <td>47.0</td>\n",
       "      <td>154.0</td>\n",
       "      <td>NaN</td>\n",
       "      <td>0</td>\n",
       "    </tr>\n",
       "    <tr>\n",
       "      <th>3</th>\n",
       "      <td>4</td>\n",
       "      <td>0.0</td>\n",
       "      <td>0.0</td>\n",
       "      <td>NaN</td>\n",
       "      <td>NaN</td>\n",
       "      <td>NaN</td>\n",
       "      <td>NaN</td>\n",
       "      <td>1.0</td>\n",
       "      <td>154.0</td>\n",
       "      <td>NaN</td>\n",
       "      <td>0</td>\n",
       "    </tr>\n",
       "    <tr>\n",
       "      <th>4</th>\n",
       "      <td>5</td>\n",
       "      <td>0.0</td>\n",
       "      <td>0.0</td>\n",
       "      <td>NaN</td>\n",
       "      <td>NaN</td>\n",
       "      <td>NaN</td>\n",
       "      <td>NaN</td>\n",
       "      <td>6.0</td>\n",
       "      <td>154.0</td>\n",
       "      <td>NaN</td>\n",
       "      <td>0</td>\n",
       "    </tr>\n",
       "  </tbody>\n",
       "</table>\n",
       "</div>"
      ],
      "text/plain": [
       "   index  cases  deaths  stringency_index  government_response_index  \\\n",
       "0      0  545.0     8.0               NaN                        NaN   \n",
       "1      1    6.0     0.0               NaN                        NaN   \n",
       "2      2  119.0     8.0               NaN                        NaN   \n",
       "3      4    0.0     0.0               NaN                        NaN   \n",
       "4      5    0.0     0.0               NaN                        NaN   \n",
       "\n",
       "   containment_health_index  economic_support_index  country_id  date_id  \\\n",
       "0                       NaN                     NaN         0.0    154.0   \n",
       "1                       NaN                     NaN         2.0    154.0   \n",
       "2                       NaN                     NaN        47.0    154.0   \n",
       "3                       NaN                     NaN         1.0    154.0   \n",
       "4                       NaN                     NaN         6.0    154.0   \n",
       "\n",
       "   measure_id  additional_id  \n",
       "0         NaN              0  \n",
       "1         NaN              0  \n",
       "2         NaN              0  \n",
       "3         NaN              0  \n",
       "4         NaN              0  "
      ]
     },
     "execution_count": 1592,
     "metadata": {},
     "output_type": "execute_result"
    }
   ],
   "source": [
    "df_measure_day_fact.head()"
   ]
  },
  {
   "cell_type": "code",
   "execution_count": 1593,
   "metadata": {
    "hidden": true
   },
   "outputs": [
    {
     "data": {
      "text/html": [
       "<div>\n",
       "<style scoped>\n",
       "    .dataframe tbody tr th:only-of-type {\n",
       "        vertical-align: middle;\n",
       "    }\n",
       "\n",
       "    .dataframe tbody tr th {\n",
       "        vertical-align: top;\n",
       "    }\n",
       "\n",
       "    .dataframe thead th {\n",
       "        text-align: right;\n",
       "    }\n",
       "</style>\n",
       "<table border=\"1\" class=\"dataframe\">\n",
       "  <thead>\n",
       "    <tr style=\"text-align: right;\">\n",
       "      <th></th>\n",
       "      <th>cases</th>\n",
       "      <th>deaths</th>\n",
       "      <th>stringency_index</th>\n",
       "      <th>government_response_index</th>\n",
       "      <th>containment_health_index</th>\n",
       "      <th>economic_support_index</th>\n",
       "      <th>country_id</th>\n",
       "      <th>date_id</th>\n",
       "      <th>measure_id</th>\n",
       "      <th>additional_id</th>\n",
       "    </tr>\n",
       "  </thead>\n",
       "  <tbody>\n",
       "    <tr>\n",
       "      <th>0</th>\n",
       "      <td>545.0</td>\n",
       "      <td>8.0</td>\n",
       "      <td>NaN</td>\n",
       "      <td>NaN</td>\n",
       "      <td>NaN</td>\n",
       "      <td>NaN</td>\n",
       "      <td>0.0</td>\n",
       "      <td>154.0</td>\n",
       "      <td>NaN</td>\n",
       "      <td>0</td>\n",
       "    </tr>\n",
       "    <tr>\n",
       "      <th>1</th>\n",
       "      <td>6.0</td>\n",
       "      <td>0.0</td>\n",
       "      <td>NaN</td>\n",
       "      <td>NaN</td>\n",
       "      <td>NaN</td>\n",
       "      <td>NaN</td>\n",
       "      <td>2.0</td>\n",
       "      <td>154.0</td>\n",
       "      <td>NaN</td>\n",
       "      <td>0</td>\n",
       "    </tr>\n",
       "    <tr>\n",
       "      <th>2</th>\n",
       "      <td>119.0</td>\n",
       "      <td>8.0</td>\n",
       "      <td>NaN</td>\n",
       "      <td>NaN</td>\n",
       "      <td>NaN</td>\n",
       "      <td>NaN</td>\n",
       "      <td>47.0</td>\n",
       "      <td>154.0</td>\n",
       "      <td>NaN</td>\n",
       "      <td>0</td>\n",
       "    </tr>\n",
       "    <tr>\n",
       "      <th>3</th>\n",
       "      <td>0.0</td>\n",
       "      <td>0.0</td>\n",
       "      <td>NaN</td>\n",
       "      <td>NaN</td>\n",
       "      <td>NaN</td>\n",
       "      <td>NaN</td>\n",
       "      <td>1.0</td>\n",
       "      <td>154.0</td>\n",
       "      <td>NaN</td>\n",
       "      <td>0</td>\n",
       "    </tr>\n",
       "    <tr>\n",
       "      <th>4</th>\n",
       "      <td>0.0</td>\n",
       "      <td>0.0</td>\n",
       "      <td>NaN</td>\n",
       "      <td>NaN</td>\n",
       "      <td>NaN</td>\n",
       "      <td>NaN</td>\n",
       "      <td>6.0</td>\n",
       "      <td>154.0</td>\n",
       "      <td>NaN</td>\n",
       "      <td>0</td>\n",
       "    </tr>\n",
       "  </tbody>\n",
       "</table>\n",
       "</div>"
      ],
      "text/plain": [
       "   cases  deaths  stringency_index  government_response_index  \\\n",
       "0  545.0     8.0               NaN                        NaN   \n",
       "1    6.0     0.0               NaN                        NaN   \n",
       "2  119.0     8.0               NaN                        NaN   \n",
       "3    0.0     0.0               NaN                        NaN   \n",
       "4    0.0     0.0               NaN                        NaN   \n",
       "\n",
       "   containment_health_index  economic_support_index  country_id  date_id  \\\n",
       "0                       NaN                     NaN         0.0    154.0   \n",
       "1                       NaN                     NaN         2.0    154.0   \n",
       "2                       NaN                     NaN        47.0    154.0   \n",
       "3                       NaN                     NaN         1.0    154.0   \n",
       "4                       NaN                     NaN         6.0    154.0   \n",
       "\n",
       "   measure_id  additional_id  \n",
       "0         NaN              0  \n",
       "1         NaN              0  \n",
       "2         NaN              0  \n",
       "3         NaN              0  \n",
       "4         NaN              0  "
      ]
     },
     "execution_count": 1593,
     "metadata": {},
     "output_type": "execute_result"
    }
   ],
   "source": [
    "df_measure_day_fact.reset_index(inplace=True)\n",
    "df_measure_day_fact.drop(columns=[\"index\"],inplace=True)\n",
    "df_measure_day_fact.drop(columns=[\"level_0\"],inplace=True)\n",
    "df_measure_day_fact.head()"
   ]
  },
  {
   "cell_type": "code",
   "execution_count": 1594,
   "metadata": {
    "hidden": true
   },
   "outputs": [],
   "source": [
    "df_measure_day_fact[\"country_id\"] = df_measure_day_fact[\"country_id\"].astype(int)\n",
    "df_measure_day_fact[\"date_id\"] = df_measure_day_fact[\"date_id\"].astype(int)\n",
    "df_measure_day_fact[\"cases\"] = df_measure_day_fact[\"cases\"].astype(int)\n",
    "df_measure_day_fact[\"deaths\"] = df_measure_day_fact[\"deaths\"].astype(int)"
   ]
  },
  {
   "cell_type": "code",
   "execution_count": 1595,
   "metadata": {
    "hidden": true
   },
   "outputs": [
    {
     "data": {
      "text/html": [
       "<div>\n",
       "<style scoped>\n",
       "    .dataframe tbody tr th:only-of-type {\n",
       "        vertical-align: middle;\n",
       "    }\n",
       "\n",
       "    .dataframe tbody tr th {\n",
       "        vertical-align: top;\n",
       "    }\n",
       "\n",
       "    .dataframe thead th {\n",
       "        text-align: right;\n",
       "    }\n",
       "</style>\n",
       "<table border=\"1\" class=\"dataframe\">\n",
       "  <thead>\n",
       "    <tr style=\"text-align: right;\">\n",
       "      <th></th>\n",
       "      <th>cases</th>\n",
       "      <th>deaths</th>\n",
       "      <th>stringency_index</th>\n",
       "      <th>government_response_index</th>\n",
       "      <th>containment_health_index</th>\n",
       "      <th>economic_support_index</th>\n",
       "      <th>country_id</th>\n",
       "      <th>date_id</th>\n",
       "      <th>measure_id</th>\n",
       "      <th>additional_id</th>\n",
       "    </tr>\n",
       "  </thead>\n",
       "  <tbody>\n",
       "    <tr>\n",
       "      <th>0</th>\n",
       "      <td>545</td>\n",
       "      <td>8</td>\n",
       "      <td>NaN</td>\n",
       "      <td>NaN</td>\n",
       "      <td>NaN</td>\n",
       "      <td>NaN</td>\n",
       "      <td>0</td>\n",
       "      <td>154</td>\n",
       "      <td>NaN</td>\n",
       "      <td>0</td>\n",
       "    </tr>\n",
       "    <tr>\n",
       "      <th>1</th>\n",
       "      <td>6</td>\n",
       "      <td>0</td>\n",
       "      <td>NaN</td>\n",
       "      <td>NaN</td>\n",
       "      <td>NaN</td>\n",
       "      <td>NaN</td>\n",
       "      <td>2</td>\n",
       "      <td>154</td>\n",
       "      <td>NaN</td>\n",
       "      <td>0</td>\n",
       "    </tr>\n",
       "    <tr>\n",
       "      <th>2</th>\n",
       "      <td>119</td>\n",
       "      <td>8</td>\n",
       "      <td>NaN</td>\n",
       "      <td>NaN</td>\n",
       "      <td>NaN</td>\n",
       "      <td>NaN</td>\n",
       "      <td>47</td>\n",
       "      <td>154</td>\n",
       "      <td>NaN</td>\n",
       "      <td>0</td>\n",
       "    </tr>\n",
       "    <tr>\n",
       "      <th>3</th>\n",
       "      <td>0</td>\n",
       "      <td>0</td>\n",
       "      <td>NaN</td>\n",
       "      <td>NaN</td>\n",
       "      <td>NaN</td>\n",
       "      <td>NaN</td>\n",
       "      <td>1</td>\n",
       "      <td>154</td>\n",
       "      <td>NaN</td>\n",
       "      <td>0</td>\n",
       "    </tr>\n",
       "    <tr>\n",
       "      <th>4</th>\n",
       "      <td>0</td>\n",
       "      <td>0</td>\n",
       "      <td>NaN</td>\n",
       "      <td>NaN</td>\n",
       "      <td>NaN</td>\n",
       "      <td>NaN</td>\n",
       "      <td>6</td>\n",
       "      <td>154</td>\n",
       "      <td>NaN</td>\n",
       "      <td>0</td>\n",
       "    </tr>\n",
       "  </tbody>\n",
       "</table>\n",
       "</div>"
      ],
      "text/plain": [
       "   cases  deaths  stringency_index  government_response_index  \\\n",
       "0    545       8               NaN                        NaN   \n",
       "1      6       0               NaN                        NaN   \n",
       "2    119       8               NaN                        NaN   \n",
       "3      0       0               NaN                        NaN   \n",
       "4      0       0               NaN                        NaN   \n",
       "\n",
       "   containment_health_index  economic_support_index  country_id  date_id  \\\n",
       "0                       NaN                     NaN           0      154   \n",
       "1                       NaN                     NaN           2      154   \n",
       "2                       NaN                     NaN          47      154   \n",
       "3                       NaN                     NaN           1      154   \n",
       "4                       NaN                     NaN           6      154   \n",
       "\n",
       "   measure_id  additional_id  \n",
       "0         NaN              0  \n",
       "1         NaN              0  \n",
       "2         NaN              0  \n",
       "3         NaN              0  \n",
       "4         NaN              0  "
      ]
     },
     "execution_count": 1595,
     "metadata": {},
     "output_type": "execute_result"
    }
   ],
   "source": [
    "df_measure_day_fact.head()"
   ]
  },
  {
   "cell_type": "code",
   "execution_count": 1596,
   "metadata": {
    "hidden": true
   },
   "outputs": [
    {
     "data": {
      "text/html": [
       "<div>\n",
       "<style scoped>\n",
       "    .dataframe tbody tr th:only-of-type {\n",
       "        vertical-align: middle;\n",
       "    }\n",
       "\n",
       "    .dataframe tbody tr th {\n",
       "        vertical-align: top;\n",
       "    }\n",
       "\n",
       "    .dataframe thead th {\n",
       "        text-align: right;\n",
       "    }\n",
       "</style>\n",
       "<table border=\"1\" class=\"dataframe\">\n",
       "  <thead>\n",
       "    <tr style=\"text-align: right;\">\n",
       "      <th></th>\n",
       "      <th>date_id</th>\n",
       "      <th>country_id</th>\n",
       "      <th>measure_id</th>\n",
       "      <th>additional_id</th>\n",
       "      <th>cases</th>\n",
       "      <th>deaths</th>\n",
       "      <th>stringency_index</th>\n",
       "      <th>government_response_index</th>\n",
       "      <th>containment_health_index</th>\n",
       "      <th>economic_support_index</th>\n",
       "    </tr>\n",
       "  </thead>\n",
       "  <tbody>\n",
       "    <tr>\n",
       "      <th>0</th>\n",
       "      <td>0</td>\n",
       "      <td>48</td>\n",
       "      <td>NaN</td>\n",
       "      <td>0</td>\n",
       "      <td>0</td>\n",
       "      <td>0</td>\n",
       "      <td>NaN</td>\n",
       "      <td>NaN</td>\n",
       "      <td>NaN</td>\n",
       "      <td>NaN</td>\n",
       "    </tr>\n",
       "    <tr>\n",
       "      <th>1</th>\n",
       "      <td>0</td>\n",
       "      <td>76</td>\n",
       "      <td>NaN</td>\n",
       "      <td>0</td>\n",
       "      <td>0</td>\n",
       "      <td>0</td>\n",
       "      <td>NaN</td>\n",
       "      <td>NaN</td>\n",
       "      <td>NaN</td>\n",
       "      <td>NaN</td>\n",
       "    </tr>\n",
       "    <tr>\n",
       "      <th>2</th>\n",
       "      <td>0</td>\n",
       "      <td>75</td>\n",
       "      <td>NaN</td>\n",
       "      <td>0</td>\n",
       "      <td>0</td>\n",
       "      <td>0</td>\n",
       "      <td>NaN</td>\n",
       "      <td>NaN</td>\n",
       "      <td>NaN</td>\n",
       "      <td>NaN</td>\n",
       "    </tr>\n",
       "    <tr>\n",
       "      <th>3</th>\n",
       "      <td>0</td>\n",
       "      <td>72</td>\n",
       "      <td>NaN</td>\n",
       "      <td>0</td>\n",
       "      <td>0</td>\n",
       "      <td>0</td>\n",
       "      <td>NaN</td>\n",
       "      <td>NaN</td>\n",
       "      <td>NaN</td>\n",
       "      <td>NaN</td>\n",
       "    </tr>\n",
       "    <tr>\n",
       "      <th>4</th>\n",
       "      <td>0</td>\n",
       "      <td>73</td>\n",
       "      <td>NaN</td>\n",
       "      <td>0</td>\n",
       "      <td>0</td>\n",
       "      <td>0</td>\n",
       "      <td>NaN</td>\n",
       "      <td>NaN</td>\n",
       "      <td>NaN</td>\n",
       "      <td>NaN</td>\n",
       "    </tr>\n",
       "  </tbody>\n",
       "</table>\n",
       "</div>"
      ],
      "text/plain": [
       "   date_id  country_id  measure_id  additional_id  cases  deaths  \\\n",
       "0        0          48         NaN              0      0       0   \n",
       "1        0          76         NaN              0      0       0   \n",
       "2        0          75         NaN              0      0       0   \n",
       "3        0          72         NaN              0      0       0   \n",
       "4        0          73         NaN              0      0       0   \n",
       "\n",
       "   stringency_index  government_response_index  containment_health_index  \\\n",
       "0               NaN                        NaN                       NaN   \n",
       "1               NaN                        NaN                       NaN   \n",
       "2               NaN                        NaN                       NaN   \n",
       "3               NaN                        NaN                       NaN   \n",
       "4               NaN                        NaN                       NaN   \n",
       "\n",
       "   economic_support_index  \n",
       "0                     NaN  \n",
       "1                     NaN  \n",
       "2                     NaN  \n",
       "3                     NaN  \n",
       "4                     NaN  "
      ]
     },
     "execution_count": 1596,
     "metadata": {},
     "output_type": "execute_result"
    }
   ],
   "source": [
    "columns_names = [\"date_id\", \"country_id\", \"measure_id\", \"additional_id\", \n",
    "                 \"cases\", \"deaths\", \"stringency_index\", \"government_response_index\",\n",
    "                 \"containment_health_index\", \"economic_support_index\"]\n",
    "df_measure_day_fact = df_measure_day_fact[columns_names]\n",
    "df_measure_day_fact = df_measure_day_fact.sort_values(by=[\"date_id\"])\n",
    "\n",
    "df_measure_day_fact.reset_index(inplace=True)\n",
    "df_measure_day_fact.drop(columns=[\"index\"],inplace=True)\n",
    "\n",
    "df_measure_day_fact.head()"
   ]
  },
  {
   "cell_type": "markdown",
   "metadata": {
    "heading_collapsed": true,
    "hidden": true
   },
   "source": [
    "### Exporting tables as _csv_"
   ]
  },
  {
   "cell_type": "code",
   "execution_count": 1602,
   "metadata": {
    "hidden": true
   },
   "outputs": [],
   "source": [
    "df_country.to_csv(\"processedData/country_dim.csv\", index=False)"
   ]
  },
  {
   "cell_type": "code",
   "execution_count": 1604,
   "metadata": {
    "hidden": true
   },
   "outputs": [],
   "source": [
    "df_measure.to_csv(\"processedData/measure_dim.csv\", index=False)"
   ]
  },
  {
   "cell_type": "code",
   "execution_count": 1606,
   "metadata": {
    "hidden": true
   },
   "outputs": [],
   "source": [
    "df_date.to_csv(\"processedData/date_dim.csv\", index=False)"
   ]
  },
  {
   "cell_type": "code",
   "execution_count": 1608,
   "metadata": {
    "hidden": true
   },
   "outputs": [],
   "source": [
    "df_additional.to_csv(\"processedData/additional_dim.csv\", index=False)"
   ]
  },
  {
   "cell_type": "code",
   "execution_count": 1609,
   "metadata": {
    "hidden": true
   },
   "outputs": [],
   "source": [
    "df_measure_day_fact.to_csv(\"processedData/measure_day_fact.csv\", index=False)"
   ]
  },
  {
   "cell_type": "markdown",
   "metadata": {
    "heading_collapsed": true
   },
   "source": [
    "## Analysing with QGrid"
   ]
  },
  {
   "cell_type": "code",
   "execution_count": 1597,
   "metadata": {
    "hidden": true
   },
   "outputs": [],
   "source": [
    "import qgrid"
   ]
  },
  {
   "cell_type": "code",
   "execution_count": 1598,
   "metadata": {
    "hidden": true
   },
   "outputs": [],
   "source": [
    "qd = qgrid.QgridWidget(df=df_measure_day_fact, show_toolbar=True)"
   ]
  },
  {
   "cell_type": "code",
   "execution_count": 1599,
   "metadata": {
    "hidden": true,
    "scrolled": true
   },
   "outputs": [
    {
     "data": {
      "application/vnd.jupyter.widget-view+json": {
       "model_id": "33d3f5a4738c429586cea84585b81bcf",
       "version_major": 2,
       "version_minor": 0
      },
      "text/plain": [
       "QgridWidget(grid_options={'fullWidthRows': True, 'syncColumnCellResize': True, 'forceFitColumns': True, 'defau…"
      ]
     },
     "metadata": {},
     "output_type": "display_data"
    }
   ],
   "source": [
    "qd"
   ]
  }
 ],
 "metadata": {
  "kernelspec": {
   "display_name": "Python 3",
   "language": "python",
   "name": "python3"
  },
  "language_info": {
   "codemirror_mode": {
    "name": "ipython",
    "version": 3
   },
   "file_extension": ".py",
   "mimetype": "text/x-python",
   "name": "python",
   "nbconvert_exporter": "python",
   "pygments_lexer": "ipython3",
   "version": "3.6.8"
  },
  "toc": {
   "base_numbering": 1,
   "nav_menu": {},
   "number_sections": true,
   "sideBar": true,
   "skip_h1_title": false,
   "title_cell": "Table of Contents",
   "title_sidebar": "Contents",
   "toc_cell": false,
   "toc_position": {},
   "toc_section_display": true,
   "toc_window_display": false
  },
  "varInspector": {
   "cols": {
    "lenName": 16,
    "lenType": 16,
    "lenVar": 40
   },
   "kernels_config": {
    "python": {
     "delete_cmd_postfix": "",
     "delete_cmd_prefix": "del ",
     "library": "var_list.py",
     "varRefreshCmd": "print(var_dic_list())"
    },
    "r": {
     "delete_cmd_postfix": ") ",
     "delete_cmd_prefix": "rm(",
     "library": "var_list.r",
     "varRefreshCmd": "cat(var_dic_list()) "
    }
   },
   "position": {
    "height": "497.986px",
    "left": "778.997px",
    "right": "20px",
    "top": "95px",
    "width": "800px"
   },
   "types_to_exclude": [
    "module",
    "function",
    "builtin_function_or_method",
    "instance",
    "_Feature"
   ],
   "window_display": false
  }
 },
 "nbformat": 4,
 "nbformat_minor": 2
}
